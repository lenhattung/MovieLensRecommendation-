{
 "cells": [
  {
   "cell_type": "code",
   "execution_count": null,
   "id": "8d8fade6",
   "metadata": {},
   "outputs": [],
   "source": [
    "# NHAT TUNG LE, ID 426246\n",
    "# LAB QUEST - 3"
   ]
  },
  {
   "cell_type": "code",
   "execution_count": null,
   "id": "2327d23a",
   "metadata": {},
   "outputs": [],
   "source": [
    "# install pyspark\n",
    "!pip install pyspark"
   ]
  },
  {
   "cell_type": "code",
   "execution_count": 2,
   "id": "f08af9e0",
   "metadata": {},
   "outputs": [],
   "source": [
    "import os\n",
    "from pyspark import SparkContext\n",
    "from pyspark.sql import SQLContext, SparkSession "
   ]
  },
  {
   "cell_type": "code",
   "execution_count": 3,
   "id": "cd527c7c",
   "metadata": {},
   "outputs": [
    {
     "data": {
      "text/plain": [
       "['genome-scores.csv',\n",
       " 'genome-tags.csv',\n",
       " 'links.csv',\n",
       " 'movies.csv',\n",
       " 'ratings.csv',\n",
       " 'README.txt',\n",
       " 'tags.csv']"
      ]
     },
     "execution_count": 3,
     "metadata": {},
     "output_type": "execute_result"
    }
   ],
   "source": [
    "# Change oath\n",
    "path = \"C:/Users/Windows/Documents/GitHub/movielens/ml-20m/ml-20m\"\n",
    "os.chdir(path)\n",
    "os.listdir()"
   ]
  },
  {
   "cell_type": "code",
   "execution_count": null,
   "id": "886149b1",
   "metadata": {},
   "outputs": [],
   "source": []
  }
 ],
 "metadata": {
  "kernelspec": {
   "display_name": "Python 3 (ipykernel)",
   "language": "python",
   "name": "python3"
  },
  "language_info": {
   "codemirror_mode": {
    "name": "ipython",
    "version": 3
   },
   "file_extension": ".py",
   "mimetype": "text/x-python",
   "name": "python",
   "nbconvert_exporter": "python",
   "pygments_lexer": "ipython3",
   "version": "3.9.12"
  }
 },
 "nbformat": 4,
 "nbformat_minor": 5
}
