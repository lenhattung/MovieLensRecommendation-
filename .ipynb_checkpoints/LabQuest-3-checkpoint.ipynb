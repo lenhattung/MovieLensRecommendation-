{
 "cells": [
  {
   "cell_type": "code",
   "execution_count": null,
   "id": "d636014b",
   "metadata": {},
   "outputs": [],
   "source": [
    "# NHAT TUNG LE, ID 426246\n",
    "# LAB QUEST - 3"
   ]
  },
  {
   "cell_type": "code",
   "execution_count": 4,
   "id": "cd066164",
   "metadata": {},
   "outputs": [
    {
     "name": "stdout",
     "output_type": "stream",
     "text": [
      "Defaulting to user installation because normal site-packages is not writeable\n",
      "Collecting pyspark\n",
      "  Downloading pyspark-3.3.1.tar.gz (281.4 MB)\n",
      "Collecting py4j==0.10.9.5\n",
      "  Downloading py4j-0.10.9.5-py2.py3-none-any.whl (199 kB)\n",
      "Building wheels for collected packages: pyspark\n",
      "  Building wheel for pyspark (setup.py): started\n",
      "  Building wheel for pyspark (setup.py): still running...\n",
      "  Building wheel for pyspark (setup.py): finished with status 'done'\n",
      "  Created wheel for pyspark: filename=pyspark-3.3.1-py2.py3-none-any.whl size=281845525 sha256=3d76fa9350c366fde3160a8d0d234a6abf9c6290747ba26dc2437d995c1ceeb3\n",
      "  Stored in directory: c:\\users\\windows\\appdata\\local\\pip\\cache\\wheels\\51\\c8\\18\\298a4ced8ebb3ab8a7d26a7198c0cc7035abb906bde94a4c4b\n",
      "Successfully built pyspark\n",
      "Installing collected packages: py4j, pyspark\n",
      "Successfully installed py4j-0.10.9.5 pyspark-3.3.1\n"
     ]
    }
   ],
   "source": [
    "# install pyspark\n",
    "!pip install pyspark"
   ]
  },
  {
   "cell_type": "code",
   "execution_count": 5,
   "id": "a3b4d1dd",
   "metadata": {},
   "outputs": [],
   "source": [
    "import os\n",
    "from pyspark import SparkContext\n",
    "from pyspark.sql import SQLContext, SparkSession "
   ]
  },
  {
   "cell_type": "code",
   "execution_count": 3,
   "id": "4f516f6d",
   "metadata": {},
   "outputs": [
    {
     "data": {
      "text/plain": [
       "['genome-scores.csv',\n",
       " 'genome-tags.csv',\n",
       " 'links.csv',\n",
       " 'movies.csv',\n",
       " 'ratings.csv',\n",
       " 'README.txt',\n",
       " 'tags.csv']"
      ]
     },
     "execution_count": 3,
     "metadata": {},
     "output_type": "execute_result"
    }
   ],
   "source": [
    "# Change oath\n",
    "path = \"C:/Users/Windows/Documents/GitHub/movielens/ml-20m/ml-20m\"\n",
    "os.chdir(path)\n",
    "os.listdir()"
   ]
  },
  {
   "cell_type": "code",
   "execution_count": 6,
   "id": "7abe926f",
   "metadata": {},
   "outputs": [
    {
     "name": "stdout",
     "output_type": "stream",
     "text": [
      "+-------+--------------------+--------------------+\n",
      "|movieId|               title|              genres|\n",
      "+-------+--------------------+--------------------+\n",
      "|      1|    Toy Story (1995)|Adventure|Animati...|\n",
      "|      2|      Jumanji (1995)|Adventure|Childre...|\n",
      "|      3|Grumpier Old Men ...|      Comedy|Romance|\n",
      "|      4|Waiting to Exhale...|Comedy|Drama|Romance|\n",
      "|      5|Father of the Bri...|              Comedy|\n",
      "|      6|         Heat (1995)|Action|Crime|Thri...|\n",
      "|      7|      Sabrina (1995)|      Comedy|Romance|\n",
      "|      8| Tom and Huck (1995)|  Adventure|Children|\n",
      "|      9| Sudden Death (1995)|              Action|\n",
      "|     10|    GoldenEye (1995)|Action|Adventure|...|\n",
      "|     11|American Presiden...|Comedy|Drama|Romance|\n",
      "|     12|Dracula: Dead and...|       Comedy|Horror|\n",
      "|     13|        Balto (1995)|Adventure|Animati...|\n",
      "|     14|        Nixon (1995)|               Drama|\n",
      "|     15|Cutthroat Island ...|Action|Adventure|...|\n",
      "|     16|       Casino (1995)|         Crime|Drama|\n",
      "|     17|Sense and Sensibi...|       Drama|Romance|\n",
      "|     18|   Four Rooms (1995)|              Comedy|\n",
      "|     19|Ace Ventura: When...|              Comedy|\n",
      "|     20|  Money Train (1995)|Action|Comedy|Cri...|\n",
      "+-------+--------------------+--------------------+\n",
      "only showing top 20 rows\n",
      "\n",
      "root\n",
      " |-- movieId: integer (nullable = true)\n",
      " |-- title: string (nullable = true)\n",
      " |-- genres: string (nullable = true)\n",
      "\n"
     ]
    }
   ],
   "source": [
    "# create spark\n",
    "spark = SparkSession.builder.master('local[*]').appName(\"Movie Lens Recommendation\").getOrCreate()"
   ]
  },
  {
   "cell_type": "code",
   "execution_count": null,
   "id": "10c68731",
   "metadata": {},
   "outputs": [],
   "source": [
    "# check shcema\n",
    "\n",
    "## movies\n",
    "genome_scores_df = spark.read.csv(\"genome-scores.csv\", sep=\",\", header = True, inferSchema=True, nullValue=\"NA\")\n",
    "genome_scores_df.show() \n",
    "genome_scores_df.printSchema()\n",
    "\n",
    "## movies\n",
    "genome-tags_df = spark.read.csv(\"genome-tags.csv\", sep=\",\", header = True, inferSchema=True, nullValue=\"NA\")\n",
    "movies_df.show() \n",
    "movies_df.printSchema()\n",
    "\n",
    "## movies\n",
    "movies_df = spark.read.csv(\"movies.csv\", sep=\",\", header = True, inferSchema=True, nullValue=\"NA\")\n",
    "movies_df.show() \n",
    "movies_df.printSchema()\n",
    "\n",
    "## movies\n",
    "movies_df = spark.read.csv(\"movies.csv\", sep=\",\", header = True, inferSchema=True, nullValue=\"NA\")\n",
    "movies_df.show() \n",
    "movies_df.printSchema()\n",
    "\n",
    "## movies\n",
    "movies_df = spark.read.csv(\"movies.csv\", sep=\",\", header = True, inferSchema=True, nullValue=\"NA\")\n",
    "movies_df.show() \n",
    "movies_df.printSchema()\n",
    "\n",
    "## movies\n",
    "movies_df = spark.read.csv(\"movies.csv\", sep=\",\", header = True, inferSchema=True, nullValue=\"NA\")\n",
    "movies_df.show() \n",
    "movies_df.printSchema()\n",
    "\n",
    "\n"
   ]
  },
  {
   "cell_type": "code",
   "execution_count": null,
   "id": "3b3b3399",
   "metadata": {},
   "outputs": [],
   "source": []
  }
 ],
 "metadata": {
  "kernelspec": {
   "display_name": "Python 3 (ipykernel)",
   "language": "python",
   "name": "python3"
  },
  "language_info": {
   "codemirror_mode": {
    "name": "ipython",
    "version": 3
   },
   "file_extension": ".py",
   "mimetype": "text/x-python",
   "name": "python",
   "nbconvert_exporter": "python",
   "pygments_lexer": "ipython3",
   "version": "3.9.12"
  }
 },
 "nbformat": 4,
 "nbformat_minor": 5
}
