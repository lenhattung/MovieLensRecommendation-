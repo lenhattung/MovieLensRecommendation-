{
 "cells": [
  {
   "cell_type": "markdown",
   "id": "b818a2db",
   "metadata": {},
   "source": [
    "## Big Data Analytics - Lab Quest 3\n",
    "### Instructure: Michał Rudko\n",
    "### Student: Nhat Tung Le, Id 426246, Group 1"
   ]
  },
  {
   "cell_type": "markdown",
   "id": "eb1f4b34",
   "metadata": {},
   "source": [
    "# Abstract\n",
    "\n",
    "Recommender System uses AI technology to analyze and understand personal data blocks, thereby, making predictions, suggesting recommendations that match the user's preferences at the time. any on online applications and platforms to save time searching, easy access to content, and at the same time, help businesses improve customer experience.\n",
    "\n",
    "In this project, I use Apache Spark, SQL, and MLib for data analysis, and build a recommendation system based on the MovieLens dataset."
   ]
  },
  {
   "cell_type": "markdown",
   "id": "0d440e4f",
   "metadata": {},
   "source": [
    "# 1. Introduction"
   ]
  },
  {
   "cell_type": "markdown",
   "id": "4148a8ef",
   "metadata": {},
   "source": [
    "## 1.1. Apache Spark \n",
    "\n",
    "Apache Spark is an open source cluster computing framework, originally developed in 2009 by AMPLab. Later on, Spark was given to Apache Software Foundation in 2013 and developed to date.\n",
    "\n",
    "Spark's processing speed is achieved because the computation is done at the same time on many different machines. At the same time, the calculation is done in internal memory (in-memories) or done entirely in RAM.\n",
    "\n",
    "Spark allows real-time data processing, both receiving data from different sources and immediately performing processing on the received data (Spark Streaming).\n",
    "\n",
    "Spark does not have its own file system, it uses other file systems such as: HDFS, Cassandra, S3,.... Spark supports many different file formats (text, csv, json…) and it is completely independent of any file system.\n",
    "\n",
    "Apache Spark consists of 5 main components: Spark Core, Spark Streaming, Spark SQL, MLlib and GraphX."
   ]
  },
  {
   "cell_type": "markdown",
   "id": "0e53d809",
   "metadata": {},
   "source": [
    "## 1.2. PyPark\n",
    "\n",
    "PySpark is the Python API for Apache Spark, an open source, distributed computing framework and set of libraries for real-time, large-scale data processing. If you’re already familiar with Python and libraries such as Pandas, then PySpark is a good language to learn to create more scalable analyses and pipelines."
   ]
  },
  {
   "cell_type": "markdown",
   "id": "b95d8c6a",
   "metadata": {},
   "source": [
    "To install PysPark, we can use the following command:"
   ]
  },
  {
   "cell_type": "code",
   "execution_count": 54,
   "id": "3487b00c",
   "metadata": {},
   "outputs": [],
   "source": [
    "# !pip install pyspark"
   ]
  },
  {
   "cell_type": "markdown",
   "id": "2a18b85f",
   "metadata": {},
   "source": [
    "## 1.3. MLlib\n",
    "\n",
    "MLlib is Spark’s machine learning (ML) library. Its goal is to make practical machine learning scalable and easy. At a high level, it provides tools such as:\n",
    "* ML Algorithms: common learning algorithms such as classification, regression, clustering, and collaborative filtering\n",
    "* Featurization: feature extraction, transformation, dimensionality reduction, and selection\n",
    "* Pipelines: tools for constructing, evaluating, and tuning ML Pipelines\n",
    "* Persistence: saving and load algorithms, models, and Pipelines\n",
    "* Utilities: linear algebra, statistics, data handling, etc."
   ]
  },
  {
   "cell_type": "markdown",
   "id": "a0769bdb",
   "metadata": {},
   "source": [
    "## 1.4. MovieLens 20M Dataset\n",
    "\n",
    "MovieLens 20M movie ratings. Stable benchmark dataset. 20 million ratings and 465,000 tag applications applied to 27,000 movies by 138,000 users. Includes tag genome data with 12 million relevance scores across 1,100 tags. Released 4/2015; updated 10/2016 to update links.csv and add tag genome data.\n",
    "\n",
    "Link: <a href=\"https://grouplens.org/datasets/movielens/20m/\">https://grouplens.org/datasets/movielens/20m/</a>"
   ]
  },
  {
   "cell_type": "markdown",
   "id": "78178c7b",
   "metadata": {},
   "source": [
    "# 2. Exploratory data analysis"
   ]
  },
  {
   "cell_type": "markdown",
   "id": "78e1c423",
   "metadata": {},
   "source": [
    "## 2.1. Libs and create spark app"
   ]
  },
  {
   "cell_type": "code",
   "execution_count": 143,
   "id": "c4bcf1be",
   "metadata": {},
   "outputs": [],
   "source": [
    "# Required libraries:\n",
    "import os\n",
    "import matplotlib.pyplot as plt\n",
    "import seaborn as sns\n",
    "import pandas as pd\n",
    "import numpy as np\n",
    "from pyspark import SparkContext\n",
    "from pyspark.sql import SQLContext, SparkSession \n",
    "from pyspark.sql import functions as F \n",
    "from pyspark.sql.functions import col, split, explode\n",
    "from pyspark.sql.functions import sum as _sum\n",
    "from pyspark.sql.functions import countDistinct as _countDistinct\n",
    "from pyspark.sql.functions import avg as _avg\n",
    "from pyspark.sql.functions import rank\n",
    "from pyspark.sql.functions import substring,length\n",
    "from pyspark.sql.types import DateType, StringType, FloatType, IntegerType \n",
    "from pyspark.ml.feature import StringIndexer\n",
    "from pyspark.ml.classification import DecisionTreeClassifier\n",
    "from pyspark.ml.regression import LinearRegression\n",
    "from pyspark.ml.regression import DecisionTreeRegressor\n",
    "from pyspark.ml.evaluation import RegressionEvaluator\n",
    "from pyspark.ml.evaluation import RegressionEvaluator\n",
    "from pyspark.ml.recommendation import ALS\n",
    "from pyspark.ml.tuning import ParamGridBuilder, CrossValidator\n",
    "from pyspark.sql.window import Window\n"
   ]
  },
  {
   "cell_type": "code",
   "execution_count": 58,
   "id": "e3911cd0",
   "metadata": {},
   "outputs": [
    {
     "data": {
      "text/plain": [
       "['genome-scores.csv',\n",
       " 'genome-tags.csv',\n",
       " 'links.csv',\n",
       " 'movies.csv',\n",
       " 'ratings.csv',\n",
       " 'README.txt',\n",
       " 'tags.csv']"
      ]
     },
     "execution_count": 58,
     "metadata": {},
     "output_type": "execute_result"
    }
   ],
   "source": [
    "# Change chdir, check files\n",
    "path = \"C:/Users/Windows/Documents/GitHub/movielens/ml-20m/ml-20m\"\n",
    "os.chdir(path)\n",
    "os.listdir()"
   ]
  },
  {
   "cell_type": "code",
   "execution_count": 59,
   "id": "ecdfbf10",
   "metadata": {},
   "outputs": [],
   "source": [
    "# Create spark\n",
    "spark = SparkSession.builder.master('local[*]').appName(\"MovieLens\").getOrCreate()"
   ]
  },
  {
   "cell_type": "markdown",
   "id": "d1193b25",
   "metadata": {},
   "source": [
    "## 2.2. Check schema and create DataFrame"
   ]
  },
  {
   "cell_type": "code",
   "execution_count": 62,
   "id": "75265c5a",
   "metadata": {},
   "outputs": [
    {
     "name": "stdout",
     "output_type": "stream",
     "text": [
      "+-------+--------------------+--------------------+\n",
      "|movieId|               title|              genres|\n",
      "+-------+--------------------+--------------------+\n",
      "|      1|    Toy Story (1995)|Adventure|Animati...|\n",
      "|      2|      Jumanji (1995)|Adventure|Childre...|\n",
      "|      3|Grumpier Old Men ...|      Comedy|Romance|\n",
      "|      4|Waiting to Exhale...|Comedy|Drama|Romance|\n",
      "|      5|Father of the Bri...|              Comedy|\n",
      "|      6|         Heat (1995)|Action|Crime|Thri...|\n",
      "|      7|      Sabrina (1995)|      Comedy|Romance|\n",
      "|      8| Tom and Huck (1995)|  Adventure|Children|\n",
      "|      9| Sudden Death (1995)|              Action|\n",
      "|     10|    GoldenEye (1995)|Action|Adventure|...|\n",
      "|     11|American Presiden...|Comedy|Drama|Romance|\n",
      "|     12|Dracula: Dead and...|       Comedy|Horror|\n",
      "|     13|        Balto (1995)|Adventure|Animati...|\n",
      "|     14|        Nixon (1995)|               Drama|\n",
      "|     15|Cutthroat Island ...|Action|Adventure|...|\n",
      "|     16|       Casino (1995)|         Crime|Drama|\n",
      "|     17|Sense and Sensibi...|       Drama|Romance|\n",
      "|     18|   Four Rooms (1995)|              Comedy|\n",
      "|     19|Ace Ventura: When...|              Comedy|\n",
      "|     20|  Money Train (1995)|Action|Comedy|Cri...|\n",
      "+-------+--------------------+--------------------+\n",
      "only showing top 20 rows\n",
      "\n",
      "root\n",
      " |-- movieId: integer (nullable = true)\n",
      " |-- title: string (nullable = true)\n",
      " |-- genres: string (nullable = true)\n",
      "\n"
     ]
    }
   ],
   "source": [
    "## movies\n",
    "movies_df = spark.read.csv(\"movies.csv\", sep=\",\", header = True, inferSchema=True, nullValue=\"NA\")\n",
    "movies_df.show() \n",
    "movies_df.printSchema()"
   ]
  },
  {
   "cell_type": "code",
   "execution_count": 63,
   "id": "227055c8",
   "metadata": {},
   "outputs": [
    {
     "name": "stdout",
     "output_type": "stream",
     "text": [
      "+------+-------+-----------------+----------+\n",
      "|userId|movieId|              tag| timestamp|\n",
      "+------+-------+-----------------+----------+\n",
      "|    18|   4141|      Mark Waters|1240597180|\n",
      "|    65|    208|        dark hero|1368150078|\n",
      "|    65|    353|        dark hero|1368150079|\n",
      "|    65|    521|    noir thriller|1368149983|\n",
      "|    65|    592|        dark hero|1368150078|\n",
      "|    65|    668|        bollywood|1368149876|\n",
      "|    65|    898| screwball comedy|1368150160|\n",
      "|    65|   1248|    noir thriller|1368149983|\n",
      "|    65|   1391|             mars|1368150055|\n",
      "|    65|   1617|         neo-noir|1368150217|\n",
      "|    65|   1694|            jesus|1368149925|\n",
      "|    65|   1783|    noir thriller|1368149983|\n",
      "|    65|   2022|            jesus|1368149925|\n",
      "|    65|   2193|           dragon|1368151314|\n",
      "|    65|   2353|conspiracy theory|1368151266|\n",
      "|    65|   2662|             mars|1368150055|\n",
      "|    65|   2726|    noir thriller|1368149983|\n",
      "|    65|   2840|            jesus|1368149925|\n",
      "|    65|   3052|            jesus|1368149926|\n",
      "|    65|   5135|        bollywood|1368149876|\n",
      "+------+-------+-----------------+----------+\n",
      "only showing top 20 rows\n",
      "\n",
      "root\n",
      " |-- userId: integer (nullable = true)\n",
      " |-- movieId: integer (nullable = true)\n",
      " |-- tag: string (nullable = true)\n",
      " |-- timestamp: integer (nullable = true)\n",
      "\n"
     ]
    }
   ],
   "source": [
    "## tags\n",
    "tags_df = spark.read.csv(\"tags.csv\", sep=\",\", header = True, inferSchema=True, nullValue=\"NA\")\n",
    "tags_df.show() \n",
    "tags_df.printSchema()"
   ]
  },
  {
   "cell_type": "code",
   "execution_count": 64,
   "id": "fa1887a9",
   "metadata": {},
   "outputs": [
    {
     "name": "stdout",
     "output_type": "stream",
     "text": [
      "+------+-------+------+----------+\n",
      "|userId|movieId|rating| timestamp|\n",
      "+------+-------+------+----------+\n",
      "|     1|      2|   3.5|1112486027|\n",
      "|     1|     29|   3.5|1112484676|\n",
      "|     1|     32|   3.5|1112484819|\n",
      "|     1|     47|   3.5|1112484727|\n",
      "|     1|     50|   3.5|1112484580|\n",
      "|     1|    112|   3.5|1094785740|\n",
      "|     1|    151|   4.0|1094785734|\n",
      "|     1|    223|   4.0|1112485573|\n",
      "|     1|    253|   4.0|1112484940|\n",
      "|     1|    260|   4.0|1112484826|\n",
      "|     1|    293|   4.0|1112484703|\n",
      "|     1|    296|   4.0|1112484767|\n",
      "|     1|    318|   4.0|1112484798|\n",
      "|     1|    337|   3.5|1094785709|\n",
      "|     1|    367|   3.5|1112485980|\n",
      "|     1|    541|   4.0|1112484603|\n",
      "|     1|    589|   3.5|1112485557|\n",
      "|     1|    593|   3.5|1112484661|\n",
      "|     1|    653|   3.0|1094785691|\n",
      "|     1|    919|   3.5|1094785621|\n",
      "+------+-------+------+----------+\n",
      "only showing top 20 rows\n",
      "\n",
      "root\n",
      " |-- userId: integer (nullable = true)\n",
      " |-- movieId: integer (nullable = true)\n",
      " |-- rating: double (nullable = true)\n",
      " |-- timestamp: integer (nullable = true)\n",
      "\n"
     ]
    }
   ],
   "source": [
    "## ratings\n",
    "ratings_df = spark.read.csv(\"ratings.csv\", sep=\",\", header = True, inferSchema=True, nullValue=\"NA\")\n",
    "ratings_df.show() \n",
    "ratings_df.printSchema()"
   ]
  },
  {
   "cell_type": "code",
   "execution_count": 65,
   "id": "fcdbeb1c",
   "metadata": {},
   "outputs": [
    {
     "name": "stdout",
     "output_type": "stream",
     "text": [
      "+-------+------+------+\n",
      "|movieId|imdbId|tmdbId|\n",
      "+-------+------+------+\n",
      "|      1|114709|   862|\n",
      "|      2|113497|  8844|\n",
      "|      3|113228| 15602|\n",
      "|      4|114885| 31357|\n",
      "|      5|113041| 11862|\n",
      "|      6|113277|   949|\n",
      "|      7|114319| 11860|\n",
      "|      8|112302| 45325|\n",
      "|      9|114576|  9091|\n",
      "|     10|113189|   710|\n",
      "|     11|112346|  9087|\n",
      "|     12|112896| 12110|\n",
      "|     13|112453| 21032|\n",
      "|     14|113987| 10858|\n",
      "|     15|112760|  1408|\n",
      "|     16|112641|   524|\n",
      "|     17|114388|  4584|\n",
      "|     18|113101|     5|\n",
      "|     19|112281|  9273|\n",
      "|     20|113845| 11517|\n",
      "+-------+------+------+\n",
      "only showing top 20 rows\n",
      "\n",
      "root\n",
      " |-- movieId: integer (nullable = true)\n",
      " |-- imdbId: integer (nullable = true)\n",
      " |-- tmdbId: integer (nullable = true)\n",
      "\n"
     ]
    }
   ],
   "source": [
    "## links\n",
    "links_df = spark.read.csv(\"links.csv\", sep=\",\", header = True, inferSchema=True, nullValue=\"NA\")\n",
    "links_df.show() \n",
    "links_df.printSchema()"
   ]
  },
  {
   "cell_type": "code",
   "execution_count": 66,
   "id": "09c9ccbf",
   "metadata": {},
   "outputs": [
    {
     "name": "stdout",
     "output_type": "stream",
     "text": [
      "+-----+---------------+\n",
      "|tagId|            tag|\n",
      "+-----+---------------+\n",
      "|    1|            007|\n",
      "|    2|   007 (series)|\n",
      "|    3|   18th century|\n",
      "|    4|          1920s|\n",
      "|    5|          1930s|\n",
      "|    6|          1950s|\n",
      "|    7|          1960s|\n",
      "|    8|          1970s|\n",
      "|    9|          1980s|\n",
      "|   10|   19th century|\n",
      "|   11|             3d|\n",
      "|   12|           70mm|\n",
      "|   13|            80s|\n",
      "|   14|           9/11|\n",
      "|   15|        aardman|\n",
      "|   16|aardman studios|\n",
      "|   17|       abortion|\n",
      "|   18|         absurd|\n",
      "|   19|         action|\n",
      "|   20|  action packed|\n",
      "+-----+---------------+\n",
      "only showing top 20 rows\n",
      "\n",
      "root\n",
      " |-- tagId: integer (nullable = true)\n",
      " |-- tag: string (nullable = true)\n",
      "\n"
     ]
    }
   ],
   "source": [
    "## genome-tags\n",
    "genome_tags_df = spark.read.csv(\"genome-tags.csv\", sep=\",\", header = True, inferSchema=True, nullValue=\"NA\")\n",
    "genome_tags_df.show() \n",
    "genome_tags_df.printSchema()"
   ]
  },
  {
   "cell_type": "code",
   "execution_count": 68,
   "id": "132b5990",
   "metadata": {},
   "outputs": [
    {
     "name": "stdout",
     "output_type": "stream",
     "text": [
      "+-------+-----+--------------------+\n",
      "|movieId|tagId|           relevance|\n",
      "+-------+-----+--------------------+\n",
      "|      1|    1|0.025000000000000022|\n",
      "|      1|    2|0.025000000000000022|\n",
      "|      1|    3|0.057750000000000024|\n",
      "|      1|    4|             0.09675|\n",
      "|      1|    5|             0.14675|\n",
      "|      1|    6| 0.21700000000000003|\n",
      "|      1|    7|               0.067|\n",
      "|      1|    8| 0.26275000000000004|\n",
      "|      1|    9|               0.262|\n",
      "|      1|   10| 0.03199999999999997|\n",
      "|      1|   11|               0.577|\n",
      "|      1|   12| 0.11625000000000002|\n",
      "|      1|   13|               0.188|\n",
      "|      1|   14|0.008000000000000007|\n",
      "|      1|   15|0.036750000000000005|\n",
      "|      1|   16| 0.28174999999999994|\n",
      "|      1|   17|0.007000000000000006|\n",
      "|      1|   18| 0.11049999999999999|\n",
      "|      1|   19|              0.6705|\n",
      "|      1|   20|              0.1845|\n",
      "+-------+-----+--------------------+\n",
      "only showing top 20 rows\n",
      "\n",
      "root\n",
      " |-- movieId: integer (nullable = true)\n",
      " |-- tagId: integer (nullable = true)\n",
      " |-- relevance: double (nullable = true)\n",
      "\n"
     ]
    }
   ],
   "source": [
    "## genome-scores\n",
    "genome_scores_df = spark.read.csv(\"genome-scores.csv\", sep=\",\", header = True, inferSchema=True, nullValue=\"NA\")\n",
    "genome_scores_df.show() \n",
    "genome_scores_df.printSchema()"
   ]
  },
  {
   "cell_type": "code",
   "execution_count": 71,
   "id": "d18c9e9e",
   "metadata": {},
   "outputs": [
    {
     "data": {
      "text/plain": [
       "DataFrame[movieId: int, title: string, genres: string]"
      ]
     },
     "metadata": {},
     "output_type": "display_data"
    },
    {
     "data": {
      "text/plain": [
       "DataFrame[userId: int, movieId: int, tag: string, timestamp: int]"
      ]
     },
     "metadata": {},
     "output_type": "display_data"
    },
    {
     "data": {
      "text/plain": [
       "DataFrame[tagId: int, tag: string]"
      ]
     },
     "metadata": {},
     "output_type": "display_data"
    },
    {
     "data": {
      "text/plain": [
       "DataFrame[movieId: int, tagId: int, relevance: double]"
      ]
     },
     "metadata": {},
     "output_type": "display_data"
    },
    {
     "data": {
      "text/plain": [
       "DataFrame[movieId: int, imdbId: int, tmdbId: int]"
      ]
     },
     "metadata": {},
     "output_type": "display_data"
    },
    {
     "data": {
      "text/plain": [
       "DataFrame[userId: int, movieId: int, rating: double, timestamp: int]"
      ]
     },
     "metadata": {},
     "output_type": "display_data"
    }
   ],
   "source": [
    "# Summary all DataFrame\n",
    "display(movies_df)\n",
    "display(tags_df)\n",
    "display(genome_tags_df)\n",
    "display(genome_scores_df)\n",
    "display(links_df)\n",
    "display(ratings_df)"
   ]
  },
  {
   "cell_type": "markdown",
   "id": "9a8d7744",
   "metadata": {},
   "source": [
    "## 2.3. Informations"
   ]
  },
  {
   "cell_type": "code",
   "execution_count": 75,
   "id": "5fc16117",
   "metadata": {},
   "outputs": [
    {
     "name": "stdout",
     "output_type": "stream",
     "text": [
      "Number of unique movies: 27278\n"
     ]
    }
   ],
   "source": [
    "# Number of unique movies\n",
    "movies_df.createOrReplaceTempView(\"movies\")\n",
    "unique_movies = spark.sql(\"SELECT COUNT(DISTINCT movieId) FROM movies\").collect()[0][0]\n",
    "print(\"Number of unique movies:\", unique_movies)"
   ]
  },
  {
   "cell_type": "code",
   "execution_count": 76,
   "id": "0b82c1aa",
   "metadata": {},
   "outputs": [
    {
     "name": "stdout",
     "output_type": "stream",
     "text": [
      "Number of users participating in rating points for movies: 138493\n"
     ]
    }
   ],
   "source": [
    "# Number of users participating in rating points for movies\n",
    "ratings_df.createOrReplaceTempView(\"ratings\")\n",
    "unique_users = spark.sql(\"SELECT COUNT(DISTINCT userId) FROM ratings\").collect()[0][0]\n",
    "print(\"Number of users participating in rating points for movies:\", unique_users)"
   ]
  },
  {
   "cell_type": "code",
   "execution_count": 77,
   "id": "51e63a1b",
   "metadata": {},
   "outputs": [
    {
     "name": "stdout",
     "output_type": "stream",
     "text": [
      "+-------+--------------------+---------+\n",
      "|movieId|               title|   genres|\n",
      "+-------+--------------------+---------+\n",
      "|      1|    Toy Story (1995)|Adventure|\n",
      "|      1|    Toy Story (1995)|Animation|\n",
      "|      1|    Toy Story (1995)| Children|\n",
      "|      1|    Toy Story (1995)|   Comedy|\n",
      "|      1|    Toy Story (1995)|  Fantasy|\n",
      "|      2|      Jumanji (1995)|Adventure|\n",
      "|      2|      Jumanji (1995)| Children|\n",
      "|      2|      Jumanji (1995)|  Fantasy|\n",
      "|      3|Grumpier Old Men ...|   Comedy|\n",
      "|      3|Grumpier Old Men ...|  Romance|\n",
      "|      4|Waiting to Exhale...|   Comedy|\n",
      "|      4|Waiting to Exhale...|    Drama|\n",
      "|      4|Waiting to Exhale...|  Romance|\n",
      "|      5|Father of the Bri...|   Comedy|\n",
      "|      6|         Heat (1995)|   Action|\n",
      "|      6|         Heat (1995)|    Crime|\n",
      "|      6|         Heat (1995)| Thriller|\n",
      "|      7|      Sabrina (1995)|   Comedy|\n",
      "|      7|      Sabrina (1995)|  Romance|\n",
      "|      8| Tom and Huck (1995)|Adventure|\n",
      "+-------+--------------------+---------+\n",
      "only showing top 20 rows\n",
      "\n",
      "root\n",
      " |-- movieId: integer (nullable = true)\n",
      " |-- title: string (nullable = true)\n",
      " |-- genres: string (nullable = false)\n",
      "\n"
     ]
    }
   ],
   "source": [
    "# Split genres\n",
    "movies_df_2 = movies_df.withColumn(\"genres\", explode(split(\"genres\", \"[|]\")))\n",
    "movies_df_2.show()\n",
    "movies_df_2.printSchema()"
   ]
  },
  {
   "cell_type": "code",
   "execution_count": 93,
   "id": "ceeda660",
   "metadata": {},
   "outputs": [
    {
     "name": "stdout",
     "output_type": "stream",
     "text": [
      "+------------------+-----+\n",
      "|            genres|count|\n",
      "+------------------+-----+\n",
      "|             Crime| 2939|\n",
      "|           Romance| 4127|\n",
      "|          Thriller| 4178|\n",
      "|         Adventure| 2329|\n",
      "|             Drama|13344|\n",
      "|               War| 1194|\n",
      "|       Documentary| 2471|\n",
      "|           Fantasy| 1412|\n",
      "|           Mystery| 1514|\n",
      "|           Musical| 1036|\n",
      "|         Animation| 1027|\n",
      "|         Film-Noir|  330|\n",
      "|(no genres listed)|  246|\n",
      "|              IMAX|  196|\n",
      "|            Horror| 2611|\n",
      "|           Western|  676|\n",
      "|            Comedy| 8374|\n",
      "|          Children| 1139|\n",
      "|            Action| 3520|\n",
      "|            Sci-Fi| 1743|\n",
      "+------------------+-----+\n",
      "\n"
     ]
    }
   ],
   "source": [
    "# Statistics of movies by genre:\n",
    "genres_count_df = movies_df_2.groupBy(\"genres\").count()\n",
    "genres_count_df.show()"
   ]
  },
  {
   "cell_type": "code",
   "execution_count": 101,
   "id": "ba4ee343",
   "metadata": {},
   "outputs": [
    {
     "data": {
      "image/png": "[encoded data removed]",
      "text/plain": [
       "<Figure size 1800x720 with 1 Axes>"
      ]
     },
     "metadata": {
      "needs_background": "light"
     },
     "output_type": "display_data"
    }
   ],
   "source": [
    "genres_count_df_2 = genres_count_df.select(\"genres\", \"count\").toPandas()\n",
    "plt.figure(figsize=(25, 10))\n",
    "plt.bar(genres_count_df_2['genres'], genres_count_df_2['count'])\n",
    "plt.show()"
   ]
  },
  {
   "cell_type": "code",
   "execution_count": 104,
   "id": "0cb5a97f",
   "metadata": {},
   "outputs": [
    {
     "name": "stdout",
     "output_type": "stream",
     "text": [
      "+-------+--------------------+--------------------+------+------+----------+\n",
      "|movieId|               title|              genres|userId|rating| timestamp|\n",
      "+-------+--------------------+--------------------+------+------+----------+\n",
      "|      2|      Jumanji (1995)|Adventure|Childre...|     1|   3.5|1112486027|\n",
      "|     29|City of Lost Chil...|Adventure|Drama|F...|     1|   3.5|1112484676|\n",
      "|     32|Twelve Monkeys (a...|Mystery|Sci-Fi|Th...|     1|   3.5|1112484819|\n",
      "|     47|Seven (a.k.a. Se7...|    Mystery|Thriller|     1|   3.5|1112484727|\n",
      "|     50|Usual Suspects, T...|Crime|Mystery|Thr...|     1|   3.5|1112484580|\n",
      "|    112|Rumble in the Bro...|Action|Adventure|...|     1|   3.5|1094785740|\n",
      "|    151|      Rob Roy (1995)|Action|Drama|Roma...|     1|   4.0|1094785734|\n",
      "|    223|       Clerks (1994)|              Comedy|     1|   4.0|1112485573|\n",
      "|    253|Interview with th...|        Drama|Horror|     1|   4.0|1112484940|\n",
      "|    260|Star Wars: Episod...|Action|Adventure|...|     1|   4.0|1112484826|\n",
      "|    293|Léon: The Profess...|Action|Crime|Dram...|     1|   4.0|1112484703|\n",
      "|    296| Pulp Fiction (1994)|Comedy|Crime|Dram...|     1|   4.0|1112484767|\n",
      "|    318|Shawshank Redempt...|         Crime|Drama|     1|   4.0|1112484798|\n",
      "|    337|What's Eating Gil...|               Drama|     1|   3.5|1094785709|\n",
      "|    367|    Mask, The (1994)|Action|Comedy|Cri...|     1|   3.5|1112485980|\n",
      "|    541| Blade Runner (1982)|Action|Sci-Fi|Thr...|     1|   4.0|1112484603|\n",
      "|    589|Terminator 2: Jud...|       Action|Sci-Fi|     1|   3.5|1112485557|\n",
      "|    593|Silence of the La...|Crime|Horror|Thri...|     1|   3.5|1112484661|\n",
      "|    653|  Dragonheart (1996)|Action|Adventure|...|     1|   3.0|1094785691|\n",
      "|    919|Wizard of Oz, The...|Adventure|Childre...|     1|   3.5|1094785621|\n",
      "+-------+--------------------+--------------------+------+------+----------+\n",
      "only showing top 20 rows\n",
      "\n"
     ]
    }
   ],
   "source": [
    "# Join movies_df & ratings_df\n",
    "joined_ratings_df = movies_df.join(ratings_df, movies_df.movieId == ratings_df.movieId, \"inner\").drop(ratings_df.movieId)\n",
    "joined_ratings_df.show()"
   ]
  },
  {
   "cell_type": "code",
   "execution_count": 131,
   "id": "dd981c04",
   "metadata": {},
   "outputs": [],
   "source": [
    "# Top 150 highest rated films \n",
    "# groupBy by and orderBy desc\n",
    "joined_ratings_df.drop(\"timestamp\")\n",
    "joined_avg_ratings_df = joined_ratings_df.groupBy(\"userId\", \"title\").agg(_avg(\"rating\").alias(\"avg_rating\"))\n",
    "desc_df = joined_avg_ratings_df.orderBy(joined_avg_ratings_df.avg_rating.desc())\n",
    "# desc_df.show()"
   ]
  },
  {
   "cell_type": "code",
   "execution_count": 132,
   "id": "58a74ac8",
   "metadata": {},
   "outputs": [
    {
     "name": "stdout",
     "output_type": "stream",
     "text": [
      "+--------------------+-----------------+\n",
      "|               title|       avg_rating|\n",
      "+--------------------+-----------------+\n",
      "|Schmatta: Rags to...|              5.0|\n",
      "|A Night for Dying...|              5.0|\n",
      "|Boys (Drenge) (1977)|              5.0|\n",
      "|Little Criminals ...|              5.0|\n",
      "|  Small Roads (2011)|              5.0|\n",
      "|    Abendland (2011)|              5.0|\n",
      "|The Garden of Sin...|              5.0|\n",
      "|Snow Queen, The (...|              5.0|\n",
      "|Pursuit of Unhapp...|              5.0|\n",
      "|Foster Brothers, ...|              5.0|\n",
      "|This Thing With S...|              5.0|\n",
      "|No Distance Left ...|              5.0|\n",
      "|Pretty Things (2001)|              5.0|\n",
      "|     Mutantes (2009)|              5.0|\n",
      "|       Poison (1951)|              5.0|\n",
      "|Afstiros katallil...|              5.0|\n",
      "|A Blank on the Ma...|              5.0|\n",
      "|         1971 (2014)|              5.0|\n",
      "|Going Down in LA-...|              5.0|\n",
      "|Loser Takes All! ...|              5.0|\n",
      "|     Bandaged (2009)|              5.0|\n",
      "|Linotype: The Fil...|              5.0|\n",
      "|Diplomatic Immuni...|              5.0|\n",
      "|      Divorce (1945)|              5.0|\n",
      "|     Freeheld (2007)|              5.0|\n",
      "|The House on 56th...|              5.0|\n",
      "|The Color of Milk...|              5.0|\n",
      "| Central Park (1991)|              5.0|\n",
      "|Parasites, Les (1...|              5.0|\n",
      "|Boy Meets Boy (2008)|              5.0|\n",
      "|Eye In The Sky (G...|              5.0|\n",
      "|Who Killed Vincen...|              5.0|\n",
      "|The Wrecking Crew...|              5.0|\n",
      "|Welcome to Austra...|              5.0|\n",
      "|Always for Pleasu...|              5.0|\n",
      "|Into the Middle o...|              5.0|\n",
      "|Precision: The Me...|              5.0|\n",
      "|Donos de Portugal...|              5.0|\n",
      "|Lady of Chance, A...|              5.0|\n",
      "|    Rigoletto (1993)|              5.0|\n",
      "|The great match (...|              5.0|\n",
      "|People of the Win...|              5.0|\n",
      "|The Beautiful Sto...|              5.0|\n",
      "|Bo Burnham: Words...|              5.0|\n",
      "|Summer Wishes, Wi...|              5.0|\n",
      "|       B-Side (2013)|              5.0|\n",
      "|Blue Swallow (Che...|              5.0|\n",
      "|   Taxi Blues (1990)|              5.0|\n",
      "|A Gun for Jennife...|              5.0|\n",
      "|  Catastroika (2012)|              5.0|\n",
      "|   Sierra, La (2005)|              5.0|\n",
      "|Flight of the Con...|              5.0|\n",
      "|  The Old Gun (1975)|              5.0|\n",
      "|Iran Is Not the P...|              5.0|\n",
      "|Boys Diving, Hono...|              5.0|\n",
      "|Palestine Is Stil...|              5.0|\n",
      "|Best of Ernie and...|              5.0|\n",
      "|      Oranges (2004)|              5.0|\n",
      "|     Giorgino (1994)|              5.0|\n",
      "|Paying the Price:...|              5.0|\n",
      "|Victor and the Se...|              5.0|\n",
      "|Story of Science,...|              5.0|\n",
      "|  Dream Demon (1988)|              5.0|\n",
      "|Stargate SG-1 Chi...|              5.0|\n",
      "|Between the Devil...|              5.0|\n",
      "|Human Behavior Ex...|              5.0|\n",
      "|Death of a Nation...|              5.0|\n",
      "|The Encounter (2010)|              5.0|\n",
      "|The Secret Countr...|              5.0|\n",
      "|Year Zero: The Si...|              5.0|\n",
      "|Hollywood and The...|              5.0|\n",
      "|Argentina latente...|              5.0|\n",
      "|Inquire Within (2...|              5.0|\n",
      "|Peace, Propaganda...|              5.0|\n",
      "|Turkish Dance, El...|              5.0|\n",
      "|Rock the Boat (1944)|              5.0|\n",
      "|Codes of Gender, ...|              5.0|\n",
      "|Island at War (2004)|              5.0|\n",
      "|Mishen (Target) (...|              5.0|\n",
      "| Serving Life (2011)|              5.0|\n",
      "|Consuming Kids: T...|              5.0|\n",
      "|Doggiewoggiez! Po...|              5.0|\n",
      "|Shaolin Temple 2:...|              5.0|\n",
      "|Slingshot Hip Hop...|              5.0|\n",
      "|  Junior Prom (1946)|              5.0|\n",
      "|Tales That Witnes...|              5.0|\n",
      "|    The Green (2011)|              5.0|\n",
      "| Al otro lado (2004)|              5.0|\n",
      "|    Marihuana (1936)|              5.0|\n",
      "|Neurons to Nirvan...|              5.0|\n",
      "|   Rent-a-Cat (2012)|              5.0|\n",
      "|The Sea That Thin...|              5.0|\n",
      "|Only Daughter (2013)|              5.0|\n",
      "|  Yonkers Joe (2008)|              5.0|\n",
      "|Shock and Awe: Th...|              5.0|\n",
      "|Such Hawks Such H...|              5.0|\n",
      "|  When I Walk (2013)|              5.0|\n",
      "| Rocaterrania (2009)|              5.0|\n",
      "|Life On A String ...|              5.0|\n",
      "|   Sun Kissed (2012)|              5.0|\n",
      "|Latin Music USA (...|              5.0|\n",
      "|De la servitude m...|              5.0|\n",
      "|Ella Lola, a la T...|              5.0|\n",
      "|Stealing a Nation...|              5.0|\n",
      "|  Muddy River (1981)|              5.0|\n",
      "|Barchester Chroni...|              5.0|\n",
      "|Prom Queen: The M...|              5.0|\n",
      "|Keeping the Promi...|              5.0|\n",
      "|Moth, The (Cma) (...|              5.0|\n",
      "|The Floating Cast...|              5.0|\n",
      "|Hijacking Catastr...|              5.0|\n",
      "|Bill Hicks: Sane ...|              5.0|\n",
      "|New Rulers of the...|              5.0|\n",
      "|Octopus, The (Le ...|4.833333333333333|\n",
      "|Secrets of Jonath...|             4.75|\n",
      "|Here Without Me (...|             4.75|\n",
      "|Pictures of the O...|             4.75|\n",
      "|   Aashiqui 2 (2013)|             4.75|\n",
      "|Reel Bad Arabs: H...|             4.75|\n",
      "|George Carlin: Li...|             4.75|\n",
      "|I Belong (Som du ...|             4.75|\n",
      "|Step Up Love Stor...|             4.75|\n",
      "|The Private Life ...|             4.75|\n",
      "|Supermarket Woman...|             4.75|\n",
      "|Repentance (Monan...|             4.75|\n",
      "|Sandra of a Thous...|             4.75|\n",
      "|     Hard Sun (2014)|             4.75|\n",
      "|      Bogowie (2014)|             4.75|\n",
      "|Out 1: Spectre (1...|             4.75|\n",
      "|    Boys Love (2006)|             4.75|\n",
      "|Black Heaven (L'a...|             4.75|\n",
      "|  Plastic Bag (2009)|4.666666666666667|\n",
      "|      Deewaar (1975)|4.666666666666667|\n",
      "|Echoes of the Rai...|4.666666666666667|\n",
      "|Child's Christmas...|4.666666666666667|\n",
      "|All Passion Spent...|4.666666666666667|\n",
      "|The Lumière Broth...|4.666666666666667|\n",
      "|Hellhounds on My ...|4.666666666666667|\n",
      "|       Li'l Quinquin|              4.5|\n",
      "|  Bad Fucking (2013)|              4.5|\n",
      "|  That's Life (1998)|              4.5|\n",
      "|      Benigni (2009)|              4.5|\n",
      "|    Synchromy (1971)|              4.5|\n",
      "|Sentimental Sword...|              4.5|\n",
      "|The Great Spy Cha...|              4.5|\n",
      "|     For Neda (2010)|              4.5|\n",
      "|Jean Renoir: Part...|              4.5|\n",
      "|Suspect X (Yôgish...|              4.5|\n",
      "|Older Brother, Yo...|              4.5|\n",
      "|It's a Wonderful ...|              4.5|\n",
      "+--------------------+-----------------+\n",
      "\n"
     ]
    }
   ],
   "source": [
    "# Print topp 150\n",
    "top_150 = desc_df.limit(150)\n",
    "top_150.show(150)"
   ]
  },
  {
   "cell_type": "markdown",
   "id": "3af07101",
   "metadata": {},
   "source": [
    "# 3. Building a recommendation system"
   ]
  },
  {
   "cell_type": "markdown",
   "id": "d8a76d90",
   "metadata": {},
   "source": [
    "# 4. Conclusions"
   ]
  },
  {
   "cell_type": "markdown",
   "id": "43e8f209",
   "metadata": {},
   "source": [
    "# References\n",
    "\n",
    "https://spark.apache.org/\n",
    "\n",
    "https://www.mastercode.vn/blog/web-development/apache-spark-la-gi.85\n",
    "\n",
    "http://itechseeker.com/\n",
    "\n",
    "https://en.wikipedia.org/wiki/Apache_Spark\n",
    "\n",
    "https://viblo.asia/p/tim-hieu-ve-apache-spark-ByEZkQQW5Q0\n",
    "\n",
    "https://www.dominodatalab.com/data-science-dictionary/pyspark#:~:text=PySpark%20is%20the%20Python%20API,more%20scalable%20analyses%20and%20pipelines.\n",
    "\n",
    "https://spark.apache.org/docs/latest/ml-guide.html\n",
    "\n",
    "https://grouplens.org/datasets/movielens/20m/\n",
    "\n",
    "F. Maxwell Harper and Joseph A. Konstan. 2015. The MovieLens Datasets: History and Context. ACM Transactions on Interactive Intelligent Systems (TiiS) 5, 4, Article 19 (December 2015), 19 pages. DOI=http://dx.doi.org/10.1145/2827872"
   ]
  },
  {
   "cell_type": "code",
   "execution_count": 13,
   "id": "993d7b8e",
   "metadata": {},
   "outputs": [],
   "source": [
    "# JOIN TABLE"
   ]
  },
  {
   "cell_type": "code",
   "execution_count": 14,
   "id": "88cd5013",
   "metadata": {},
   "outputs": [
    {
     "name": "stdout",
     "output_type": "stream",
     "text": [
      "+-------+--------------------+---------+------+------+----------+\n",
      "|movieId|               title|   genres|userId|rating| timestamp|\n",
      "+-------+--------------------+---------+------+------+----------+\n",
      "|      2|      Jumanji (1995)|  Fantasy|     1|   3.5|1112486027|\n",
      "|      2|      Jumanji (1995)| Children|     1|   3.5|1112486027|\n",
      "|      2|      Jumanji (1995)|Adventure|     1|   3.5|1112486027|\n",
      "|     29|City of Lost Chil...|   Sci-Fi|     1|   3.5|1112484676|\n",
      "|     29|City of Lost Chil...|  Mystery|     1|   3.5|1112484676|\n",
      "|     29|City of Lost Chil...|  Fantasy|     1|   3.5|1112484676|\n",
      "|     29|City of Lost Chil...|    Drama|     1|   3.5|1112484676|\n",
      "|     29|City of Lost Chil...|Adventure|     1|   3.5|1112484676|\n",
      "|     32|Twelve Monkeys (a...| Thriller|     1|   3.5|1112484819|\n",
      "|     32|Twelve Monkeys (a...|   Sci-Fi|     1|   3.5|1112484819|\n",
      "|     32|Twelve Monkeys (a...|  Mystery|     1|   3.5|1112484819|\n",
      "|     47|Seven (a.k.a. Se7...| Thriller|     1|   3.5|1112484727|\n",
      "|     47|Seven (a.k.a. Se7...|  Mystery|     1|   3.5|1112484727|\n",
      "|     50|Usual Suspects, T...| Thriller|     1|   3.5|1112484580|\n",
      "|     50|Usual Suspects, T...|  Mystery|     1|   3.5|1112484580|\n",
      "|     50|Usual Suspects, T...|    Crime|     1|   3.5|1112484580|\n",
      "|    112|Rumble in the Bro...|    Crime|     1|   3.5|1094785740|\n",
      "|    112|Rumble in the Bro...|   Comedy|     1|   3.5|1094785740|\n",
      "|    112|Rumble in the Bro...|Adventure|     1|   3.5|1094785740|\n",
      "|    112|Rumble in the Bro...|   Action|     1|   3.5|1094785740|\n",
      "+-------+--------------------+---------+------+------+----------+\n",
      "only showing top 20 rows\n",
      "\n"
     ]
    }
   ],
   "source": [
    "# Step 1\n",
    "# Join movies_df & ratings_df\n",
    "joined_df = movies_df.join(ratings_df, movies_df.movieId == ratings_df.movieId, \"inner\").drop(ratings_df.movieId)\n",
    "joined_df.show()"
   ]
  },
  {
   "cell_type": "code",
   "execution_count": 15,
   "id": "ccc846cf",
   "metadata": {
    "scrolled": true
   },
   "outputs": [
    {
     "name": "stdout",
     "output_type": "stream",
     "text": [
      "+-------+--------------------+---------+------+------+----------+------+------+\n",
      "|movieId|               title|   genres|userId|rating| timestamp|imdbId|tmdbId|\n",
      "+-------+--------------------+---------+------+------+----------+------+------+\n",
      "|      2|      Jumanji (1995)|  Fantasy|     1|   3.5|1112486027|113497|  8844|\n",
      "|      2|      Jumanji (1995)| Children|     1|   3.5|1112486027|113497|  8844|\n",
      "|      2|      Jumanji (1995)|Adventure|     1|   3.5|1112486027|113497|  8844|\n",
      "|     29|City of Lost Chil...|   Sci-Fi|     1|   3.5|1112484676|112682|   902|\n",
      "|     29|City of Lost Chil...|  Mystery|     1|   3.5|1112484676|112682|   902|\n",
      "|     29|City of Lost Chil...|  Fantasy|     1|   3.5|1112484676|112682|   902|\n",
      "|     29|City of Lost Chil...|    Drama|     1|   3.5|1112484676|112682|   902|\n",
      "|     29|City of Lost Chil...|Adventure|     1|   3.5|1112484676|112682|   902|\n",
      "|     32|Twelve Monkeys (a...| Thriller|     1|   3.5|1112484819|114746|    63|\n",
      "|     32|Twelve Monkeys (a...|   Sci-Fi|     1|   3.5|1112484819|114746|    63|\n",
      "|     32|Twelve Monkeys (a...|  Mystery|     1|   3.5|1112484819|114746|    63|\n",
      "|     47|Seven (a.k.a. Se7...| Thriller|     1|   3.5|1112484727|114369|   807|\n",
      "|     47|Seven (a.k.a. Se7...|  Mystery|     1|   3.5|1112484727|114369|   807|\n",
      "|     50|Usual Suspects, T...| Thriller|     1|   3.5|1112484580|114814|   629|\n",
      "|     50|Usual Suspects, T...|  Mystery|     1|   3.5|1112484580|114814|   629|\n",
      "|     50|Usual Suspects, T...|    Crime|     1|   3.5|1112484580|114814|   629|\n",
      "|    112|Rumble in the Bro...|    Crime|     1|   3.5|1094785740|113326| 33542|\n",
      "|    112|Rumble in the Bro...|   Comedy|     1|   3.5|1094785740|113326| 33542|\n",
      "|    112|Rumble in the Bro...|Adventure|     1|   3.5|1094785740|113326| 33542|\n",
      "|    112|Rumble in the Bro...|   Action|     1|   3.5|1094785740|113326| 33542|\n",
      "+-------+--------------------+---------+------+------+----------+------+------+\n",
      "only showing top 20 rows\n",
      "\n"
     ]
    }
   ],
   "source": [
    "# Step 2\n",
    "# Join joined_df & links\n",
    "joined_df_2 = joined_df.join(links_df, joined_df.movieId == links_df.movieId, \"inner\").drop(links_df.movieId)\n",
    "joined_df_2.show()"
   ]
  },
  {
   "cell_type": "code",
   "execution_count": 23,
   "id": "1b1d4b13",
   "metadata": {
    "scrolled": true
   },
   "outputs": [
    {
     "name": "stdout",
     "output_type": "stream",
     "text": [
      "+-------+----------------+---------+------+------+----------+------+------+------+-------+------------------+----------+\n",
      "|movieId|           title|   genres|userId|rating| timestamp|imdbId|tmdbId|userId|movieId|               tag| timestamp|\n",
      "+-------+----------------+---------+------+------+----------+------+------+------+-------+------------------+----------+\n",
      "|      1|Toy Story (1995)|  Fantasy| 23171|   3.5|1130926397|114709|   862| 23171|      1|             pixar|1140521984|\n",
      "|      1|Toy Story (1995)|   Comedy| 23171|   3.5|1130926397|114709|   862| 23171|      1|             pixar|1140521984|\n",
      "|      1|Toy Story (1995)| Children| 23171|   3.5|1130926397|114709|   862| 23171|      1|             pixar|1140521984|\n",
      "|      1|Toy Story (1995)|Animation| 23171|   3.5|1130926397|114709|   862| 23171|      1|             pixar|1140521984|\n",
      "|      1|Toy Story (1995)|Adventure| 23171|   3.5|1130926397|114709|   862| 23171|      1|             pixar|1140521984|\n",
      "|      1|Toy Story (1995)|  Fantasy| 88055|   3.0|1339531962|114709|   862| 88055|      1|          children|1339531972|\n",
      "|      1|Toy Story (1995)|  Fantasy| 88055|   3.0|1339531962|114709|   862| 88055|      1|computer animation|1339531991|\n",
      "|      1|Toy Story (1995)|  Fantasy| 88055|   3.0|1339531962|114709|   862| 88055|      1|            family|1339531975|\n",
      "|      1|Toy Story (1995)|  Fantasy| 88055|   3.0|1339531962|114709|   862| 88055|      1|          humorous|1339531989|\n",
      "|      1|Toy Story (1995)|  Fantasy| 88055|   3.0|1339531962|114709|   862| 88055|      1|       time travel|1339531981|\n",
      "|      1|Toy Story (1995)|  Fantasy| 88055|   3.0|1339531962|114709|   862| 88055|      1|         Tom Hanks|1339531986|\n",
      "|      1|Toy Story (1995)|  Fantasy| 88055|   3.0|1339531962|114709|   862| 88055|      1|             witty|1339531978|\n",
      "|      1|Toy Story (1995)|   Comedy| 88055|   3.0|1339531962|114709|   862| 88055|      1|          children|1339531972|\n",
      "|      1|Toy Story (1995)|   Comedy| 88055|   3.0|1339531962|114709|   862| 88055|      1|computer animation|1339531991|\n",
      "|      1|Toy Story (1995)|   Comedy| 88055|   3.0|1339531962|114709|   862| 88055|      1|            family|1339531975|\n",
      "|      1|Toy Story (1995)|   Comedy| 88055|   3.0|1339531962|114709|   862| 88055|      1|          humorous|1339531989|\n",
      "|      1|Toy Story (1995)|   Comedy| 88055|   3.0|1339531962|114709|   862| 88055|      1|       time travel|1339531981|\n",
      "|      1|Toy Story (1995)|   Comedy| 88055|   3.0|1339531962|114709|   862| 88055|      1|         Tom Hanks|1339531986|\n",
      "|      1|Toy Story (1995)|   Comedy| 88055|   3.0|1339531962|114709|   862| 88055|      1|             witty|1339531978|\n",
      "|      1|Toy Story (1995)| Children| 88055|   3.0|1339531962|114709|   862| 88055|      1|          children|1339531972|\n",
      "+-------+----------------+---------+------+------+----------+------+------+------+-------+------------------+----------+\n",
      "only showing top 20 rows\n",
      "\n"
     ]
    }
   ],
   "source": [
    "# Step 3\n",
    "# Join joined_df & tags_df\n",
    "joined_df_3 = joined_df_2.join(tags_df, (joined_df_2.movieId == tags_df.movieId) & (joined_df_2.userId == tags_df.userId))\n",
    "joined_df_3.show()"
   ]
  },
  {
   "cell_type": "code",
   "execution_count": 24,
   "id": "52dd5531",
   "metadata": {},
   "outputs": [],
   "source": [
    "# Remove dupplicate\n",
    "def dropDupeDfCols(df):\n",
    "    newcols = []\n",
    "    dupcols = []\n",
    "\n",
    "    for i in range(len(df.columns)):\n",
    "        if df.columns[i] not in newcols:\n",
    "            newcols.append(df.columns[i])\n",
    "        else:\n",
    "            dupcols.append(i)\n",
    "\n",
    "    df = df.toDF(*[str(i) for i in range(len(df.columns))])\n",
    "    for dupcol in dupcols:\n",
    "        df = df.drop(str(dupcol))\n",
    "\n",
    "    return df.toDF(*newcols)"
   ]
  },
  {
   "cell_type": "code",
   "execution_count": 25,
   "id": "3c957012",
   "metadata": {},
   "outputs": [
    {
     "name": "stdout",
     "output_type": "stream",
     "text": [
      "+-------+----------------+---------+------+------+----------+------+------+------------------+\n",
      "|movieId|           title|   genres|userId|rating| timestamp|imdbId|tmdbId|               tag|\n",
      "+-------+----------------+---------+------+------+----------+------+------+------------------+\n",
      "|      1|Toy Story (1995)|  Fantasy| 23171|   3.5|1130926397|114709|   862|             pixar|\n",
      "|      1|Toy Story (1995)|   Comedy| 23171|   3.5|1130926397|114709|   862|             pixar|\n",
      "|      1|Toy Story (1995)| Children| 23171|   3.5|1130926397|114709|   862|             pixar|\n",
      "|      1|Toy Story (1995)|Animation| 23171|   3.5|1130926397|114709|   862|             pixar|\n",
      "|      1|Toy Story (1995)|Adventure| 23171|   3.5|1130926397|114709|   862|             pixar|\n",
      "|      1|Toy Story (1995)|  Fantasy| 88055|   3.0|1339531962|114709|   862|          children|\n",
      "|      1|Toy Story (1995)|  Fantasy| 88055|   3.0|1339531962|114709|   862|computer animation|\n",
      "|      1|Toy Story (1995)|  Fantasy| 88055|   3.0|1339531962|114709|   862|            family|\n",
      "|      1|Toy Story (1995)|  Fantasy| 88055|   3.0|1339531962|114709|   862|          humorous|\n",
      "|      1|Toy Story (1995)|  Fantasy| 88055|   3.0|1339531962|114709|   862|       time travel|\n",
      "|      1|Toy Story (1995)|  Fantasy| 88055|   3.0|1339531962|114709|   862|         Tom Hanks|\n",
      "|      1|Toy Story (1995)|  Fantasy| 88055|   3.0|1339531962|114709|   862|             witty|\n",
      "|      1|Toy Story (1995)|   Comedy| 88055|   3.0|1339531962|114709|   862|          children|\n",
      "|      1|Toy Story (1995)|   Comedy| 88055|   3.0|1339531962|114709|   862|computer animation|\n",
      "|      1|Toy Story (1995)|   Comedy| 88055|   3.0|1339531962|114709|   862|            family|\n",
      "|      1|Toy Story (1995)|   Comedy| 88055|   3.0|1339531962|114709|   862|          humorous|\n",
      "|      1|Toy Story (1995)|   Comedy| 88055|   3.0|1339531962|114709|   862|       time travel|\n",
      "|      1|Toy Story (1995)|   Comedy| 88055|   3.0|1339531962|114709|   862|         Tom Hanks|\n",
      "|      1|Toy Story (1995)|   Comedy| 88055|   3.0|1339531962|114709|   862|             witty|\n",
      "|      1|Toy Story (1995)| Children| 88055|   3.0|1339531962|114709|   862|          children|\n",
      "+-------+----------------+---------+------+------+----------+------+------+------------------+\n",
      "only showing top 20 rows\n",
      "\n"
     ]
    }
   ],
   "source": [
    "joined_df_3 = dropDupeDfCols(joined_df_3)\n",
    "joined_df_3.show()"
   ]
  },
  {
   "cell_type": "code",
   "execution_count": 26,
   "id": "b9d9f108",
   "metadata": {},
   "outputs": [
    {
     "name": "stdout",
     "output_type": "stream",
     "text": [
      "+-----+---------------+-------+--------------------+\n",
      "|tagId|            tag|movieId|           relevance|\n",
      "+-----+---------------+-------+--------------------+\n",
      "|    1|            007|      1|0.025000000000000022|\n",
      "|    2|   007 (series)|      1|0.025000000000000022|\n",
      "|    3|   18th century|      1|0.057750000000000024|\n",
      "|    4|          1920s|      1|             0.09675|\n",
      "|    5|          1930s|      1|             0.14675|\n",
      "|    6|          1950s|      1| 0.21700000000000003|\n",
      "|    7|          1960s|      1|               0.067|\n",
      "|    8|          1970s|      1| 0.26275000000000004|\n",
      "|    9|          1980s|      1|               0.262|\n",
      "|   10|   19th century|      1| 0.03199999999999997|\n",
      "|   11|             3d|      1|               0.577|\n",
      "|   12|           70mm|      1| 0.11625000000000002|\n",
      "|   13|            80s|      1|               0.188|\n",
      "|   14|           9/11|      1|0.008000000000000007|\n",
      "|   15|        aardman|      1|0.036750000000000005|\n",
      "|   16|aardman studios|      1| 0.28174999999999994|\n",
      "|   17|       abortion|      1|0.007000000000000006|\n",
      "|   18|         absurd|      1| 0.11049999999999999|\n",
      "|   19|         action|      1|              0.6705|\n",
      "|   20|  action packed|      1|              0.1845|\n",
      "+-----+---------------+-------+--------------------+\n",
      "only showing top 20 rows\n",
      "\n"
     ]
    }
   ],
   "source": [
    "# Step 4\n",
    "# Join 2 genomes\n",
    "joined_genome = genome_tags_df.join(genome_scores_df, genome_tags_df.tagId == genome_scores_df.tagId, \"inner\").drop(genome_scores_df.tagId)\n",
    "joined_genome.show()"
   ]
  },
  {
   "cell_type": "code",
   "execution_count": 27,
   "id": "d874f133",
   "metadata": {},
   "outputs": [
    {
     "name": "stdout",
     "output_type": "stream",
     "text": [
      "+-------+----------------+---------+------+------+----------+------+------+--------+-----+--------+-------+---------+\n",
      "|movieId|           title|   genres|userId|rating| timestamp|imdbId|tmdbId|     tag|tagId|     tag|movieId|relevance|\n",
      "+-------+----------------+---------+------+------+----------+------+------+--------+-----+--------+-------+---------+\n",
      "|      1|Toy Story (1995)|  Fantasy| 88055|   3.0|1339531962|114709|   862|children|  204|children|      1|  0.96425|\n",
      "|      1|Toy Story (1995)|   Comedy| 88055|   3.0|1339531962|114709|   862|children|  204|children|      1|  0.96425|\n",
      "|      1|Toy Story (1995)| Children| 88055|   3.0|1339531962|114709|   862|children|  204|children|      1|  0.96425|\n",
      "|      1|Toy Story (1995)|Animation| 88055|   3.0|1339531962|114709|   862|children|  204|children|      1|  0.96425|\n",
      "|      1|Toy Story (1995)|Adventure| 88055|   3.0|1339531962|114709|   862|children|  204|children|      1|  0.96425|\n",
      "|      1|Toy Story (1995)|  Fantasy| 51492|   2.0|1378323565|114709|   862|children|  204|children|      1|  0.96425|\n",
      "|      1|Toy Story (1995)|   Comedy| 51492|   2.0|1378323565|114709|   862|children|  204|children|      1|  0.96425|\n",
      "|      1|Toy Story (1995)| Children| 51492|   2.0|1378323565|114709|   862|children|  204|children|      1|  0.96425|\n",
      "|      1|Toy Story (1995)|Animation| 51492|   2.0|1378323565|114709|   862|children|  204|children|      1|  0.96425|\n",
      "|      1|Toy Story (1995)|Adventure| 51492|   2.0|1378323565|114709|   862|children|  204|children|      1|  0.96425|\n",
      "|      1|Toy Story (1995)|  Fantasy| 84441|   3.5|1176134235|114709|   862|children|  204|children|      1|  0.96425|\n",
      "|      1|Toy Story (1995)|   Comedy| 84441|   3.5|1176134235|114709|   862|children|  204|children|      1|  0.96425|\n",
      "|      1|Toy Story (1995)| Children| 84441|   3.5|1176134235|114709|   862|children|  204|children|      1|  0.96425|\n",
      "|      1|Toy Story (1995)|Animation| 84441|   3.5|1176134235|114709|   862|children|  204|children|      1|  0.96425|\n",
      "|      1|Toy Story (1995)|Adventure| 84441|   3.5|1176134235|114709|   862|children|  204|children|      1|  0.96425|\n",
      "|      1|Toy Story (1995)|  Fantasy| 72257|   5.0|1330111303|114709|   862|children|  204|children|      1|  0.96425|\n",
      "|      1|Toy Story (1995)|   Comedy| 72257|   5.0|1330111303|114709|   862|children|  204|children|      1|  0.96425|\n",
      "|      1|Toy Story (1995)| Children| 72257|   5.0|1330111303|114709|   862|children|  204|children|      1|  0.96425|\n",
      "|      1|Toy Story (1995)|Animation| 72257|   5.0|1330111303|114709|   862|children|  204|children|      1|  0.96425|\n",
      "|      1|Toy Story (1995)|Adventure| 72257|   5.0|1330111303|114709|   862|children|  204|children|      1|  0.96425|\n",
      "+-------+----------------+---------+------+------+----------+------+------+--------+-----+--------+-------+---------+\n",
      "only showing top 20 rows\n",
      "\n"
     ]
    }
   ],
   "source": [
    "# Step 5\n",
    "# Join joined_df & joined_genome by tag and movieID\n",
    "joined_df_4 = joined_df_3.join(joined_genome, (joined_df_3.movieId == joined_genome.movieId) & (joined_df_3.tag == joined_genome.tag))\n",
    "joined_df_4.show()"
   ]
  },
  {
   "cell_type": "code",
   "execution_count": 28,
   "id": "0d18251a",
   "metadata": {},
   "outputs": [
    {
     "name": "stdout",
     "output_type": "stream",
     "text": [
      "+-------+----------------+---------+------+------+----------+------+------+--------+-----+---------+\n",
      "|movieId|           title|   genres|userId|rating| timestamp|imdbId|tmdbId|     tag|tagId|relevance|\n",
      "+-------+----------------+---------+------+------+----------+------+------+--------+-----+---------+\n",
      "|      1|Toy Story (1995)|  Fantasy| 88055|   3.0|1339531962|114709|   862|children|  204|  0.96425|\n",
      "|      1|Toy Story (1995)|   Comedy| 88055|   3.0|1339531962|114709|   862|children|  204|  0.96425|\n",
      "|      1|Toy Story (1995)| Children| 88055|   3.0|1339531962|114709|   862|children|  204|  0.96425|\n",
      "|      1|Toy Story (1995)|Animation| 88055|   3.0|1339531962|114709|   862|children|  204|  0.96425|\n",
      "|      1|Toy Story (1995)|Adventure| 88055|   3.0|1339531962|114709|   862|children|  204|  0.96425|\n",
      "|      1|Toy Story (1995)|  Fantasy| 51492|   2.0|1378323565|114709|   862|children|  204|  0.96425|\n",
      "|      1|Toy Story (1995)|   Comedy| 51492|   2.0|1378323565|114709|   862|children|  204|  0.96425|\n",
      "|      1|Toy Story (1995)| Children| 51492|   2.0|1378323565|114709|   862|children|  204|  0.96425|\n",
      "|      1|Toy Story (1995)|Animation| 51492|   2.0|1378323565|114709|   862|children|  204|  0.96425|\n",
      "|      1|Toy Story (1995)|Adventure| 51492|   2.0|1378323565|114709|   862|children|  204|  0.96425|\n",
      "|      1|Toy Story (1995)|  Fantasy| 84441|   3.5|1176134235|114709|   862|children|  204|  0.96425|\n",
      "|      1|Toy Story (1995)|   Comedy| 84441|   3.5|1176134235|114709|   862|children|  204|  0.96425|\n",
      "|      1|Toy Story (1995)| Children| 84441|   3.5|1176134235|114709|   862|children|  204|  0.96425|\n",
      "|      1|Toy Story (1995)|Animation| 84441|   3.5|1176134235|114709|   862|children|  204|  0.96425|\n",
      "|      1|Toy Story (1995)|Adventure| 84441|   3.5|1176134235|114709|   862|children|  204|  0.96425|\n",
      "|      1|Toy Story (1995)|  Fantasy| 72257|   5.0|1330111303|114709|   862|children|  204|  0.96425|\n",
      "|      1|Toy Story (1995)|   Comedy| 72257|   5.0|1330111303|114709|   862|children|  204|  0.96425|\n",
      "|      1|Toy Story (1995)| Children| 72257|   5.0|1330111303|114709|   862|children|  204|  0.96425|\n",
      "|      1|Toy Story (1995)|Animation| 72257|   5.0|1330111303|114709|   862|children|  204|  0.96425|\n",
      "|      1|Toy Story (1995)|Adventure| 72257|   5.0|1330111303|114709|   862|children|  204|  0.96425|\n",
      "+-------+----------------+---------+------+------+----------+------+------+--------+-----+---------+\n",
      "only showing top 20 rows\n",
      "\n"
     ]
    }
   ],
   "source": [
    "# Remove Dupllicate\n",
    "joined_df_4 = dropDupeDfCols(joined_df_4)\n",
    "joined_df_4.show()"
   ]
  },
  {
   "cell_type": "code",
   "execution_count": 161,
   "id": "319ea53e",
   "metadata": {
    "scrolled": false
   },
   "outputs": [
    {
     "name": "stdout",
     "output_type": "stream",
     "text": [
      "1500\n"
     ]
    },
    {
     "ename": "RecursionError",
     "evalue": "maximum recursion depth exceeded in comparison",
     "output_type": "error",
     "traceback": [
      "\u001b[1;31m---------------------------------------------------------------------------\u001b[0m",
      "\u001b[1;31mRecursionError\u001b[0m                            Traceback (most recent call last)",
      "Input \u001b[1;32mIn [161]\u001b[0m, in \u001b[0;36m<cell line: 10>\u001b[1;34m()\u001b[0m\n\u001b[0;32m      7\u001b[0m y \u001b[38;5;241m=\u001b[39m joined_df_4[\u001b[38;5;124m'\u001b[39m\u001b[38;5;124mrating\u001b[39m\u001b[38;5;124m'\u001b[39m]\n\u001b[0;32m      9\u001b[0m \u001b[38;5;66;03m# Create the scatter plot\u001b[39;00m\n\u001b[1;32m---> 10\u001b[0m \u001b[43mplt\u001b[49m\u001b[38;5;241;43m.\u001b[39;49m\u001b[43mscatter\u001b[49m\u001b[43m(\u001b[49m\u001b[43mx\u001b[49m\u001b[43m,\u001b[49m\u001b[43m \u001b[49m\u001b[43my\u001b[49m\u001b[43m)\u001b[49m\n\u001b[0;32m     12\u001b[0m \u001b[38;5;66;03m# Add labels and title to the plot\u001b[39;00m\n\u001b[0;32m     13\u001b[0m plt\u001b[38;5;241m.\u001b[39mxlabel(\u001b[38;5;124m'\u001b[39m\u001b[38;5;124mTag relevance\u001b[39m\u001b[38;5;124m'\u001b[39m)\n",
      "File \u001b[1;32mC:\\ProgramData\\Anaconda3\\lib\\site-packages\\matplotlib\\pyplot.py:2807\u001b[0m, in \u001b[0;36mscatter\u001b[1;34m(x, y, s, c, marker, cmap, norm, vmin, vmax, alpha, linewidths, edgecolors, plotnonfinite, data, **kwargs)\u001b[0m\n\u001b[0;32m   2802\u001b[0m \u001b[38;5;129m@_copy_docstring_and_deprecators\u001b[39m(Axes\u001b[38;5;241m.\u001b[39mscatter)\n\u001b[0;32m   2803\u001b[0m \u001b[38;5;28;01mdef\u001b[39;00m \u001b[38;5;21mscatter\u001b[39m(\n\u001b[0;32m   2804\u001b[0m         x, y, s\u001b[38;5;241m=\u001b[39m\u001b[38;5;28;01mNone\u001b[39;00m, c\u001b[38;5;241m=\u001b[39m\u001b[38;5;28;01mNone\u001b[39;00m, marker\u001b[38;5;241m=\u001b[39m\u001b[38;5;28;01mNone\u001b[39;00m, cmap\u001b[38;5;241m=\u001b[39m\u001b[38;5;28;01mNone\u001b[39;00m, norm\u001b[38;5;241m=\u001b[39m\u001b[38;5;28;01mNone\u001b[39;00m,\n\u001b[0;32m   2805\u001b[0m         vmin\u001b[38;5;241m=\u001b[39m\u001b[38;5;28;01mNone\u001b[39;00m, vmax\u001b[38;5;241m=\u001b[39m\u001b[38;5;28;01mNone\u001b[39;00m, alpha\u001b[38;5;241m=\u001b[39m\u001b[38;5;28;01mNone\u001b[39;00m, linewidths\u001b[38;5;241m=\u001b[39m\u001b[38;5;28;01mNone\u001b[39;00m, \u001b[38;5;241m*\u001b[39m,\n\u001b[0;32m   2806\u001b[0m         edgecolors\u001b[38;5;241m=\u001b[39m\u001b[38;5;28;01mNone\u001b[39;00m, plotnonfinite\u001b[38;5;241m=\u001b[39m\u001b[38;5;28;01mFalse\u001b[39;00m, data\u001b[38;5;241m=\u001b[39m\u001b[38;5;28;01mNone\u001b[39;00m, \u001b[38;5;241m*\u001b[39m\u001b[38;5;241m*\u001b[39mkwargs):\n\u001b[1;32m-> 2807\u001b[0m     __ret \u001b[38;5;241m=\u001b[39m gca()\u001b[38;5;241m.\u001b[39mscatter(\n\u001b[0;32m   2808\u001b[0m         x, y, s\u001b[38;5;241m=\u001b[39ms, c\u001b[38;5;241m=\u001b[39mc, marker\u001b[38;5;241m=\u001b[39mmarker, cmap\u001b[38;5;241m=\u001b[39mcmap, norm\u001b[38;5;241m=\u001b[39mnorm,\n\u001b[0;32m   2809\u001b[0m         vmin\u001b[38;5;241m=\u001b[39mvmin, vmax\u001b[38;5;241m=\u001b[39mvmax, alpha\u001b[38;5;241m=\u001b[39malpha, linewidths\u001b[38;5;241m=\u001b[39mlinewidths,\n\u001b[0;32m   2810\u001b[0m         edgecolors\u001b[38;5;241m=\u001b[39medgecolors, plotnonfinite\u001b[38;5;241m=\u001b[39mplotnonfinite,\n\u001b[0;32m   2811\u001b[0m         \u001b[38;5;241m*\u001b[39m\u001b[38;5;241m*\u001b[39m({\u001b[38;5;124m\"\u001b[39m\u001b[38;5;124mdata\u001b[39m\u001b[38;5;124m\"\u001b[39m: data} \u001b[38;5;28;01mif\u001b[39;00m data \u001b[38;5;129;01mis\u001b[39;00m \u001b[38;5;129;01mnot\u001b[39;00m \u001b[38;5;28;01mNone\u001b[39;00m \u001b[38;5;28;01melse\u001b[39;00m {}), \u001b[38;5;241m*\u001b[39m\u001b[38;5;241m*\u001b[39mkwargs)\n\u001b[0;32m   2812\u001b[0m     sci(__ret)\n\u001b[0;32m   2813\u001b[0m     \u001b[38;5;28;01mreturn\u001b[39;00m __ret\n",
      "File \u001b[1;32mC:\\ProgramData\\Anaconda3\\lib\\site-packages\\matplotlib\\__init__.py:1412\u001b[0m, in \u001b[0;36m_preprocess_data.<locals>.inner\u001b[1;34m(ax, data, *args, **kwargs)\u001b[0m\n\u001b[0;32m   1409\u001b[0m \u001b[38;5;129m@functools\u001b[39m\u001b[38;5;241m.\u001b[39mwraps(func)\n\u001b[0;32m   1410\u001b[0m \u001b[38;5;28;01mdef\u001b[39;00m \u001b[38;5;21minner\u001b[39m(ax, \u001b[38;5;241m*\u001b[39margs, data\u001b[38;5;241m=\u001b[39m\u001b[38;5;28;01mNone\u001b[39;00m, \u001b[38;5;241m*\u001b[39m\u001b[38;5;241m*\u001b[39mkwargs):\n\u001b[0;32m   1411\u001b[0m     \u001b[38;5;28;01mif\u001b[39;00m data \u001b[38;5;129;01mis\u001b[39;00m \u001b[38;5;28;01mNone\u001b[39;00m:\n\u001b[1;32m-> 1412\u001b[0m         \u001b[38;5;28;01mreturn\u001b[39;00m func(ax, \u001b[38;5;241m*\u001b[39m\u001b[38;5;28mmap\u001b[39m(sanitize_sequence, args), \u001b[38;5;241m*\u001b[39m\u001b[38;5;241m*\u001b[39mkwargs)\n\u001b[0;32m   1414\u001b[0m     bound \u001b[38;5;241m=\u001b[39m new_sig\u001b[38;5;241m.\u001b[39mbind(ax, \u001b[38;5;241m*\u001b[39margs, \u001b[38;5;241m*\u001b[39m\u001b[38;5;241m*\u001b[39mkwargs)\n\u001b[0;32m   1415\u001b[0m     auto_label \u001b[38;5;241m=\u001b[39m (bound\u001b[38;5;241m.\u001b[39marguments\u001b[38;5;241m.\u001b[39mget(label_namer)\n\u001b[0;32m   1416\u001b[0m                   \u001b[38;5;129;01mor\u001b[39;00m bound\u001b[38;5;241m.\u001b[39mkwargs\u001b[38;5;241m.\u001b[39mget(label_namer))\n",
      "File \u001b[1;32mC:\\ProgramData\\Anaconda3\\lib\\site-packages\\matplotlib\\axes\\_axes.py:4366\u001b[0m, in \u001b[0;36mAxes.scatter\u001b[1;34m(self, x, y, s, c, marker, cmap, norm, vmin, vmax, alpha, linewidths, edgecolors, plotnonfinite, **kwargs)\u001b[0m\n\u001b[0;32m   4363\u001b[0m x, y \u001b[38;5;241m=\u001b[39m \u001b[38;5;28mself\u001b[39m\u001b[38;5;241m.\u001b[39m_process_unit_info([(\u001b[38;5;124m\"\u001b[39m\u001b[38;5;124mx\u001b[39m\u001b[38;5;124m\"\u001b[39m, x), (\u001b[38;5;124m\"\u001b[39m\u001b[38;5;124my\u001b[39m\u001b[38;5;124m\"\u001b[39m, y)], kwargs)\n\u001b[0;32m   4364\u001b[0m \u001b[38;5;66;03m# np.ma.ravel yields an ndarray, not a masked array,\u001b[39;00m\n\u001b[0;32m   4365\u001b[0m \u001b[38;5;66;03m# unless its argument is a masked array.\u001b[39;00m\n\u001b[1;32m-> 4366\u001b[0m x \u001b[38;5;241m=\u001b[39m \u001b[43mnp\u001b[49m\u001b[38;5;241;43m.\u001b[39;49m\u001b[43mma\u001b[49m\u001b[38;5;241;43m.\u001b[39;49m\u001b[43mravel\u001b[49m\u001b[43m(\u001b[49m\u001b[43mx\u001b[49m\u001b[43m)\u001b[49m\n\u001b[0;32m   4367\u001b[0m y \u001b[38;5;241m=\u001b[39m np\u001b[38;5;241m.\u001b[39mma\u001b[38;5;241m.\u001b[39mravel(y)\n\u001b[0;32m   4368\u001b[0m \u001b[38;5;28;01mif\u001b[39;00m x\u001b[38;5;241m.\u001b[39msize \u001b[38;5;241m!=\u001b[39m y\u001b[38;5;241m.\u001b[39msize:\n",
      "File \u001b[1;32mC:\\ProgramData\\Anaconda3\\lib\\site-packages\\numpy\\ma\\core.py:6777\u001b[0m, in \u001b[0;36m_frommethod.__call__\u001b[1;34m(self, a, *args, **params)\u001b[0m\n\u001b[0;32m   6773\u001b[0m \u001b[38;5;28;01mif\u001b[39;00m method \u001b[38;5;129;01mis\u001b[39;00m \u001b[38;5;28;01mNone\u001b[39;00m:\n\u001b[0;32m   6774\u001b[0m     \u001b[38;5;66;03m# use the corresponding np function\u001b[39;00m\n\u001b[0;32m   6775\u001b[0m     method \u001b[38;5;241m=\u001b[39m \u001b[38;5;28mgetattr\u001b[39m(np, method_name)\n\u001b[1;32m-> 6777\u001b[0m \u001b[38;5;28;01mreturn\u001b[39;00m method(marr, \u001b[38;5;241m*\u001b[39margs, \u001b[38;5;241m*\u001b[39m\u001b[38;5;241m*\u001b[39mparams)\n",
      "File \u001b[1;32mC:\\ProgramData\\Anaconda3\\lib\\site-packages\\numpy\\ma\\core.py:4585\u001b[0m, in \u001b[0;36mMaskedArray.ravel\u001b[1;34m(self, order)\u001b[0m\n\u001b[0;32m   4540\u001b[0m \u001b[38;5;28;01mdef\u001b[39;00m \u001b[38;5;21mravel\u001b[39m(\u001b[38;5;28mself\u001b[39m, order\u001b[38;5;241m=\u001b[39m\u001b[38;5;124m'\u001b[39m\u001b[38;5;124mC\u001b[39m\u001b[38;5;124m'\u001b[39m):\n\u001b[0;32m   4541\u001b[0m     \u001b[38;5;124;03m\"\"\"\u001b[39;00m\n\u001b[0;32m   4542\u001b[0m \u001b[38;5;124;03m    Returns a 1D version of self, as a view.\u001b[39;00m\n\u001b[0;32m   4543\u001b[0m \n\u001b[1;32m   (...)\u001b[0m\n\u001b[0;32m   4583\u001b[0m \n\u001b[0;32m   4584\u001b[0m \u001b[38;5;124;03m    \"\"\"\u001b[39;00m\n\u001b[1;32m-> 4585\u001b[0m     r \u001b[38;5;241m=\u001b[39m ndarray\u001b[38;5;241m.\u001b[39mravel(\u001b[38;5;28;43mself\u001b[39;49m\u001b[38;5;241;43m.\u001b[39;49m\u001b[43m_data\u001b[49m, order\u001b[38;5;241m=\u001b[39morder)\u001b[38;5;241m.\u001b[39mview(\u001b[38;5;28mtype\u001b[39m(\u001b[38;5;28mself\u001b[39m))\n\u001b[0;32m   4586\u001b[0m     r\u001b[38;5;241m.\u001b[39m_update_from(\u001b[38;5;28mself\u001b[39m)\n\u001b[0;32m   4587\u001b[0m     \u001b[38;5;28;01mif\u001b[39;00m \u001b[38;5;28mself\u001b[39m\u001b[38;5;241m.\u001b[39m_mask \u001b[38;5;129;01mis\u001b[39;00m \u001b[38;5;129;01mnot\u001b[39;00m nomask:\n",
      "File \u001b[1;32mC:\\ProgramData\\Anaconda3\\lib\\site-packages\\numpy\\ma\\core.py:3652\u001b[0m, in \u001b[0;36mMaskedArray._get_data\u001b[1;34m(self)\u001b[0m\n\u001b[0;32m   3637\u001b[0m \u001b[38;5;28;01mdef\u001b[39;00m \u001b[38;5;21m_get_data\u001b[39m(\u001b[38;5;28mself\u001b[39m):\n\u001b[0;32m   3638\u001b[0m     \u001b[38;5;124;03m\"\"\"\u001b[39;00m\n\u001b[0;32m   3639\u001b[0m \u001b[38;5;124;03m    Returns the underlying data, as a view of the masked array.\u001b[39;00m\n\u001b[0;32m   3640\u001b[0m \n\u001b[1;32m   (...)\u001b[0m\n\u001b[0;32m   3650\u001b[0m \u001b[38;5;124;03m    attribute.\u001b[39;00m\n\u001b[0;32m   3651\u001b[0m \u001b[38;5;124;03m    \"\"\"\u001b[39;00m\n\u001b[1;32m-> 3652\u001b[0m     \u001b[38;5;28;01mreturn\u001b[39;00m \u001b[43mndarray\u001b[49m\u001b[38;5;241;43m.\u001b[39;49m\u001b[43mview\u001b[49m\u001b[43m(\u001b[49m\u001b[38;5;28;43mself\u001b[39;49m\u001b[43m,\u001b[49m\u001b[43m \u001b[49m\u001b[38;5;28;43mself\u001b[39;49m\u001b[38;5;241;43m.\u001b[39;49m\u001b[43m_baseclass\u001b[49m\u001b[43m)\u001b[49m\n",
      "File \u001b[1;32m~\\AppData\\Roaming\\Python\\Python39\\site-packages\\pyspark\\sql\\column.py:549\u001b[0m, in \u001b[0;36mColumn.__getattr__\u001b[1;34m(self, item)\u001b[0m\n\u001b[0;32m    547\u001b[0m \u001b[38;5;28;01mif\u001b[39;00m item\u001b[38;5;241m.\u001b[39mstartswith(\u001b[38;5;124m\"\u001b[39m\u001b[38;5;124m__\u001b[39m\u001b[38;5;124m\"\u001b[39m):\n\u001b[0;32m    548\u001b[0m     \u001b[38;5;28;01mraise\u001b[39;00m \u001b[38;5;167;01mAttributeError\u001b[39;00m(item)\n\u001b[1;32m--> 549\u001b[0m \u001b[38;5;28;01mreturn\u001b[39;00m \u001b[38;5;28;43mself\u001b[39;49m\u001b[43m[\u001b[49m\u001b[43mitem\u001b[49m\u001b[43m]\u001b[49m\n",
      "File \u001b[1;32m~\\AppData\\Roaming\\Python\\Python39\\site-packages\\pyspark\\sql\\column.py:557\u001b[0m, in \u001b[0;36mColumn.__getitem__\u001b[1;34m(self, k)\u001b[0m\n\u001b[0;32m    555\u001b[0m     \u001b[38;5;28;01mreturn\u001b[39;00m \u001b[38;5;28mself\u001b[39m\u001b[38;5;241m.\u001b[39msubstr(k\u001b[38;5;241m.\u001b[39mstart, k\u001b[38;5;241m.\u001b[39mstop)\n\u001b[0;32m    556\u001b[0m \u001b[38;5;28;01melse\u001b[39;00m:\n\u001b[1;32m--> 557\u001b[0m     \u001b[38;5;28;01mreturn\u001b[39;00m \u001b[43m_bin_op\u001b[49m\u001b[43m(\u001b[49m\u001b[38;5;124;43m\"\u001b[39;49m\u001b[38;5;124;43mapply\u001b[39;49m\u001b[38;5;124;43m\"\u001b[39;49m\u001b[43m)\u001b[49m\u001b[43m(\u001b[49m\u001b[38;5;28;43mself\u001b[39;49m\u001b[43m,\u001b[49m\u001b[43m \u001b[49m\u001b[43mk\u001b[49m\u001b[43m)\u001b[49m\n",
      "File \u001b[1;32m~\\AppData\\Roaming\\Python\\Python39\\site-packages\\pyspark\\sql\\column.py:163\u001b[0m, in \u001b[0;36m_bin_op.<locals>._\u001b[1;34m(self, other)\u001b[0m\n\u001b[0;32m    158\u001b[0m \u001b[38;5;28;01mdef\u001b[39;00m \u001b[38;5;21m_\u001b[39m(\n\u001b[0;32m    159\u001b[0m     \u001b[38;5;28mself\u001b[39m: \u001b[38;5;124m\"\u001b[39m\u001b[38;5;124mColumn\u001b[39m\u001b[38;5;124m\"\u001b[39m,\n\u001b[0;32m    160\u001b[0m     other: Union[\u001b[38;5;124m\"\u001b[39m\u001b[38;5;124mColumn\u001b[39m\u001b[38;5;124m\"\u001b[39m, \u001b[38;5;124m\"\u001b[39m\u001b[38;5;124mLiteralType\u001b[39m\u001b[38;5;124m\"\u001b[39m, \u001b[38;5;124m\"\u001b[39m\u001b[38;5;124mDecimalLiteral\u001b[39m\u001b[38;5;124m\"\u001b[39m, \u001b[38;5;124m\"\u001b[39m\u001b[38;5;124mDateTimeLiteral\u001b[39m\u001b[38;5;124m\"\u001b[39m],\n\u001b[0;32m    161\u001b[0m ) \u001b[38;5;241m-\u001b[39m\u001b[38;5;241m>\u001b[39m \u001b[38;5;124m\"\u001b[39m\u001b[38;5;124mColumn\u001b[39m\u001b[38;5;124m\"\u001b[39m:\n\u001b[0;32m    162\u001b[0m     jc \u001b[38;5;241m=\u001b[39m other\u001b[38;5;241m.\u001b[39m_jc \u001b[38;5;28;01mif\u001b[39;00m \u001b[38;5;28misinstance\u001b[39m(other, Column) \u001b[38;5;28;01melse\u001b[39;00m other\n\u001b[1;32m--> 163\u001b[0m     njc \u001b[38;5;241m=\u001b[39m \u001b[38;5;28;43mgetattr\u001b[39;49m\u001b[43m(\u001b[49m\u001b[38;5;28;43mself\u001b[39;49m\u001b[38;5;241;43m.\u001b[39;49m\u001b[43m_jc\u001b[49m\u001b[43m,\u001b[49m\u001b[43m \u001b[49m\u001b[43mname\u001b[49m\u001b[43m)\u001b[49m\u001b[43m(\u001b[49m\u001b[43mjc\u001b[49m\u001b[43m)\u001b[49m\n\u001b[0;32m    164\u001b[0m     \u001b[38;5;28;01mreturn\u001b[39;00m Column(njc)\n",
      "File \u001b[1;32m~\\AppData\\Roaming\\Python\\Python39\\site-packages\\py4j\\java_gateway.py:1313\u001b[0m, in \u001b[0;36mJavaMember.__call__\u001b[1;34m(self, *args)\u001b[0m\n\u001b[0;32m   1312\u001b[0m \u001b[38;5;28;01mdef\u001b[39;00m \u001b[38;5;21m__call__\u001b[39m(\u001b[38;5;28mself\u001b[39m, \u001b[38;5;241m*\u001b[39margs):\n\u001b[1;32m-> 1313\u001b[0m     args_command, temp_args \u001b[38;5;241m=\u001b[39m \u001b[38;5;28;43mself\u001b[39;49m\u001b[38;5;241;43m.\u001b[39;49m\u001b[43m_build_args\u001b[49m\u001b[43m(\u001b[49m\u001b[38;5;241;43m*\u001b[39;49m\u001b[43margs\u001b[49m\u001b[43m)\u001b[49m\n\u001b[0;32m   1315\u001b[0m     command \u001b[38;5;241m=\u001b[39m proto\u001b[38;5;241m.\u001b[39mCALL_COMMAND_NAME \u001b[38;5;241m+\u001b[39m\\\n\u001b[0;32m   1316\u001b[0m         \u001b[38;5;28mself\u001b[39m\u001b[38;5;241m.\u001b[39mcommand_header \u001b[38;5;241m+\u001b[39m\\\n\u001b[0;32m   1317\u001b[0m         args_command \u001b[38;5;241m+\u001b[39m\\\n\u001b[0;32m   1318\u001b[0m         proto\u001b[38;5;241m.\u001b[39mEND_COMMAND_PART\n\u001b[0;32m   1320\u001b[0m     answer \u001b[38;5;241m=\u001b[39m \u001b[38;5;28mself\u001b[39m\u001b[38;5;241m.\u001b[39mgateway_client\u001b[38;5;241m.\u001b[39msend_command(command)\n",
      "File \u001b[1;32m~\\AppData\\Roaming\\Python\\Python39\\site-packages\\py4j\\java_gateway.py:1277\u001b[0m, in \u001b[0;36mJavaMember._build_args\u001b[1;34m(self, *args)\u001b[0m\n\u001b[0;32m   1275\u001b[0m \u001b[38;5;28;01mdef\u001b[39;00m \u001b[38;5;21m_build_args\u001b[39m(\u001b[38;5;28mself\u001b[39m, \u001b[38;5;241m*\u001b[39margs):\n\u001b[0;32m   1276\u001b[0m     \u001b[38;5;28;01mif\u001b[39;00m \u001b[38;5;28mself\u001b[39m\u001b[38;5;241m.\u001b[39mconverters \u001b[38;5;129;01mis\u001b[39;00m \u001b[38;5;129;01mnot\u001b[39;00m \u001b[38;5;28;01mNone\u001b[39;00m \u001b[38;5;129;01mand\u001b[39;00m \u001b[38;5;28mlen\u001b[39m(\u001b[38;5;28mself\u001b[39m\u001b[38;5;241m.\u001b[39mconverters) \u001b[38;5;241m>\u001b[39m \u001b[38;5;241m0\u001b[39m:\n\u001b[1;32m-> 1277\u001b[0m         (new_args, temp_args) \u001b[38;5;241m=\u001b[39m \u001b[38;5;28;43mself\u001b[39;49m\u001b[38;5;241;43m.\u001b[39;49m\u001b[43m_get_args\u001b[49m\u001b[43m(\u001b[49m\u001b[43margs\u001b[49m\u001b[43m)\u001b[49m\n\u001b[0;32m   1278\u001b[0m     \u001b[38;5;28;01melse\u001b[39;00m:\n\u001b[0;32m   1279\u001b[0m         new_args \u001b[38;5;241m=\u001b[39m args\n",
      "File \u001b[1;32m~\\AppData\\Roaming\\Python\\Python39\\site-packages\\py4j\\java_gateway.py:1263\u001b[0m, in \u001b[0;36mJavaMember._get_args\u001b[1;34m(self, args)\u001b[0m\n\u001b[0;32m   1261\u001b[0m \u001b[38;5;28;01mif\u001b[39;00m \u001b[38;5;129;01mnot\u001b[39;00m \u001b[38;5;28misinstance\u001b[39m(arg, JavaObject):\n\u001b[0;32m   1262\u001b[0m     \u001b[38;5;28;01mfor\u001b[39;00m converter \u001b[38;5;129;01min\u001b[39;00m \u001b[38;5;28mself\u001b[39m\u001b[38;5;241m.\u001b[39mgateway_client\u001b[38;5;241m.\u001b[39mconverters:\n\u001b[1;32m-> 1263\u001b[0m         \u001b[38;5;28;01mif\u001b[39;00m \u001b[43mconverter\u001b[49m\u001b[38;5;241;43m.\u001b[39;49m\u001b[43mcan_convert\u001b[49m\u001b[43m(\u001b[49m\u001b[43marg\u001b[49m\u001b[43m)\u001b[49m:\n\u001b[0;32m   1264\u001b[0m             temp_arg \u001b[38;5;241m=\u001b[39m converter\u001b[38;5;241m.\u001b[39mconvert(arg, \u001b[38;5;28mself\u001b[39m\u001b[38;5;241m.\u001b[39mgateway_client)\n\u001b[0;32m   1265\u001b[0m             temp_args\u001b[38;5;241m.\u001b[39mappend(temp_arg)\n",
      "File \u001b[1;32m~\\AppData\\Roaming\\Python\\Python39\\site-packages\\py4j\\java_collections.py:490\u001b[0m, in \u001b[0;36mSetConverter.can_convert\u001b[1;34m(self, object)\u001b[0m\n\u001b[0;32m    489\u001b[0m \u001b[38;5;28;01mdef\u001b[39;00m \u001b[38;5;21mcan_convert\u001b[39m(\u001b[38;5;28mself\u001b[39m, \u001b[38;5;28mobject\u001b[39m):\n\u001b[1;32m--> 490\u001b[0m     \u001b[38;5;28;01mreturn\u001b[39;00m \u001b[38;5;28;43misinstance\u001b[39;49m\u001b[43m(\u001b[49m\u001b[38;5;28;43mobject\u001b[39;49m\u001b[43m,\u001b[49m\u001b[43m \u001b[49m\u001b[43mSet\u001b[49m\u001b[43m)\u001b[49m\n",
      "File \u001b[1;32mC:\\ProgramData\\Anaconda3\\lib\\abc.py:119\u001b[0m, in \u001b[0;36mABCMeta.__instancecheck__\u001b[1;34m(cls, instance)\u001b[0m\n\u001b[0;32m    117\u001b[0m \u001b[38;5;28;01mdef\u001b[39;00m \u001b[38;5;21m__instancecheck__\u001b[39m(\u001b[38;5;28mcls\u001b[39m, instance):\n\u001b[0;32m    118\u001b[0m     \u001b[38;5;124;03m\"\"\"Override for isinstance(instance, cls).\"\"\"\u001b[39;00m\n\u001b[1;32m--> 119\u001b[0m     \u001b[38;5;28;01mreturn\u001b[39;00m \u001b[43m_abc_instancecheck\u001b[49m\u001b[43m(\u001b[49m\u001b[38;5;28;43mcls\u001b[39;49m\u001b[43m,\u001b[49m\u001b[43m \u001b[49m\u001b[43minstance\u001b[49m\u001b[43m)\u001b[49m\n",
      "\u001b[1;31mRecursionError\u001b[0m: maximum recursion depth exceeded in comparison"
     ]
    },
    {
     "data": {
      "image/png": "[encoded data removed]",
      "text/plain": [
       "<Figure size 432x288 with 1 Axes>"
      ]
     },
     "metadata": {
      "needs_background": "light"
     },
     "output_type": "display_data"
    }
   ],
   "source": [
    "import sys\n",
    "print(sys.getrecursionlimit())\n",
    "sys.setrecursionlimit(3500)\n",
    "import matplotlib.pyplot as plt\n",
    "# Extract the relevant columns from the dataframe\n",
    "x = joined_df_4['relevance']\n",
    "y = joined_df_4['rating']\n",
    "\n",
    "# Create the scatter plot\n",
    "plt.scatter(x, y)\n",
    "\n",
    "# Add labels and title to the plot\n",
    "plt.xlabel('Tag relevance')\n",
    "plt.ylabel('Rating')\n",
    "plt.title('Scatter plot of tag relevance and rating')\n",
    "\n",
    "# Show the plot\n",
    "plt.show()"
   ]
  },
  {
   "cell_type": "code",
   "execution_count": 29,
   "id": "cb643611",
   "metadata": {
    "scrolled": false
   },
   "outputs": [
    {
     "name": "stdout",
     "output_type": "stream",
     "text": [
      "+-------+------+-----+------+------+----------------+---------+------+---------+\n",
      "|movieId|userId|tagId|imdbId|tmdbId|           title|   genres|rating|relevance|\n",
      "+-------+------+-----+------+------+----------------+---------+------+---------+\n",
      "|      1| 88055|  204|114709|   862|Toy Story (1995)|  Fantasy|   3.0|  0.96425|\n",
      "|      1| 88055|  204|114709|   862|Toy Story (1995)|   Comedy|   3.0|  0.96425|\n",
      "|      1| 88055|  204|114709|   862|Toy Story (1995)| Children|   3.0|  0.96425|\n",
      "|      1| 88055|  204|114709|   862|Toy Story (1995)|Animation|   3.0|  0.96425|\n",
      "|      1| 88055|  204|114709|   862|Toy Story (1995)|Adventure|   3.0|  0.96425|\n",
      "|      1| 51492|  204|114709|   862|Toy Story (1995)|  Fantasy|   2.0|  0.96425|\n",
      "|      1| 51492|  204|114709|   862|Toy Story (1995)|   Comedy|   2.0|  0.96425|\n",
      "|      1| 51492|  204|114709|   862|Toy Story (1995)| Children|   2.0|  0.96425|\n",
      "|      1| 51492|  204|114709|   862|Toy Story (1995)|Animation|   2.0|  0.96425|\n",
      "|      1| 51492|  204|114709|   862|Toy Story (1995)|Adventure|   2.0|  0.96425|\n",
      "|      1| 84441|  204|114709|   862|Toy Story (1995)|  Fantasy|   3.5|  0.96425|\n",
      "|      1| 84441|  204|114709|   862|Toy Story (1995)|   Comedy|   3.5|  0.96425|\n",
      "|      1| 84441|  204|114709|   862|Toy Story (1995)| Children|   3.5|  0.96425|\n",
      "|      1| 84441|  204|114709|   862|Toy Story (1995)|Animation|   3.5|  0.96425|\n",
      "|      1| 84441|  204|114709|   862|Toy Story (1995)|Adventure|   3.5|  0.96425|\n",
      "|      1| 72257|  204|114709|   862|Toy Story (1995)|  Fantasy|   5.0|  0.96425|\n",
      "|      1| 72257|  204|114709|   862|Toy Story (1995)|   Comedy|   5.0|  0.96425|\n",
      "|      1| 72257|  204|114709|   862|Toy Story (1995)| Children|   5.0|  0.96425|\n",
      "|      1| 72257|  204|114709|   862|Toy Story (1995)|Animation|   5.0|  0.96425|\n",
      "|      1| 72257|  204|114709|   862|Toy Story (1995)|Adventure|   5.0|  0.96425|\n",
      "+-------+------+-----+------+------+----------------+---------+------+---------+\n",
      "only showing top 20 rows\n",
      "\n"
     ]
    }
   ],
   "source": [
    "df = joined_df_4.select(\"movieId\", \"userId\", \"tagId\", \"imdbId\", \"tmdbId\", \"title\", \"genres\", \"rating\", \"relevance\")\n",
    "df.show()"
   ]
  },
  {
   "cell_type": "code",
   "execution_count": 44,
   "id": "f0154798",
   "metadata": {},
   "outputs": [],
   "source": []
  },
  {
   "cell_type": "code",
   "execution_count": 46,
   "id": "0388f241",
   "metadata": {},
   "outputs": [
    {
     "name": "stdout",
     "output_type": "stream",
     "text": [
      "+-------+--------------------+---------+------+------+----------+\n",
      "|movieId|               title|   genres|userId|rating| timestamp|\n",
      "+-------+--------------------+---------+------+------+----------+\n",
      "|      2|      Jumanji (1995)|  Fantasy|     1|   3.5|1112486027|\n",
      "|      2|      Jumanji (1995)| Children|     1|   3.5|1112486027|\n",
      "|      2|      Jumanji (1995)|Adventure|     1|   3.5|1112486027|\n",
      "|     29|City of Lost Chil...|   Sci-Fi|     1|   3.5|1112484676|\n",
      "|     29|City of Lost Chil...|  Mystery|     1|   3.5|1112484676|\n",
      "|     29|City of Lost Chil...|  Fantasy|     1|   3.5|1112484676|\n",
      "|     29|City of Lost Chil...|    Drama|     1|   3.5|1112484676|\n",
      "|     29|City of Lost Chil...|Adventure|     1|   3.5|1112484676|\n",
      "|     32|Twelve Monkeys (a...| Thriller|     1|   3.5|1112484819|\n",
      "|     32|Twelve Monkeys (a...|   Sci-Fi|     1|   3.5|1112484819|\n",
      "|     32|Twelve Monkeys (a...|  Mystery|     1|   3.5|1112484819|\n",
      "|     47|Seven (a.k.a. Se7...| Thriller|     1|   3.5|1112484727|\n",
      "|     47|Seven (a.k.a. Se7...|  Mystery|     1|   3.5|1112484727|\n",
      "|     50|Usual Suspects, T...| Thriller|     1|   3.5|1112484580|\n",
      "|     50|Usual Suspects, T...|  Mystery|     1|   3.5|1112484580|\n",
      "|     50|Usual Suspects, T...|    Crime|     1|   3.5|1112484580|\n",
      "|    112|Rumble in the Bro...|    Crime|     1|   3.5|1094785740|\n",
      "|    112|Rumble in the Bro...|   Comedy|     1|   3.5|1094785740|\n",
      "|    112|Rumble in the Bro...|Adventure|     1|   3.5|1094785740|\n",
      "|    112|Rumble in the Bro...|   Action|     1|   3.5|1094785740|\n",
      "+-------+--------------------+---------+------+------+----------+\n",
      "only showing top 20 rows\n",
      "\n"
     ]
    }
   ],
   "source": [
    "joined_df.show()"
   ]
  },
  {
   "cell_type": "code",
   "execution_count": 47,
   "id": "98fd48b0",
   "metadata": {},
   "outputs": [
    {
     "name": "stdout",
     "output_type": "stream",
     "text": [
      "+------+--------------------+-----------+\n",
      "|userId|               title|avg(rating)|\n",
      "+------+--------------------+-----------+\n",
      "|    11|         Jaws (1975)|        4.0|\n",
      "|    11|      Gattaca (1997)|        5.0|\n",
      "|    11|Appleseed (Appuru...|        5.0|\n",
      "|    13|  Judge Dredd (1995)|        3.0|\n",
      "|    14|Singin' in the Ra...|        3.5|\n",
      "|    14|   Cinderella (1950)|        4.0|\n",
      "|    18|Being John Malkov...|        4.0|\n",
      "|    18|Lord of the Rings...|        3.0|\n",
      "|    21|Shawshank Redempt...|        5.0|\n",
      "|    22|Few Good Men, A (...|        5.0|\n",
      "|    22|Rambo: First Bloo...|        5.0|\n",
      "|    24|     Swingers (1996)|        5.0|\n",
      "|    24|Beavis and Butt-H...|        4.0|\n",
      "|    24|Godfather: Part I...|        4.0|\n",
      "|    24|        Blade (1998)|        4.0|\n",
      "|    24|  About a Boy (2002)|        4.0|\n",
      "|    25|  Matrix, The (1999)|        3.5|\n",
      "|    26|Dumb & Dumber (Du...|        2.0|\n",
      "|    29|Léon: The Profess...|        4.0|\n",
      "|    31|Lion King, The (1...|        3.0|\n",
      "+------+--------------------+-----------+\n",
      "only showing top 20 rows\n",
      "\n"
     ]
    }
   ],
   "source": [
    "dataset = joined_df.groupBy(\"userId\",\"title\").agg(_avg(\"rating\"))\n",
    "dataset.show()"
   ]
  },
  {
   "cell_type": "code",
   "execution_count": null,
   "id": "775678fe",
   "metadata": {},
   "outputs": [],
   "source": [
    "# USING MLIB"
   ]
  },
  {
   "cell_type": "code",
   "execution_count": 30,
   "id": "750cac95",
   "metadata": {},
   "outputs": [],
   "source": [
    "\n"
   ]
  },
  {
   "cell_type": "code",
   "execution_count": 31,
   "id": "2ecb9cf9",
   "metadata": {},
   "outputs": [],
   "source": [
    "# Import the required functions\n",
    "\n",
    "# Create ALS model\n",
    "als = ALS(\n",
    "         userCol=\"userId\", \n",
    "         itemCol=\"movieId\",\n",
    "         ratingCol=\"rating\", \n",
    "         nonnegative = True, \n",
    "         implicitPrefs = False,\n",
    "         coldStartStrategy=\"drop\"\n",
    ")"
   ]
  },
  {
   "cell_type": "code",
   "execution_count": 33,
   "id": "9e2aee95",
   "metadata": {},
   "outputs": [],
   "source": [
    "# Import the requisite packages\n",
    "from pyspark.ml.tuning import ParamGridBuilder, CrossValidator\n",
    "from pyspark.ml.evaluation import RegressionEvaluator"
   ]
  },
  {
   "cell_type": "code",
   "execution_count": 34,
   "id": "8e877b91",
   "metadata": {},
   "outputs": [],
   "source": [
    "# Add hyperparameters and their respective values to param_grid\n",
    "param_grid = ParamGridBuilder() \\\n",
    "            .addGrid(als.rank, [10, 50, 100, 150]) \\\n",
    "            .addGrid(als.regParam, [.01, .05, .1, .15]) \\\n",
    "            .build()"
   ]
  },
  {
   "cell_type": "code",
   "execution_count": 35,
   "id": "e9ea1da6",
   "metadata": {},
   "outputs": [
    {
     "name": "stdout",
     "output_type": "stream",
     "text": [
      "Num models to be tested:  16\n"
     ]
    }
   ],
   "source": [
    "# Define evaluator as RMSE and print length of evaluator\n",
    "evaluator = RegressionEvaluator(\n",
    "           metricName=\"rmse\", \n",
    "           labelCol=\"rating\", \n",
    "           predictionCol=\"prediction\") \n",
    "print (\"Num models to be tested: \", len(param_grid))"
   ]
  },
  {
   "cell_type": "code",
   "execution_count": 38,
   "id": "19c3351b",
   "metadata": {},
   "outputs": [],
   "source": [
    "# Build cross validation using CrossValidator\n",
    "cv = CrossValidator(estimator=als, estimatorParamMaps=param_grid, evaluator=evaluator, numFolds=5)"
   ]
  },
  {
   "cell_type": "code",
   "execution_count": 37,
   "id": "d341e498",
   "metadata": {},
   "outputs": [
    {
     "name": "stdout",
     "output_type": "stream",
     "text": [
      "**Best Model**\n"
     ]
    },
    {
     "ename": "NameError",
     "evalue": "name 'best_model' is not defined",
     "output_type": "error",
     "traceback": [
      "\u001b[1;31m---------------------------------------------------------------------------\u001b[0m",
      "\u001b[1;31mNameError\u001b[0m                                 Traceback (most recent call last)",
      "Input \u001b[1;32mIn [37]\u001b[0m, in \u001b[0;36m<cell line: 3>\u001b[1;34m()\u001b[0m\n\u001b[0;32m      1\u001b[0m \u001b[38;5;28mprint\u001b[39m(\u001b[38;5;124m\"\u001b[39m\u001b[38;5;124m**Best Model**\u001b[39m\u001b[38;5;124m\"\u001b[39m)\n\u001b[0;32m      2\u001b[0m \u001b[38;5;66;03m# Print \"Rank\"\u001b[39;00m\n\u001b[1;32m----> 3\u001b[0m \u001b[38;5;28mprint\u001b[39m(\u001b[38;5;124m\"\u001b[39m\u001b[38;5;124m  Rank:\u001b[39m\u001b[38;5;124m\"\u001b[39m, \u001b[43mbest_model\u001b[49m\u001b[38;5;241m.\u001b[39m_java_obj\u001b[38;5;241m.\u001b[39mparent()\u001b[38;5;241m.\u001b[39mgetRank())\n\u001b[0;32m      4\u001b[0m \u001b[38;5;66;03m# Print \"MaxIter\"\u001b[39;00m\n\u001b[0;32m      5\u001b[0m \u001b[38;5;28mprint\u001b[39m(\u001b[38;5;124m\"\u001b[39m\u001b[38;5;124m  MaxIter:\u001b[39m\u001b[38;5;124m\"\u001b[39m, best_model\u001b[38;5;241m.\u001b[39m_java_obj\u001b[38;5;241m.\u001b[39mparent()\u001b[38;5;241m.\u001b[39mgetMaxIter())\n",
      "\u001b[1;31mNameError\u001b[0m: name 'best_model' is not defined"
     ]
    }
   ],
   "source": [
    "print(\"**Best Model**\")\n",
    "# Print \"Rank\"\n",
    "print(\"  Rank:\", best_model._java_obj.parent().getRank())\n",
    "# Print \"MaxIter\"\n",
    "print(\"  MaxIter:\", best_model._java_obj.parent().getMaxIter())\n",
    "# Print \"RegParam\"\n",
    "print(\"  RegParam:\", best_model._java_obj.parent().getRegParam())"
   ]
  },
  {
   "cell_type": "code",
   "execution_count": 39,
   "id": "0dd32ffc",
   "metadata": {},
   "outputs": [
    {
     "ename": "NameError",
     "evalue": "name 'train' is not defined",
     "output_type": "error",
     "traceback": [
      "\u001b[1;31m---------------------------------------------------------------------------\u001b[0m",
      "\u001b[1;31mNameError\u001b[0m                                 Traceback (most recent call last)",
      "Input \u001b[1;32mIn [39]\u001b[0m, in \u001b[0;36m<cell line: 2>\u001b[1;34m()\u001b[0m\n\u001b[0;32m      1\u001b[0m \u001b[38;5;66;03m# Fit cross validator to the 'train' dataset\u001b[39;00m\n\u001b[1;32m----> 2\u001b[0m model \u001b[38;5;241m=\u001b[39m cv\u001b[38;5;241m.\u001b[39mfit(\u001b[43mtrain\u001b[49m)\n\u001b[0;32m      3\u001b[0m \u001b[38;5;66;03m#Extract best model from the cv model above\u001b[39;00m\n\u001b[0;32m      4\u001b[0m best_model \u001b[38;5;241m=\u001b[39m model\u001b[38;5;241m.\u001b[39mbestModel\n",
      "\u001b[1;31mNameError\u001b[0m: name 'train' is not defined"
     ]
    }
   ],
   "source": [
    "# Fit cross validator to the 'train' dataset\n",
    "model = cv.fit(train)\n",
    "#Extract best model from the cv model above\n",
    "best_model = model.bestModel\n",
    "# View the predictions\n",
    "test_predictions = best_model.transform(test)\n",
    "RMSE = evaluator.evaluate(test_predictions)\n",
    "print(RMSE)"
   ]
  },
  {
   "cell_type": "code",
   "execution_count": null,
   "id": "e6c7e448",
   "metadata": {},
   "outputs": [],
   "source": []
  }
 ],
 "metadata": {
  "kernelspec": {
   "display_name": "Python 3 (ipykernel)",
   "language": "python",
   "name": "python3"
  },
  "language_info": {
   "codemirror_mode": {
    "name": "ipython",
    "version": 3
   },
   "file_extension": ".py",
   "mimetype": "text/x-python",
   "name": "python",
   "nbconvert_exporter": "python",
   "pygments_lexer": "ipython3",
   "version": "3.9.12"
  }
 },
 "nbformat": 4,
 "nbformat_minor": 5
}
