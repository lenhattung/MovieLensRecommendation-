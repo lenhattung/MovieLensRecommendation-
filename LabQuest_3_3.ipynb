{
  "cells": [
    {
      "cell_type": "markdown",
      "id": "afa5c729",
      "metadata": {
        "id": "afa5c729"
      },
      "source": [
        "## Big Data Analytics - Lab Quest 3\n",
        "### Instructure: Michał Rudko\n",
        "### Student: Nhat Tung Le, Id 426246, Group 1"
      ]
    },
    {
      "cell_type": "markdown",
      "id": "cb4f2364",
      "metadata": {
        "id": "cb4f2364"
      },
      "source": [
        "# Abstract\n",
        "\n",
        "Recommender System uses AI technology to analyze and understand personal data blocks, thereby, making predictions, suggesting recommendations that match the user's preferences at the time. any on online applications and platforms to save time searching, easy access to content, and at the same time, help businesses improve customer experience.\n",
        "\n",
        "In this project, I use Apache Spark, SQL, and MLib for data analysis, and build a recommendation system based on the MovieLens dataset."
      ]
    },
    {
      "cell_type": "markdown",
      "id": "3c6653ab",
      "metadata": {
        "id": "3c6653ab"
      },
      "source": [
        "# 1. Introduction"
      ]
    },
    {
      "cell_type": "markdown",
      "id": "3ad55613",
      "metadata": {
        "id": "3ad55613"
      },
      "source": [
        "## 1.1. Apache Spark \n",
        "\n",
        "Apache Spark is an open source cluster computing framework, originally developed in 2009 by AMPLab. Later on, Spark was given to Apache Software Foundation in 2013 and developed to date.\n",
        "\n",
        "Spark's processing speed is achieved because the computation is done at the same time on many different machines. At the same time, the calculation is done in internal memory (in-memories) or done entirely in RAM.\n",
        "\n",
        "Spark allows real-time data processing, both receiving data from different sources and immediately performing processing on the received data (Spark Streaming).\n",
        "\n",
        "Spark does not have its own file system, it uses other file systems such as: HDFS, Cassandra, S3,.... Spark supports many different file formats (text, csv, json…) and it is completely independent of any file system.\n",
        "\n",
        "Apache Spark consists of 5 main components: Spark Core, Spark Streaming, Spark SQL, MLlib and GraphX."
      ]
    },
    {
      "cell_type": "markdown",
      "id": "498a3b12",
      "metadata": {
        "id": "498a3b12"
      },
      "source": [
        "## 1.2. PyPark\n",
        "\n",
        "PySpark is the Python API for Apache Spark, an open source, distributed computing framework and set of libraries for real-time, large-scale data processing. If you’re already familiar with Python and libraries such as Pandas, then PySpark is a good language to learn to create more scalable analyses and pipelines."
      ]
    },
    {
      "cell_type": "markdown",
      "id": "4f492bd8",
      "metadata": {
        "id": "4f492bd8"
      },
      "source": [
        "To install PysPark, we can use the following command:"
      ]
    },
    {
      "cell_type": "code",
      "execution_count": 1,
      "id": "abbddcf4",
      "metadata": {
        "colab": {
          "base_uri": "https://localhost:8080/"
        },
        "id": "abbddcf4",
        "outputId": "4f291b36-3f2b-4d48-f835-212e7343b8f1"
      },
      "outputs": [
        {
          "output_type": "stream",
          "name": "stdout",
          "text": [
            "Looking in indexes: https://pypi.org/simple, https://us-python.pkg.dev/colab-wheels/public/simple/\n",
            "Requirement already satisfied: pyspark in /usr/local/lib/python3.8/dist-packages (3.3.1)\n",
            "Requirement already satisfied: py4j==0.10.9.5 in /usr/local/lib/python3.8/dist-packages (from pyspark) (0.10.9.5)\n"
          ]
        }
      ],
      "source": [
        "!pip install pyspark"
      ]
    },
    {
      "cell_type": "markdown",
      "id": "d443c8ea",
      "metadata": {
        "id": "d443c8ea"
      },
      "source": [
        "## 1.3. MLlib\n",
        "\n",
        "MLlib is Spark’s machine learning (ML) library. Its goal is to make practical machine learning scalable and easy. At a high level, it provides tools such as:\n",
        "* ML Algorithms: common learning algorithms such as classification, regression, clustering, and collaborative filtering\n",
        "* Featurization: feature extraction, transformation, dimensionality reduction, and selection\n",
        "* Pipelines: tools for constructing, evaluating, and tuning ML Pipelines\n",
        "* Persistence: saving and load algorithms, models, and Pipelines\n",
        "* Utilities: linear algebra, statistics, data handling, etc."
      ]
    },
    {
      "cell_type": "markdown",
      "id": "98adc482",
      "metadata": {
        "id": "98adc482"
      },
      "source": [
        "## 1.4. Alternating Least Square (ALS)\n",
        "\n",
        "Alternating Least Square (ALS) is also a matrix factorization algorithm and it runs itself in a parallel fashion. ALS is implemented in Apache Spark ML and built for a larges-scale collaborative filtering problems. ALS is doing a pretty good job at solving scalability and sparseness of the Ratings data, and it’s simple and scales well to very large datasets.\n"
      ]
    },
    {
      "cell_type": "markdown",
      "id": "24d403c4",
      "metadata": {
        "id": "24d403c4"
      },
      "source": [
        "## 1.5. MovieLens 20M Dataset\n",
        "\n",
        "MovieLens 20M movie ratings. Stable benchmark dataset. 20 million ratings and 465,000 tag applications applied to 27,000 movies by 138,000 users. Includes tag genome data with 12 million relevance scores across 1,100 tags. Released 4/2015; updated 10/2016 to update links.csv and add tag genome data.\n",
        "\n",
        "Link: <a href=\"https://grouplens.org/datasets/movielens/20m/\">https://grouplens.org/datasets/movielens/20m/</a>"
      ]
    },
    {
      "cell_type": "markdown",
      "id": "39562c69",
      "metadata": {
        "id": "39562c69"
      },
      "source": [
        "# 2. Exploratory data analysis"
      ]
    },
    {
      "cell_type": "markdown",
      "id": "395e26ab",
      "metadata": {
        "id": "395e26ab"
      },
      "source": [
        "## 2.1. Libs and create spark app"
      ]
    },
    {
      "cell_type": "code",
      "execution_count": 2,
      "id": "c4bcf1be",
      "metadata": {
        "id": "c4bcf1be"
      },
      "outputs": [],
      "source": [
        "# Required libraries:\n",
        "import os\n",
        "import matplotlib.pyplot as plt\n",
        "import seaborn as sns\n",
        "import pandas as pd\n",
        "import numpy as np\n",
        "from pyspark import SparkContext\n",
        "from pyspark.sql import SQLContext, SparkSession \n",
        "from pyspark.sql import functions as F \n",
        "from pyspark.sql.functions import col, split, explode\n",
        "from pyspark.sql.functions import sum as _sum\n",
        "from pyspark.sql.functions import countDistinct as _countDistinct\n",
        "from pyspark.sql.functions import avg as _avg\n",
        "from pyspark.sql.functions import rank\n",
        "from pyspark.sql.functions import substring,length\n",
        "from pyspark.sql.types import DateType, StringType, FloatType, IntegerType \n",
        "from pyspark.ml.feature import StringIndexer\n",
        "from pyspark.ml.classification import DecisionTreeClassifier\n",
        "from pyspark.ml.regression import LinearRegression\n",
        "from pyspark.ml.regression import DecisionTreeRegressor\n",
        "from pyspark.ml.evaluation import RegressionEvaluator\n",
        "from pyspark.ml.evaluation import RegressionEvaluator\n",
        "from pyspark.ml.recommendation import ALS\n",
        "from pyspark.ml.tuning import ParamGridBuilder, CrossValidator\n",
        "from pyspark.sql.window import Window\n",
        "from pyspark.ml.feature import StringIndexer, OneHotEncoder\n"
      ]
    },
    {
      "cell_type": "code",
      "source": [
        "# Step 1:  Connect to Our drive\n",
        "from google.colab import drive\n",
        "drive.mount(\"/content/drive/\")"
      ],
      "metadata": {
        "colab": {
          "base_uri": "https://localhost:8080/"
        },
        "id": "bEJR_3kN9rph",
        "outputId": "b371ec50-7969-411f-86a9-b24fe57f8881"
      },
      "id": "bEJR_3kN9rph",
      "execution_count": 3,
      "outputs": [
        {
          "output_type": "stream",
          "name": "stdout",
          "text": [
            "Drive already mounted at /content/drive/; to attempt to forcibly remount, call drive.mount(\"/content/drive/\", force_remount=True).\n"
          ]
        }
      ]
    },
    {
      "cell_type": "code",
      "execution_count": 4,
      "id": "e3911cd0",
      "metadata": {
        "colab": {
          "base_uri": "https://localhost:8080/"
        },
        "id": "e3911cd0",
        "outputId": "d778b1f1-0462-47a6-8888-516cf81176d2"
      },
      "outputs": [
        {
          "output_type": "execute_result",
          "data": {
            "text/plain": [
              "['genome-scores.csv',\n",
              " 'links.csv',\n",
              " 'genome-tags.csv',\n",
              " 'movies.csv',\n",
              " 'tags.csv',\n",
              " 'ratings.csv',\n",
              " 'README.txt',\n",
              " 'model.pkl',\n",
              " 'model.joblib',\n",
              " 'model.h5']"
            ]
          },
          "metadata": {},
          "execution_count": 4
        }
      ],
      "source": [
        "path = \"/content/drive/MyDrive/DataSet/MovieLens\"\n",
        "os.chdir(path)\n",
        "os.listdir()"
      ]
    },
    {
      "cell_type": "code",
      "execution_count": 5,
      "id": "ecdfbf10",
      "metadata": {
        "id": "ecdfbf10"
      },
      "outputs": [],
      "source": [
        "# Create spark\n",
        "spark = SparkSession.builder.master('local[*]').appName(\"MovieLens\").getOrCreate()"
      ]
    },
    {
      "cell_type": "markdown",
      "id": "49c07db4",
      "metadata": {
        "id": "49c07db4"
      },
      "source": [
        "## 2.2. Check schema and create DataFrame"
      ]
    },
    {
      "cell_type": "code",
      "execution_count": 6,
      "id": "75265c5a",
      "metadata": {
        "colab": {
          "base_uri": "https://localhost:8080/"
        },
        "id": "75265c5a",
        "outputId": "b732d47d-b264-41a8-c505-e12ab4aed36b"
      },
      "outputs": [
        {
          "output_type": "stream",
          "name": "stdout",
          "text": [
            "+-------+--------------------+--------------------+\n",
            "|movieId|               title|              genres|\n",
            "+-------+--------------------+--------------------+\n",
            "|      1|    Toy Story (1995)|Adventure|Animati...|\n",
            "|      2|      Jumanji (1995)|Adventure|Childre...|\n",
            "|      3|Grumpier Old Men ...|      Comedy|Romance|\n",
            "|      4|Waiting to Exhale...|Comedy|Drama|Romance|\n",
            "|      5|Father of the Bri...|              Comedy|\n",
            "|      6|         Heat (1995)|Action|Crime|Thri...|\n",
            "|      7|      Sabrina (1995)|      Comedy|Romance|\n",
            "|      8| Tom and Huck (1995)|  Adventure|Children|\n",
            "|      9| Sudden Death (1995)|              Action|\n",
            "|     10|    GoldenEye (1995)|Action|Adventure|...|\n",
            "|     11|American Presiden...|Comedy|Drama|Romance|\n",
            "|     12|Dracula: Dead and...|       Comedy|Horror|\n",
            "|     13|        Balto (1995)|Adventure|Animati...|\n",
            "|     14|        Nixon (1995)|               Drama|\n",
            "|     15|Cutthroat Island ...|Action|Adventure|...|\n",
            "|     16|       Casino (1995)|         Crime|Drama|\n",
            "|     17|Sense and Sensibi...|       Drama|Romance|\n",
            "|     18|   Four Rooms (1995)|              Comedy|\n",
            "|     19|Ace Ventura: When...|              Comedy|\n",
            "|     20|  Money Train (1995)|Action|Comedy|Cri...|\n",
            "+-------+--------------------+--------------------+\n",
            "only showing top 20 rows\n",
            "\n",
            "root\n",
            " |-- movieId: integer (nullable = true)\n",
            " |-- title: string (nullable = true)\n",
            " |-- genres: string (nullable = true)\n",
            "\n"
          ]
        }
      ],
      "source": [
        "## movies\n",
        "movies_df = spark.read.csv(\"movies.csv\", sep=\",\", header = True, inferSchema=True, nullValue=\"NA\")\n",
        "movies_df.show() \n",
        "movies_df.printSchema()"
      ]
    },
    {
      "cell_type": "code",
      "execution_count": 7,
      "id": "227055c8",
      "metadata": {
        "colab": {
          "base_uri": "https://localhost:8080/"
        },
        "id": "227055c8",
        "outputId": "66e2120e-5d5b-4b26-8607-d7fb0ef4c7c1"
      },
      "outputs": [
        {
          "output_type": "stream",
          "name": "stdout",
          "text": [
            "+------+-------+-----------------+----------+\n",
            "|userId|movieId|              tag| timestamp|\n",
            "+------+-------+-----------------+----------+\n",
            "|    18|   4141|      Mark Waters|1240597180|\n",
            "|    65|    208|        dark hero|1368150078|\n",
            "|    65|    353|        dark hero|1368150079|\n",
            "|    65|    521|    noir thriller|1368149983|\n",
            "|    65|    592|        dark hero|1368150078|\n",
            "|    65|    668|        bollywood|1368149876|\n",
            "|    65|    898| screwball comedy|1368150160|\n",
            "|    65|   1248|    noir thriller|1368149983|\n",
            "|    65|   1391|             mars|1368150055|\n",
            "|    65|   1617|         neo-noir|1368150217|\n",
            "|    65|   1694|            jesus|1368149925|\n",
            "|    65|   1783|    noir thriller|1368149983|\n",
            "|    65|   2022|            jesus|1368149925|\n",
            "|    65|   2193|           dragon|1368151314|\n",
            "|    65|   2353|conspiracy theory|1368151266|\n",
            "|    65|   2662|             mars|1368150055|\n",
            "|    65|   2726|    noir thriller|1368149983|\n",
            "|    65|   2840|            jesus|1368149925|\n",
            "|    65|   3052|            jesus|1368149926|\n",
            "|    65|   5135|        bollywood|1368149876|\n",
            "+------+-------+-----------------+----------+\n",
            "only showing top 20 rows\n",
            "\n",
            "root\n",
            " |-- userId: integer (nullable = true)\n",
            " |-- movieId: integer (nullable = true)\n",
            " |-- tag: string (nullable = true)\n",
            " |-- timestamp: integer (nullable = true)\n",
            "\n"
          ]
        }
      ],
      "source": [
        "## tags\n",
        "tags_df = spark.read.csv(\"tags.csv\", sep=\",\", header = True, inferSchema=True, nullValue=\"NA\")\n",
        "tags_df.show() \n",
        "tags_df.printSchema()"
      ]
    },
    {
      "cell_type": "code",
      "execution_count": 8,
      "id": "fa1887a9",
      "metadata": {
        "colab": {
          "base_uri": "https://localhost:8080/"
        },
        "id": "fa1887a9",
        "outputId": "a914ffec-70fc-4cd3-ebc6-10048d478827"
      },
      "outputs": [
        {
          "output_type": "stream",
          "name": "stdout",
          "text": [
            "+------+-------+------+----------+\n",
            "|userId|movieId|rating| timestamp|\n",
            "+------+-------+------+----------+\n",
            "|     1|      2|   3.5|1112486027|\n",
            "|     1|     29|   3.5|1112484676|\n",
            "|     1|     32|   3.5|1112484819|\n",
            "|     1|     47|   3.5|1112484727|\n",
            "|     1|     50|   3.5|1112484580|\n",
            "|     1|    112|   3.5|1094785740|\n",
            "|     1|    151|   4.0|1094785734|\n",
            "|     1|    223|   4.0|1112485573|\n",
            "|     1|    253|   4.0|1112484940|\n",
            "|     1|    260|   4.0|1112484826|\n",
            "|     1|    293|   4.0|1112484703|\n",
            "|     1|    296|   4.0|1112484767|\n",
            "|     1|    318|   4.0|1112484798|\n",
            "|     1|    337|   3.5|1094785709|\n",
            "|     1|    367|   3.5|1112485980|\n",
            "|     1|    541|   4.0|1112484603|\n",
            "|     1|    589|   3.5|1112485557|\n",
            "|     1|    593|   3.5|1112484661|\n",
            "|     1|    653|   3.0|1094785691|\n",
            "|     1|    919|   3.5|1094785621|\n",
            "+------+-------+------+----------+\n",
            "only showing top 20 rows\n",
            "\n",
            "root\n",
            " |-- userId: integer (nullable = true)\n",
            " |-- movieId: integer (nullable = true)\n",
            " |-- rating: double (nullable = true)\n",
            " |-- timestamp: integer (nullable = true)\n",
            "\n"
          ]
        }
      ],
      "source": [
        "## ratings\n",
        "ratings_df = spark.read.csv(\"ratings.csv\", sep=\",\", header = True, inferSchema=True, nullValue=\"NA\")\n",
        "ratings_df.show() \n",
        "ratings_df.printSchema()"
      ]
    },
    {
      "cell_type": "code",
      "execution_count": 9,
      "id": "fcdbeb1c",
      "metadata": {
        "colab": {
          "base_uri": "https://localhost:8080/"
        },
        "id": "fcdbeb1c",
        "outputId": "1a205bcf-535b-4e57-b7ff-09754f9bf52f"
      },
      "outputs": [
        {
          "output_type": "stream",
          "name": "stdout",
          "text": [
            "+-------+------+------+\n",
            "|movieId|imdbId|tmdbId|\n",
            "+-------+------+------+\n",
            "|      1|114709|   862|\n",
            "|      2|113497|  8844|\n",
            "|      3|113228| 15602|\n",
            "|      4|114885| 31357|\n",
            "|      5|113041| 11862|\n",
            "|      6|113277|   949|\n",
            "|      7|114319| 11860|\n",
            "|      8|112302| 45325|\n",
            "|      9|114576|  9091|\n",
            "|     10|113189|   710|\n",
            "|     11|112346|  9087|\n",
            "|     12|112896| 12110|\n",
            "|     13|112453| 21032|\n",
            "|     14|113987| 10858|\n",
            "|     15|112760|  1408|\n",
            "|     16|112641|   524|\n",
            "|     17|114388|  4584|\n",
            "|     18|113101|     5|\n",
            "|     19|112281|  9273|\n",
            "|     20|113845| 11517|\n",
            "+-------+------+------+\n",
            "only showing top 20 rows\n",
            "\n",
            "root\n",
            " |-- movieId: integer (nullable = true)\n",
            " |-- imdbId: integer (nullable = true)\n",
            " |-- tmdbId: integer (nullable = true)\n",
            "\n"
          ]
        }
      ],
      "source": [
        "## links\n",
        "links_df = spark.read.csv(\"links.csv\", sep=\",\", header = True, inferSchema=True, nullValue=\"NA\")\n",
        "links_df.show() \n",
        "links_df.printSchema()"
      ]
    },
    {
      "cell_type": "code",
      "execution_count": 10,
      "id": "09c9ccbf",
      "metadata": {
        "colab": {
          "base_uri": "https://localhost:8080/"
        },
        "id": "09c9ccbf",
        "outputId": "e7ac5912-5004-4d0b-efed-3b16f3942563"
      },
      "outputs": [
        {
          "output_type": "stream",
          "name": "stdout",
          "text": [
            "+-----+---------------+\n",
            "|tagId|            tag|\n",
            "+-----+---------------+\n",
            "|    1|            007|\n",
            "|    2|   007 (series)|\n",
            "|    3|   18th century|\n",
            "|    4|          1920s|\n",
            "|    5|          1930s|\n",
            "|    6|          1950s|\n",
            "|    7|          1960s|\n",
            "|    8|          1970s|\n",
            "|    9|          1980s|\n",
            "|   10|   19th century|\n",
            "|   11|             3d|\n",
            "|   12|           70mm|\n",
            "|   13|            80s|\n",
            "|   14|           9/11|\n",
            "|   15|        aardman|\n",
            "|   16|aardman studios|\n",
            "|   17|       abortion|\n",
            "|   18|         absurd|\n",
            "|   19|         action|\n",
            "|   20|  action packed|\n",
            "+-----+---------------+\n",
            "only showing top 20 rows\n",
            "\n",
            "root\n",
            " |-- tagId: integer (nullable = true)\n",
            " |-- tag: string (nullable = true)\n",
            "\n"
          ]
        }
      ],
      "source": [
        "## genome-tags\n",
        "genome_tags_df = spark.read.csv(\"genome-tags.csv\", sep=\",\", header = True, inferSchema=True, nullValue=\"NA\")\n",
        "genome_tags_df.show() \n",
        "genome_tags_df.printSchema()"
      ]
    },
    {
      "cell_type": "code",
      "execution_count": 11,
      "id": "132b5990",
      "metadata": {
        "colab": {
          "base_uri": "https://localhost:8080/"
        },
        "id": "132b5990",
        "outputId": "4b62c041-c399-42f4-cbd7-91d0085e931e"
      },
      "outputs": [
        {
          "output_type": "stream",
          "name": "stdout",
          "text": [
            "+-------+-----+--------------------+\n",
            "|movieId|tagId|           relevance|\n",
            "+-------+-----+--------------------+\n",
            "|      1|    1|0.025000000000000022|\n",
            "|      1|    2|0.025000000000000022|\n",
            "|      1|    3|0.057750000000000024|\n",
            "|      1|    4|             0.09675|\n",
            "|      1|    5|             0.14675|\n",
            "|      1|    6| 0.21700000000000003|\n",
            "|      1|    7|               0.067|\n",
            "|      1|    8| 0.26275000000000004|\n",
            "|      1|    9|               0.262|\n",
            "|      1|   10| 0.03199999999999997|\n",
            "|      1|   11|               0.577|\n",
            "|      1|   12| 0.11625000000000002|\n",
            "|      1|   13|               0.188|\n",
            "|      1|   14|0.008000000000000007|\n",
            "|      1|   15|0.036750000000000005|\n",
            "|      1|   16| 0.28174999999999994|\n",
            "|      1|   17|0.007000000000000006|\n",
            "|      1|   18| 0.11049999999999999|\n",
            "|      1|   19|              0.6705|\n",
            "|      1|   20|              0.1845|\n",
            "+-------+-----+--------------------+\n",
            "only showing top 20 rows\n",
            "\n",
            "root\n",
            " |-- movieId: integer (nullable = true)\n",
            " |-- tagId: integer (nullable = true)\n",
            " |-- relevance: double (nullable = true)\n",
            "\n"
          ]
        }
      ],
      "source": [
        "## genome-scores\n",
        "genome_scores_df = spark.read.csv(\"genome-scores.csv\", sep=\",\", header = True, inferSchema=True, nullValue=\"NA\")\n",
        "genome_scores_df.show() \n",
        "genome_scores_df.printSchema()"
      ]
    },
    {
      "cell_type": "code",
      "execution_count": 12,
      "id": "d18c9e9e",
      "metadata": {
        "colab": {
          "base_uri": "https://localhost:8080/",
          "height": 128
        },
        "id": "d18c9e9e",
        "outputId": "2367bb6b-1c13-4b0a-b306-a438401bd58e"
      },
      "outputs": [
        {
          "output_type": "display_data",
          "data": {
            "text/plain": [
              "DataFrame[movieId: int, title: string, genres: string]"
            ]
          },
          "metadata": {}
        },
        {
          "output_type": "display_data",
          "data": {
            "text/plain": [
              "DataFrame[userId: int, movieId: int, tag: string, timestamp: int]"
            ]
          },
          "metadata": {}
        },
        {
          "output_type": "display_data",
          "data": {
            "text/plain": [
              "DataFrame[tagId: int, tag: string]"
            ]
          },
          "metadata": {}
        },
        {
          "output_type": "display_data",
          "data": {
            "text/plain": [
              "DataFrame[movieId: int, tagId: int, relevance: double]"
            ]
          },
          "metadata": {}
        },
        {
          "output_type": "display_data",
          "data": {
            "text/plain": [
              "DataFrame[movieId: int, imdbId: int, tmdbId: int]"
            ]
          },
          "metadata": {}
        },
        {
          "output_type": "display_data",
          "data": {
            "text/plain": [
              "DataFrame[userId: int, movieId: int, rating: double, timestamp: int]"
            ]
          },
          "metadata": {}
        }
      ],
      "source": [
        "# Summary all DataFrame\n",
        "display(movies_df)\n",
        "display(tags_df)\n",
        "display(genome_tags_df)\n",
        "display(genome_scores_df)\n",
        "display(links_df)\n",
        "display(ratings_df)"
      ]
    },
    {
      "cell_type": "markdown",
      "id": "4425e2e3",
      "metadata": {
        "id": "4425e2e3"
      },
      "source": [
        "## 2.3. Informations"
      ]
    },
    {
      "cell_type": "code",
      "execution_count": 13,
      "id": "d0f2ce64",
      "metadata": {
        "colab": {
          "base_uri": "https://localhost:8080/"
        },
        "id": "d0f2ce64",
        "outputId": "b162be83-2520-44eb-a8dc-ac83f8aac8c0"
      },
      "outputs": [
        {
          "output_type": "stream",
          "name": "stdout",
          "text": [
            "Number of unique movies: 27278\n"
          ]
        }
      ],
      "source": [
        "# Number of unique movies\n",
        "movies_df.createOrReplaceTempView(\"movies\")\n",
        "unique_movies = spark.sql(\"SELECT COUNT(DISTINCT movieId) FROM movies\").collect()[0][0]\n",
        "print(\"Number of unique movies:\", unique_movies)"
      ]
    },
    {
      "cell_type": "code",
      "execution_count": 14,
      "id": "725b8263",
      "metadata": {
        "colab": {
          "base_uri": "https://localhost:8080/"
        },
        "id": "725b8263",
        "outputId": "ccaaaa66-3876-4244-c21d-1bec7f417ed8"
      },
      "outputs": [
        {
          "output_type": "stream",
          "name": "stdout",
          "text": [
            "Number of users participating in rating points for movies: 138493\n"
          ]
        }
      ],
      "source": [
        "# Number of users participating in rating points for movies\n",
        "ratings_df.createOrReplaceTempView(\"ratings\")\n",
        "unique_users = spark.sql(\"SELECT COUNT(DISTINCT userId) FROM ratings\").collect()[0][0]\n",
        "print(\"Number of users participating in rating points for movies:\", unique_users)"
      ]
    },
    {
      "cell_type": "code",
      "execution_count": 15,
      "id": "188de125",
      "metadata": {
        "colab": {
          "base_uri": "https://localhost:8080/"
        },
        "id": "188de125",
        "outputId": "ca9cca21-cad5-418f-e37d-ac0e4bd7ec62"
      },
      "outputs": [
        {
          "output_type": "stream",
          "name": "stdout",
          "text": [
            "+-------+--------------------+---------+\n",
            "|movieId|               title|   genres|\n",
            "+-------+--------------------+---------+\n",
            "|      1|    Toy Story (1995)|Adventure|\n",
            "|      1|    Toy Story (1995)|Animation|\n",
            "|      1|    Toy Story (1995)| Children|\n",
            "|      1|    Toy Story (1995)|   Comedy|\n",
            "|      1|    Toy Story (1995)|  Fantasy|\n",
            "|      2|      Jumanji (1995)|Adventure|\n",
            "|      2|      Jumanji (1995)| Children|\n",
            "|      2|      Jumanji (1995)|  Fantasy|\n",
            "|      3|Grumpier Old Men ...|   Comedy|\n",
            "|      3|Grumpier Old Men ...|  Romance|\n",
            "|      4|Waiting to Exhale...|   Comedy|\n",
            "|      4|Waiting to Exhale...|    Drama|\n",
            "|      4|Waiting to Exhale...|  Romance|\n",
            "|      5|Father of the Bri...|   Comedy|\n",
            "|      6|         Heat (1995)|   Action|\n",
            "|      6|         Heat (1995)|    Crime|\n",
            "|      6|         Heat (1995)| Thriller|\n",
            "|      7|      Sabrina (1995)|   Comedy|\n",
            "|      7|      Sabrina (1995)|  Romance|\n",
            "|      8| Tom and Huck (1995)|Adventure|\n",
            "+-------+--------------------+---------+\n",
            "only showing top 20 rows\n",
            "\n",
            "root\n",
            " |-- movieId: integer (nullable = true)\n",
            " |-- title: string (nullable = true)\n",
            " |-- genres: string (nullable = false)\n",
            "\n"
          ]
        }
      ],
      "source": [
        "# Split genres\n",
        "movies_df_2 = movies_df.withColumn(\"genres\", explode(split(\"genres\", \"[|]\")))\n",
        "movies_df_2.show()\n",
        "movies_df_2.printSchema()"
      ]
    },
    {
      "cell_type": "code",
      "execution_count": 16,
      "id": "cc9d6360",
      "metadata": {
        "colab": {
          "base_uri": "https://localhost:8080/"
        },
        "id": "cc9d6360",
        "outputId": "aae49dec-7c96-44d1-a51a-a3c4807e87a6"
      },
      "outputs": [
        {
          "output_type": "stream",
          "name": "stdout",
          "text": [
            "+------------------+-----+\n",
            "|            genres|count|\n",
            "+------------------+-----+\n",
            "|             Crime| 2939|\n",
            "|           Romance| 4127|\n",
            "|          Thriller| 4178|\n",
            "|         Adventure| 2329|\n",
            "|             Drama|13344|\n",
            "|               War| 1194|\n",
            "|       Documentary| 2471|\n",
            "|           Fantasy| 1412|\n",
            "|           Mystery| 1514|\n",
            "|           Musical| 1036|\n",
            "|         Animation| 1027|\n",
            "|         Film-Noir|  330|\n",
            "|(no genres listed)|  246|\n",
            "|              IMAX|  196|\n",
            "|            Horror| 2611|\n",
            "|           Western|  676|\n",
            "|            Comedy| 8374|\n",
            "|          Children| 1139|\n",
            "|            Action| 3520|\n",
            "|            Sci-Fi| 1743|\n",
            "+------------------+-----+\n",
            "\n"
          ]
        }
      ],
      "source": [
        "# Statistics of movies by genre:\n",
        "genres_count_df = movies_df_2.groupBy(\"genres\").count()\n",
        "genres_count_df.show()"
      ]
    },
    {
      "cell_type": "code",
      "execution_count": 17,
      "id": "8c254619",
      "metadata": {
        "colab": {
          "base_uri": "https://localhost:8080/",
          "height": 595
        },
        "id": "8c254619",
        "outputId": "b5f637ef-303f-4d4e-dff3-b5dd669b453a"
      },
      "outputs": [
        {
          "output_type": "display_data",
          "data": {
            "text/plain": [
              "<Figure size 1800x720 with 1 Axes>"
            ],
            "image/png": "[encoded data removed]"
          },
          "metadata": {
            "needs_background": "light"
          }
        }
      ],
      "source": [
        "genres_count_df_2 = genres_count_df.select(\"genres\", \"count\").toPandas()\n",
        "plt.figure(figsize=(25, 10))\n",
        "plt.bar(genres_count_df_2['genres'], genres_count_df_2['count'])\n",
        "plt.show()"
      ]
    },
    {
      "cell_type": "code",
      "execution_count": 18,
      "id": "4cf5d445",
      "metadata": {
        "colab": {
          "base_uri": "https://localhost:8080/"
        },
        "id": "4cf5d445",
        "outputId": "58fc9bff-7ff6-4026-df34-52ab5b0669e3"
      },
      "outputs": [
        {
          "output_type": "stream",
          "name": "stdout",
          "text": [
            "+-------+--------------------+--------------------+------+------+----------+\n",
            "|movieId|               title|              genres|userId|rating| timestamp|\n",
            "+-------+--------------------+--------------------+------+------+----------+\n",
            "|      2|      Jumanji (1995)|Adventure|Childre...|     1|   3.5|1112486027|\n",
            "|     29|City of Lost Chil...|Adventure|Drama|F...|     1|   3.5|1112484676|\n",
            "|     32|Twelve Monkeys (a...|Mystery|Sci-Fi|Th...|     1|   3.5|1112484819|\n",
            "|     47|Seven (a.k.a. Se7...|    Mystery|Thriller|     1|   3.5|1112484727|\n",
            "|     50|Usual Suspects, T...|Crime|Mystery|Thr...|     1|   3.5|1112484580|\n",
            "|    112|Rumble in the Bro...|Action|Adventure|...|     1|   3.5|1094785740|\n",
            "|    151|      Rob Roy (1995)|Action|Drama|Roma...|     1|   4.0|1094785734|\n",
            "|    223|       Clerks (1994)|              Comedy|     1|   4.0|1112485573|\n",
            "|    253|Interview with th...|        Drama|Horror|     1|   4.0|1112484940|\n",
            "|    260|Star Wars: Episod...|Action|Adventure|...|     1|   4.0|1112484826|\n",
            "|    293|Léon: The Profess...|Action|Crime|Dram...|     1|   4.0|1112484703|\n",
            "|    296| Pulp Fiction (1994)|Comedy|Crime|Dram...|     1|   4.0|1112484767|\n",
            "|    318|Shawshank Redempt...|         Crime|Drama|     1|   4.0|1112484798|\n",
            "|    337|What's Eating Gil...|               Drama|     1|   3.5|1094785709|\n",
            "|    367|    Mask, The (1994)|Action|Comedy|Cri...|     1|   3.5|1112485980|\n",
            "|    541| Blade Runner (1982)|Action|Sci-Fi|Thr...|     1|   4.0|1112484603|\n",
            "|    589|Terminator 2: Jud...|       Action|Sci-Fi|     1|   3.5|1112485557|\n",
            "|    593|Silence of the La...|Crime|Horror|Thri...|     1|   3.5|1112484661|\n",
            "|    653|  Dragonheart (1996)|Action|Adventure|...|     1|   3.0|1094785691|\n",
            "|    919|Wizard of Oz, The...|Adventure|Childre...|     1|   3.5|1094785621|\n",
            "+-------+--------------------+--------------------+------+------+----------+\n",
            "only showing top 20 rows\n",
            "\n"
          ]
        }
      ],
      "source": [
        "# Join movies_df & ratings_df\n",
        "joined_ratings_df = movies_df.join(ratings_df, movies_df.movieId == ratings_df.movieId, \"inner\").drop(ratings_df.movieId)\n",
        "joined_ratings_df.show()"
      ]
    },
    {
      "cell_type": "code",
      "execution_count": 19,
      "id": "33d89e67",
      "metadata": {
        "id": "33d89e67"
      },
      "outputs": [],
      "source": [
        "# Top 150 highest rated films \n",
        "# groupBy by and orderBy desc\n",
        "joined_ratings_df.drop(\"timestamp\")\n",
        "joined_avg_ratings_df = joined_ratings_df.groupBy(\"userId\", \"title\").agg(_avg(\"rating\").alias(\"avg_rating\"))\n",
        "desc_df = joined_avg_ratings_df.orderBy(joined_avg_ratings_df.avg_rating.desc())\n",
        "# desc_df.show()"
      ]
    },
    {
      "cell_type": "code",
      "execution_count": 20,
      "id": "2fe1edec",
      "metadata": {
        "colab": {
          "base_uri": "https://localhost:8080/"
        },
        "id": "2fe1edec",
        "outputId": "d7d859d0-83c7-4f0e-8afd-d3c56d750bc5"
      },
      "outputs": [
        {
          "output_type": "stream",
          "name": "stdout",
          "text": [
            "+------+--------------------+----------+\n",
            "|userId|               title|avg_rating|\n",
            "+------+--------------------+----------+\n",
            "|    24| Little Nicky (2000)|       5.0|\n",
            "|    73|Searching for Bob...|       5.0|\n",
            "|    24|  Point Break (1991)|       5.0|\n",
            "|     2|Star Trek: First ...|       5.0|\n",
            "|    24|Prophecy, The (1995)|       5.0|\n",
            "|     3|Dead Zone, The (1...|       5.0|\n",
            "|    24|    Ring, The (2002)|       5.0|\n",
            "|     3|       Malice (1993)|       5.0|\n",
            "|    24|  Scary Movie (2000)|       5.0|\n",
            "|     3|Young Frankenstei...|       5.0|\n",
            "|    24|     Swingers (1996)|       5.0|\n",
            "|     5|        Speed (1994)|       5.0|\n",
            "|    24|Terminator, The (...|       5.0|\n",
            "|     6|Birdcage, The (1996)|       5.0|\n",
            "|    53|      Amateur (1994)|       5.0|\n",
            "|    73|Schindler's List ...|       5.0|\n",
            "|    53|  Brassed Off (1996)|       5.0|\n",
            "|    11|AVPR: Aliens vs. ...|       5.0|\n",
            "|    53|        Limbo (1999)|       5.0|\n",
            "|    11|    Annapolis (2006)|       5.0|\n",
            "|    53|Night on Earth (1...|       5.0|\n",
            "|    11|Bachelor Party (1...|       5.0|\n",
            "|    53|Postman, The (Pos...|       5.0|\n",
            "|    11|Ghostbusters (a.k...|       5.0|\n",
            "|    54|Contender, The (2...|       5.0|\n",
            "|    11|   Mac and Me (1988)|       5.0|\n",
            "|    54|Dances with Wolve...|       5.0|\n",
            "|    11|Sweeney Todd: The...|       5.0|\n",
            "|    54|Field of Dreams (...|       5.0|\n",
            "|    11|  Unbreakable (2000)|       5.0|\n",
            "|    54|Independence Day ...|       5.0|\n",
            "|    14|Amazing Grace (2006)|       5.0|\n",
            "|    54|L.A. Confidential...|       5.0|\n",
            "|    14|Prince of Egypt, ...|       5.0|\n",
            "|    54|Princess Bride, T...|       5.0|\n",
            "|    18|And Your Mother T...|       5.0|\n",
            "|    54|Shawshank Redempt...|       5.0|\n",
            "|    18|       Spider (2002)|       5.0|\n",
            "|    54|   Thing, The (1982)|       5.0|\n",
            "|    21|   Goodfellas (1990)|       5.0|\n",
            "|    54|Time Machine, The...|       5.0|\n",
            "|    21|Shawshank Redempt...|       5.0|\n",
            "|    54|Twelve Monkeys (a...|       5.0|\n",
            "|    21|   Thing, The (1982)|       5.0|\n",
            "|    56|  Angel Heart (1987)|       5.0|\n",
            "|    22|    Game, The (1997)|       5.0|\n",
            "|    56|Flirting With Dis...|       5.0|\n",
            "|    24|American Pie 2 (2...|       5.0|\n",
            "|    56| Pulp Fiction (1994)|       5.0|\n",
            "|    24|  Chasing Amy (1997)|       5.0|\n",
            "|    58|   Annie Hall (1977)|       5.0|\n",
            "|    24|      Gattaca (1997)|       5.0|\n",
            "|    58|Batman Begins (2005)|       5.0|\n",
            "|     3|Escape from New Y...|       5.0|\n",
            "|    58|  Best Seller (1987)|       5.0|\n",
            "|     5|E.T. the Extra-Te...|       5.0|\n",
            "|    58|Big Kahuna, The (...|       5.0|\n",
            "|     7|        Ghost (1990)|       5.0|\n",
            "|    58| Blade Runner (1982)|       5.0|\n",
            "|    26|Terminator 2: Jud...|       5.0|\n",
            "|    58|   Braveheart (1995)|       5.0|\n",
            "|    29|Carlito's Way (1993)|       5.0|\n",
            "|    58|     Catch-22 (1970)|       5.0|\n",
            "|    30|    Pinocchio (1940)|       5.0|\n",
            "|    58| Citizen Kane (1941)|       5.0|\n",
            "|    31|Cowboys & Aliens ...|       5.0|\n",
            "|    58|Conspiracy Theory...|       5.0|\n",
            "|    31|  Equilibrium (2002)|       5.0|\n",
            "|    58|Dead Zone, The (1...|       5.0|\n",
            "|    34|Fugitive, The (1993)|       5.0|\n",
            "|    58|  Deliverance (1972)|       5.0|\n",
            "|    35|  I Am Legend (2007)|       5.0|\n",
            "|    58|   Eraserhead (1977)|       5.0|\n",
            "|    35|Pirates of the Ca...|       5.0|\n",
            "|    58|Fatal Attraction ...|       5.0|\n",
            "|    38|Mr. Holland's Opu...|       5.0|\n",
            "|    58|Gone with the Win...|       5.0|\n",
            "|    41|  Being There (1979)|       5.0|\n",
            "|    58|         Jaws (1975)|       5.0|\n",
            "|    43| Forrest Gump (1994)|       5.0|\n",
            "|    58|   Kalifornia (1993)|       5.0|\n",
            "|    44|Wallace & Gromit:...|       5.0|\n",
            "|    58|Little Big Man (1...|       5.0|\n",
            "|    46|        Fargo (1996)|       5.0|\n",
            "|    58|    Manhattan (1979)|       5.0|\n",
            "|    50|2001: A Space Ody...|       5.0|\n",
            "|    58|Meet Joe Black (1...|       5.0|\n",
            "|    50|Spirited Away (Se...|       5.0|\n",
            "|    58|Postcards From th...|       5.0|\n",
            "|    53| 12 Angry Men (1957)|       5.0|\n",
            "|    58|Puppet Masters, T...|       5.0|\n",
            "|    11|       Aliens (1986)|       5.0|\n",
            "|    58| Quadrophenia (1979)|       5.0|\n",
            "|    11|      Gattaca (1997)|       5.0|\n",
            "|    58|Sleepless in Seat...|       5.0|\n",
            "|    11|        Spawn (1997)|       5.0|\n",
            "|    58|       Snatch (2000)|       5.0|\n",
            "|    13|    Apollo 13 (1995)|       5.0|\n",
            "|    58|  Taxi Driver (1976)|       5.0|\n",
            "|    14|     Sneakers (1992)|       5.0|\n",
            "|    58|Trouble with Harr...|       5.0|\n",
            "|    19|        Fargo (1996)|       5.0|\n",
            "|    58|Victor/Victoria (...|       5.0|\n",
            "|    21|Star Wars: Episod...|       5.0|\n",
            "|    58|Who Framed Roger ...|       5.0|\n",
            "|    22|Rambo: First Bloo...|       5.0|\n",
            "|    58|Young Frankenstei...|       5.0|\n",
            "|    24| Forrest Gump (1994)|       5.0|\n",
            "|    60|Harry Potter and ...|       5.0|\n",
            "|     3|Star Trek II: The...|       5.0|\n",
            "|    60|Into the Wild (2007)|       5.0|\n",
            "|     9|Godfather, The (1...|       5.0|\n",
            "|    60|Wild Hearts Can't...|       5.0|\n",
            "|    29|Immortal Beloved ...|       5.0|\n",
            "|    61|Buffalo '66 (a.k....|       5.0|\n",
            "|    31|Despicable Me (2010)|       5.0|\n",
            "|    61|Lord of the Rings...|       5.0|\n",
            "|    35|   Adaptation (2002)|       5.0|\n",
            "|    61|Monty Python and ...|       5.0|\n",
            "|    35|Seven (a.k.a. Se7...|       5.0|\n",
            "|    62|50 First Dates (2...|       5.0|\n",
            "|    41|       Patton (1970)|       5.0|\n",
            "|    62|     Heathers (1989)|       5.0|\n",
            "|    46|Dead Man Walking ...|       5.0|\n",
            "|    62|Shawshank Redempt...|       5.0|\n",
            "|    50|Lost in Translati...|       5.0|\n",
            "|    63|        Glory (1989)|       5.0|\n",
            "|    11|13 Going on 30 (2...|       5.0|\n",
            "|    63|Killing Fields, T...|       5.0|\n",
            "|    11|Johnny Mnemonic (...|       5.0|\n",
            "|    65|Slumdog Millionai...|       5.0|\n",
            "|    14|        Oscar (1991)|       5.0|\n",
            "|    66|   Get Shorty (1995)|       5.0|\n",
            "|    21|Schindler's List ...|       5.0|\n",
            "|    67|Forbidden Planet ...|       5.0|\n",
            "|    24|    Cape Fear (1991)|       5.0|\n",
            "|    67|    Rock, The (1996)|       5.0|\n",
            "|     5|Terminator 2: Jud...|       5.0|\n",
            "|    69|Dracula (Bram Sto...|       5.0|\n",
            "|    31|Blade: Trinity (2...|       5.0|\n",
            "|    70|Cheech and Chong'...|       5.0|\n",
            "|    35|Love Actually (2003)|       5.0|\n",
            "|    70|Godfather, The (1...|       5.0|\n",
            "|    43|Lost in Translati...|       5.0|\n",
            "|    70|         Heat (1995)|       5.0|\n",
            "|    51|Truman Show, The ...|       5.0|\n",
            "|    70|     Swingers (1996)|       5.0|\n",
            "|    11|  Toy Story 2 (1999)|       5.0|\n",
            "|    72|  Logan's Run (1976)|       5.0|\n",
            "|    22|Few Good Men, A (...|       5.0|\n",
            "+------+--------------------+----------+\n",
            "\n"
          ]
        }
      ],
      "source": [
        "# Print top 150\n",
        "top_150 = desc_df.limit(150)\n",
        "top_150.show(150)"
      ]
    },
    {
      "cell_type": "code",
      "execution_count": 21,
      "id": "1c25aaf9",
      "metadata": {
        "colab": {
          "base_uri": "https://localhost:8080/"
        },
        "id": "1c25aaf9",
        "outputId": "0f8db369-dec3-4290-fbd4-5f806323cbdd"
      },
      "outputs": [
        {
          "output_type": "stream",
          "name": "stdout",
          "text": [
            "+-------+--------------------+--------------------+------+------+----------+\n",
            "|movieId|               title|              genres|userId|rating| timestamp|\n",
            "+-------+--------------------+--------------------+------+------+----------+\n",
            "|      2|      Jumanji (1995)|Adventure|Childre...|     1|   3.5|2005-04-02|\n",
            "|     29|City of Lost Chil...|Adventure|Drama|F...|     1|   3.5|2005-04-02|\n",
            "|     32|Twelve Monkeys (a...|Mystery|Sci-Fi|Th...|     1|   3.5|2005-04-02|\n",
            "|     47|Seven (a.k.a. Se7...|    Mystery|Thriller|     1|   3.5|2005-04-02|\n",
            "|     50|Usual Suspects, T...|Crime|Mystery|Thr...|     1|   3.5|2005-04-02|\n",
            "|    112|Rumble in the Bro...|Action|Adventure|...|     1|   3.5|2004-09-10|\n",
            "|    151|      Rob Roy (1995)|Action|Drama|Roma...|     1|   4.0|2004-09-10|\n",
            "|    223|       Clerks (1994)|              Comedy|     1|   4.0|2005-04-02|\n",
            "|    253|Interview with th...|        Drama|Horror|     1|   4.0|2005-04-02|\n",
            "|    260|Star Wars: Episod...|Action|Adventure|...|     1|   4.0|2005-04-02|\n",
            "|    293|Léon: The Profess...|Action|Crime|Dram...|     1|   4.0|2005-04-02|\n",
            "|    296| Pulp Fiction (1994)|Comedy|Crime|Dram...|     1|   4.0|2005-04-02|\n",
            "|    318|Shawshank Redempt...|         Crime|Drama|     1|   4.0|2005-04-02|\n",
            "|    337|What's Eating Gil...|               Drama|     1|   3.5|2004-09-10|\n",
            "|    367|    Mask, The (1994)|Action|Comedy|Cri...|     1|   3.5|2005-04-02|\n",
            "|    541| Blade Runner (1982)|Action|Sci-Fi|Thr...|     1|   4.0|2005-04-02|\n",
            "|    589|Terminator 2: Jud...|       Action|Sci-Fi|     1|   3.5|2005-04-02|\n",
            "|    593|Silence of the La...|Crime|Horror|Thri...|     1|   3.5|2005-04-02|\n",
            "|    653|  Dragonheart (1996)|Action|Adventure|...|     1|   3.0|2004-09-10|\n",
            "|    919|Wizard of Oz, The...|Adventure|Childre...|     1|   3.5|2004-09-10|\n",
            "+-------+--------------------+--------------------+------+------+----------+\n",
            "only showing top 20 rows\n",
            "\n"
          ]
        }
      ],
      "source": [
        "# Convert timestamp to \"yyyy-mm-dd\"\n",
        "try:\n",
        "    joined_ratings_df = joined_ratings_df.withColumn(\"timestamp2\", F.to_date(F.from_unixtime(joined_ratings_df[\"timestamp\"])))\n",
        "    joined_ratings_df = joined_ratings_df.drop(\"timestamp\")\n",
        "    joined_ratings_df = joined_ratings_df.withColumnRenamed(\"timestamp2\", \"timestamp\")\n",
        "except:\n",
        "    print(\"ERR\")\n",
        "\n",
        "joined_ratings_df = joined_ratings_df.dropna()    \n",
        "joined_ratings_df.show()"
      ]
    },
    {
      "cell_type": "code",
      "execution_count": 22,
      "id": "211db9d6",
      "metadata": {
        "colab": {
          "base_uri": "https://localhost:8080/"
        },
        "id": "211db9d6",
        "outputId": "9464c0c9-87b4-47a4-f2f7-568f6d52c944"
      },
      "outputs": [
        {
          "output_type": "stream",
          "name": "stdout",
          "text": [
            "+------+--------------------+----------+\n",
            "|userId|               title|avg_rating|\n",
            "+------+--------------------+----------+\n",
            "|    11|         Jaws (1975)|       4.0|\n",
            "|    11|      Gattaca (1997)|       5.0|\n",
            "|    11|Appleseed (Appuru...|       5.0|\n",
            "|    13|  Judge Dredd (1995)|       3.0|\n",
            "|    14|Singin' in the Ra...|       3.5|\n",
            "|    14|   Cinderella (1950)|       4.0|\n",
            "|    18|Being John Malkov...|       4.0|\n",
            "|    18|Lord of the Rings...|       3.0|\n",
            "|    21|Shawshank Redempt...|       5.0|\n",
            "|    22|Few Good Men, A (...|       5.0|\n",
            "|    22|Rambo: First Bloo...|       5.0|\n",
            "|    24|     Swingers (1996)|       5.0|\n",
            "|    24|Beavis and Butt-H...|       4.0|\n",
            "|    24|Godfather: Part I...|       4.0|\n",
            "|    24|        Blade (1998)|       4.0|\n",
            "|    24|  About a Boy (2002)|       4.0|\n",
            "|    25|  Matrix, The (1999)|       3.5|\n",
            "|    26|Dumb & Dumber (Du...|       2.0|\n",
            "|    29|Léon: The Profess...|       4.0|\n",
            "|    31|Lion King, The (1...|       3.0|\n",
            "+------+--------------------+----------+\n",
            "only showing top 20 rows\n",
            "\n"
          ]
        }
      ],
      "source": [
        "df = joined_avg_ratings_df\n",
        "df = df.dropna()\n",
        "df.show()"
      ]
    },
    {
      "cell_type": "markdown",
      "id": "7c009102",
      "metadata": {
        "id": "7c009102"
      },
      "source": [
        "# 3. Building a recommendation system"
      ]
    },
    {
      "cell_type": "markdown",
      "id": "b6ababb4",
      "metadata": {
        "id": "b6ababb4"
      },
      "source": [
        "## 3.1. StringIndexer \"title\" column"
      ]
    },
    {
      "cell_type": "code",
      "execution_count": 23,
      "id": "54e25137",
      "metadata": {
        "colab": {
          "base_uri": "https://localhost:8080/"
        },
        "id": "54e25137",
        "outputId": "961b9a52-1173-4829-b68f-34fe6a0139bd"
      },
      "outputs": [
        {
          "output_type": "stream",
          "name": "stdout",
          "text": [
            "+------+--------------------+----------+-----------+\n",
            "|userId|               title|avg_rating|title_index|\n",
            "+------+--------------------+----------+-----------+\n",
            "|    11|         Jaws (1975)|       4.0|      126.0|\n",
            "|    11|      Gattaca (1997)|       5.0|      182.0|\n",
            "|    11|Appleseed (Appuru...|       5.0|     3897.0|\n",
            "|    13|  Judge Dredd (1995)|       3.0|      252.0|\n",
            "|    14|Singin' in the Ra...|       3.5|      446.0|\n",
            "|    14|   Cinderella (1950)|       4.0|      526.0|\n",
            "|    18|Being John Malkov...|       4.0|       80.0|\n",
            "|    18|Lord of the Rings...|       3.0|       33.0|\n",
            "|    21|Shawshank Redempt...|       5.0|        2.0|\n",
            "|    22|Few Good Men, A (...|       5.0|      247.0|\n",
            "|    22|Rambo: First Bloo...|       5.0|     1038.0|\n",
            "|    24|     Swingers (1996)|       5.0|      470.0|\n",
            "|    24|Beavis and Butt-H...|       4.0|      542.0|\n",
            "|    24|Godfather: Part I...|       4.0|      454.0|\n",
            "|    24|        Blade (1998)|       4.0|      390.0|\n",
            "|    24|  About a Boy (2002)|       4.0|      493.0|\n",
            "|    25|  Matrix, The (1999)|       3.5|        8.0|\n",
            "|    26|Dumb & Dumber (Du...|       2.0|       52.0|\n",
            "|    29|Léon: The Profess...|       4.0|       87.0|\n",
            "|    31|Lion King, The (1...|       3.0|       31.0|\n",
            "+------+--------------------+----------+-----------+\n",
            "only showing top 20 rows\n",
            "\n"
          ]
        }
      ],
      "source": [
        "from pyspark.ml.feature import StringIndexer\n",
        "\n",
        "# Create the StringIndexer instance\n",
        "indexer = StringIndexer(inputCol=\"title\", outputCol=\"title_index\", handleInvalid=\"skip\")\n",
        "\n",
        "# Fit the indexer\n",
        "indexer_model = indexer.fit(df)\n",
        "\n",
        "# Transform\n",
        "indexed_df = indexer_model.transform(df)\n",
        "indexed_df.show()"
      ]
    },
    {
      "cell_type": "markdown",
      "id": "20aa5c39",
      "metadata": {
        "id": "20aa5c39"
      },
      "source": [
        "## 3.2. Building the model"
      ]
    },
    {
      "cell_type": "markdown",
      "source": [
        "Using the pyspark.ml.recommendation module, we can easily build a recommendation model according to the ALS method. The parameters when initializing the model are:\n",
        "\n",
        "* maxIter: Maximum number of loops\n",
        "* regParam: Regularization control coefficient\n",
        "* userCol: column name containing the user's id\n",
        "* itemCol: column name containing the item's id\n",
        "* ratingCol: column name containing the value of rating"
      ],
      "metadata": {
        "id": "KU8ZfxaXidiL"
      },
      "id": "KU8ZfxaXidiL"
    },
    {
      "cell_type": "code",
      "execution_count": 24,
      "id": "a1077a31",
      "metadata": {
        "id": "a1077a31"
      },
      "outputs": [],
      "source": [
        "# Split the data into training and test sets\n",
        "(training, test) = indexed_df.randomSplit([0.8, 0.2])\n",
        "\n",
        "# Build the ALS model\n",
        "als = ALS(maxIter=5, regParam=0.01, userCol=\"userId\", itemCol=\"title_index\", ratingCol=\"avg_rating\")\n",
        "model = als.fit(training)"
      ]
    },
    {
      "cell_type": "markdown",
      "source": [
        "### Evaluate the predictions"
      ],
      "metadata": {
        "id": "qbjAA3cAmCT1"
      },
      "id": "qbjAA3cAmCT1"
    },
    {
      "cell_type": "code",
      "source": [
        "# Generate predictions on the test set\n",
        "predictions = model.transform(test)"
      ],
      "metadata": {
        "colab": {
          "base_uri": "https://localhost:8080/"
        },
        "id": "i3v0-kwbjQ2Q",
        "outputId": "f76685f7-82d7-4bc6-b6fa-01118616dbe2"
      },
      "id": "i3v0-kwbjQ2Q",
      "execution_count": 25,
      "outputs": [
        {
          "output_type": "stream",
          "name": "stdout",
          "text": [
            "Root-mean-square error = nan\n"
          ]
        }
      ]
    },
    {
      "cell_type": "code",
      "source": [
        "\n",
        "# Evaluate the predictions\n",
        "evaluator_mae = RegressionEvaluator(metricName=\"mae\", labelCol=\"rating\", predictionCol=\"prediction\")\n",
        "mae = evaluator_mae.evaluate(predictions)\n",
        "print(\"Mean Absolute Error = \" + str(mae))\n",
        "\n",
        "evaluator_mse = RegressionEvaluator(metricName=\"mse\", labelCol=\"rating\", predictionCol=\"prediction\")\n",
        "mse = evaluator_mse.evaluate(predictions)\n",
        "print(\"Mean Squared Error = \" + str(mse))\n",
        "\n",
        "evaluator_rmse = RegressionEvaluator(metricName=\"rmse\", labelCol=\"rating\", predictionCol=\"prediction\")\n",
        "rmse = evaluator_rmse.evaluate(predictions)\n",
        "print(\"Root-mean-square error = \" + str(rmse))"
      ],
      "metadata": {
        "colab": {
          "base_uri": "https://localhost:8080/"
        },
        "id": "ML1wpRguuPta",
        "outputId": "d10cec69-dcbb-4d71-fe47-ca25c6d7c5cc"
      },
      "id": "ML1wpRguuPta",
      "execution_count": 34,
      "outputs": [
        {
          "output_type": "stream",
          "name": "stdout",
          "text": [
            "Mean Absolute Error = 0.04388070106506348\n",
            "Mean Squared Error = 0.001925515925961463\n",
            "Root-mean-square error = 0.04388070106506348\n"
          ]
        }
      ]
    },
    {
      "cell_type": "markdown",
      "id": "5c82b720",
      "metadata": {
        "id": "5c82b720"
      },
      "source": [
        "## 3.3. Testing"
      ]
    },
    {
      "cell_type": "code",
      "execution_count": 36,
      "id": "18331d21",
      "metadata": {
        "colab": {
          "base_uri": "https://localhost:8080/"
        },
        "id": "18331d21",
        "outputId": "84494c91-edb5-4fa4-b3c3-8cca24b7021c"
      },
      "outputs": [
        {
          "output_type": "stream",
          "name": "stdout",
          "text": [
            "Predicted rating for title Jaws (1975): 3.5438807010650635\n"
          ]
        }
      ],
      "source": [
        "# Use the StringIndexerModel to convert the title to index\n",
        "title = \"Jaws (1975)\"\n",
        "title_index = indexer_model.transform(spark.createDataFrame([(title,)], [\"title\"])).first().title_index\n",
        "\n",
        "# Create a test dataframe with the userId, title_index, and a fake rating\n",
        "test_df = spark.createDataFrame([(1, title_index, 3.5)], [\"userId\", \"title_index\", \"rating\"])\n",
        "\n",
        "# Use the model to make predictions on the test dataframe\n",
        "predictions = model.transform(test_df)\n",
        "\n",
        "# Extract the prediction\n",
        "prediction = predictions.first().prediction\n",
        "print(f\"Predicted rating for title {title}: {prediction}\")"
      ]
    },
    {
      "cell_type": "code",
      "source": [
        "# Generate top 10 movie recommendations for each user\n",
        "userRecs = model.recommendForAllUsers(10)\n",
        "userRecs.show()"
      ],
      "metadata": {
        "colab": {
          "base_uri": "https://localhost:8080/"
        },
        "id": "FsYlh7TxKq0z",
        "outputId": "02ec27bf-f9ba-42d4-d807-34dee972fdba"
      },
      "id": "FsYlh7TxKq0z",
      "execution_count": 27,
      "outputs": [
        {
          "output_type": "stream",
          "name": "stdout",
          "text": [
            "+------+--------------------+\n",
            "|userId|     recommendations|\n",
            "+------+--------------------+\n",
            "|     1|[{17756, 8.969243...|\n",
            "|     3|[{22049, 9.685208...|\n",
            "|     5|[{19967, 12.14952...|\n",
            "|     6|[{16961, 13.39225...|\n",
            "|     9|[{22049, 15.06125...|\n",
            "|    12|[{16961, 14.03116...|\n",
            "|    13|[{21245, 15.97594...|\n",
            "|    15|[{16961, 11.10723...|\n",
            "|    16|[{16764, 14.12103...|\n",
            "|    17|[{22049, 14.48492...|\n",
            "|    19|[{16961, 16.59669...|\n",
            "|    20|[{21245, 8.51546}...|\n",
            "|    22|[{16961, 9.772369...|\n",
            "|    26|[{22049, 15.21318...|\n",
            "|    27|[{22049, 11.60449...|\n",
            "|    28|[{12107, 14.86676...|\n",
            "|    31|[{14145, 16.29003...|\n",
            "|    34|[{22049, 11.12072...|\n",
            "|    37|[{14080, 13.26451...|\n",
            "|    40|[{22049, 14.09614...|\n",
            "+------+--------------------+\n",
            "only showing top 20 rows\n",
            "\n"
          ]
        }
      ]
    },
    {
      "cell_type": "markdown",
      "source": [
        "## Check recommendation for User \"1\""
      ],
      "metadata": {
        "id": "PLUvq7ynhayx"
      },
      "id": "PLUvq7ynhayx"
    },
    {
      "cell_type": "code",
      "source": [
        "# Filter User 1\n",
        "filtered_df_1 = userRecs.filter(col(\"userId\") == 1)\n",
        "filtered_df_1.show()"
      ],
      "metadata": {
        "colab": {
          "base_uri": "https://localhost:8080/"
        },
        "id": "NWj-RGhNTLR5",
        "outputId": "1fef51d5-b7eb-4b16-cc44-a654c49a78a6"
      },
      "id": "NWj-RGhNTLR5",
      "execution_count": 28,
      "outputs": [
        {
          "output_type": "stream",
          "name": "stdout",
          "text": [
            "+------+--------------------+\n",
            "|userId|     recommendations|\n",
            "+------+--------------------+\n",
            "|     1|[{17756, 8.969243...|\n",
            "+------+--------------------+\n",
            "\n"
          ]
        }
      ]
    },
    {
      "cell_type": "code",
      "source": [
        "# Explode recommendations\n",
        "dfx = filtered_df_1.selectExpr(\"userId\", \"explode(recommendations) as recommendation\")\n",
        "dfx = dfx.select(\"userId\", \"recommendation.title_index\" , \"recommendation.rating\")\n",
        "dfx.show()"
      ],
      "metadata": {
        "colab": {
          "base_uri": "https://localhost:8080/"
        },
        "id": "1vN2n9o1Zlxv",
        "outputId": "a9ef064a-c826-44a5-9728-fb2c80e5b640"
      },
      "id": "1vN2n9o1Zlxv",
      "execution_count": 29,
      "outputs": [
        {
          "output_type": "stream",
          "name": "stdout",
          "text": [
            "+------+-----------+---------+\n",
            "|userId|title_index|   rating|\n",
            "+------+-----------+---------+\n",
            "|     1|      17756| 8.969243|\n",
            "|     1|      16580| 8.526243|\n",
            "|     1|      19967| 8.087168|\n",
            "|     1|      22049| 7.808334|\n",
            "|     1|      19646| 7.701432|\n",
            "|     1|      14125|7.6955004|\n",
            "|     1|      17197|7.6452203|\n",
            "|     1|      18596|7.6262674|\n",
            "|     1|      18885|7.6087337|\n",
            "|     1|      26710|7.5466566|\n",
            "+------+-----------+---------+\n",
            "\n"
          ]
        }
      ]
    },
    {
      "cell_type": "code",
      "source": [
        "dfx2 = dfx.join(indexed_df, dfx.title_index == indexed_df.title_index, 'left').drop(indexed_df.userId).drop(indexed_df.title_index).drop(indexed_df.avg_rating)"
      ],
      "metadata": {
        "id": "zj41_nw_fhTG"
      },
      "id": "zj41_nw_fhTG",
      "execution_count": 30,
      "outputs": []
    },
    {
      "cell_type": "markdown",
      "source": [
        "## 10 movie recommendations for user \"1\" :"
      ],
      "metadata": {
        "id": "F9fzWCfxhFm9"
      },
      "id": "F9fzWCfxhFm9"
    },
    {
      "cell_type": "code",
      "source": [
        "# Selecy distinct all movies\n",
        "df_distinct = dfx2.select(\"title_index\",\"rating\", \"title\").distinct()"
      ],
      "metadata": {
        "id": "Tir6yrpfj7RJ"
      },
      "id": "Tir6yrpfj7RJ",
      "execution_count": 31,
      "outputs": []
    },
    {
      "cell_type": "code",
      "source": [
        "df_distinct.show()"
      ],
      "metadata": {
        "colab": {
          "base_uri": "https://localhost:8080/"
        },
        "id": "4wxDFDvNgrub",
        "outputId": "06abe164-9cc6-475a-ad14-a5ff05310f41"
      },
      "id": "4wxDFDvNgrub",
      "execution_count": 32,
      "outputs": [
        {
          "output_type": "stream",
          "name": "stdout",
          "text": [
            "+-----------+---------+--------------------+\n",
            "|title_index|   rating|               title|\n",
            "+-----------+---------+--------------------+\n",
            "|      16580| 8.526243|Life of Jesus, Th...|\n",
            "|      14125|7.6955004|Marc Maron: Think...|\n",
            "|      19646| 7.701432|      Deewaar (1975)|\n",
            "|      18596|7.6262674|Dracula A.D. 1972...|\n",
            "|      22049| 7.808334|On Top of the Wha...|\n",
            "|      17197|7.6452203|Living with Wolve...|\n",
            "|      18885|7.6087337|Lucky: No Time Fo...|\n",
            "|      17756| 8.969243|Education for Dea...|\n",
            "|      26710|7.5466566|      Zanjeer (1973)|\n",
            "|      19967| 8.087168|Jodorowsky Conste...|\n",
            "+-----------+---------+--------------------+\n",
            "\n"
          ]
        }
      ]
    },
    {
      "cell_type": "markdown",
      "id": "ffc944b0",
      "metadata": {
        "id": "ffc944b0"
      },
      "source": [
        "# 4. Conclusions\n",
        "\n",
        "The project was completed with a number of specific steps such as: learning and analyzing data, building recommendation models and testing. When using a personal computer and Jupyter Notebook, I had to spend a lot of time training the model, then I switched to using Google Colab, but the speed did not improve much.  In the future, I will conduct experiments on the Databricks system.\n",
        "\n",
        "I have found that using PySpark improves the speed of data processing. Together with the MLib libraries, building models is also easier.\n",
        "\n",
        "Although tried, but due to the time limit to learn. I haven't been able to practice much with Apache Spark yet. In the next Machine Learning or Deep Learning related projects, I will continue to experiment with using Apache Spark with appropriate data sets."
      ]
    },
    {
      "cell_type": "markdown",
      "id": "8a43e787",
      "metadata": {
        "id": "8a43e787"
      },
      "source": [
        "# References\n",
        "\n",
        "1. F. Maxwell Harper and Joseph A. Konstan. 2015. The MovieLens Datasets: History and Context. ACM Transactions on Interactive Intelligent Systems (TiiS) 5, 4, Article 19 (December 2015), 19 pages. DOI=http://dx.doi.org/10.1145/2827872\n",
        "\n",
        "2. https://spark.apache.org/\n",
        "\n",
        "3. https://www.mastercode.vn/blog/web-development/apache-spark-la-gi.85\n",
        "\n",
        "4. http://itechseeker.com/\n",
        "\n",
        "5. https://en.wikipedia.org/wiki/Apache_Spark\n",
        "\n",
        "6. https://viblo.asia/p/tim-hieu-ve-apache-spark-ByEZkQQW5Q0\n",
        "\n",
        "7. https://www.dominodatalab.com/data-science-dictionary/pyspark#:~:text=PySpark%20is%20the%20Python%20API,more%20scalable%20analyses%20and%20pipelines.\n",
        "\n",
        "8. https://spark.apache.org/docs/latest/ml-guide.html\n",
        "\n",
        "9. https://grouplens.org/datasets/movielens/20m/\n",
        "\n",
        "10. https://towardsdatascience.com/prototyping-a-recommender-system-step-by-step-part-2-alternating-least-square-als-matrix-4a76c58714a1"
      ]
    }
  ],
  "metadata": {
    "kernelspec": {
      "display_name": "Python 3 (ipykernel)",
      "language": "python",
      "name": "python3"
    },
    "language_info": {
      "codemirror_mode": {
        "name": "ipython",
        "version": 3
      },
      "file_extension": ".py",
      "mimetype": "text/x-python",
      "name": "python",
      "nbconvert_exporter": "python",
      "pygments_lexer": "ipython3",
      "version": "3.9.12"
    },
    "colab": {
      "provenance": []
    }
  },
  "nbformat": 4,
  "nbformat_minor": 5
}