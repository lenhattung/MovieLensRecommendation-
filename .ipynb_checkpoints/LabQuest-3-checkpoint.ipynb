{
 "cells": [
  {
   "cell_type": "code",
   "execution_count": 1,
   "id": "1667b061",
   "metadata": {},
   "outputs": [],
   "source": [
    "# NHAT TUNG LE, ID 426246\n",
    "# LAB QUEST - 3"
   ]
  },
  {
   "cell_type": "code",
   "execution_count": 2,
   "id": "983eb49b",
   "metadata": {},
   "outputs": [],
   "source": [
    "# install pyspark\n",
    "# !pip install pyspark"
   ]
  },
  {
   "cell_type": "code",
   "execution_count": 3,
   "id": "c4bcf1be",
   "metadata": {},
   "outputs": [],
   "source": [
    "import os\n",
    "from pyspark import SparkContext\n",
    "from pyspark.sql import SQLContext, SparkSession \n",
    "from pyspark.sql.functions import col, split, explode\n",
    "from pyspark.sql.types import DateType, StringType, FloatType, IntegerType \n",
    "from pyspark.sql import functions as F "
   ]
  },
  {
   "cell_type": "code",
   "execution_count": 4,
   "id": "e3911cd0",
   "metadata": {},
   "outputs": [
    {
     "data": {
      "text/plain": [
       "['genome-scores.csv',\n",
       " 'genome-tags.csv',\n",
       " 'links.csv',\n",
       " 'movies.csv',\n",
       " 'ratings.csv',\n",
       " 'README.txt',\n",
       " 'tags.csv']"
      ]
     },
     "execution_count": 4,
     "metadata": {},
     "output_type": "execute_result"
    }
   ],
   "source": [
    "# Change oath\n",
    "path = \"C:/Users/Windows/Documents/GitHub/movielens/ml-20m/ml-20m\"\n",
    "os.chdir(path)\n",
    "os.listdir()"
   ]
  },
  {
   "cell_type": "code",
   "execution_count": 5,
   "id": "ecdfbf10",
   "metadata": {},
   "outputs": [],
   "source": [
    "# create spark\n",
    "spark = SparkSession.builder.master('local[*]').appName(\"Movie Lens Recommendation\").getOrCreate()"
   ]
  },
  {
   "cell_type": "code",
   "execution_count": 6,
   "id": "75265c5a",
   "metadata": {},
   "outputs": [
    {
     "name": "stdout",
     "output_type": "stream",
     "text": [
      "+-------+--------------------+--------------------+\n",
      "|movieId|               title|              genres|\n",
      "+-------+--------------------+--------------------+\n",
      "|      1|    Toy Story (1995)|Adventure|Animati...|\n",
      "|      2|      Jumanji (1995)|Adventure|Childre...|\n",
      "|      3|Grumpier Old Men ...|      Comedy|Romance|\n",
      "|      4|Waiting to Exhale...|Comedy|Drama|Romance|\n",
      "|      5|Father of the Bri...|              Comedy|\n",
      "|      6|         Heat (1995)|Action|Crime|Thri...|\n",
      "|      7|      Sabrina (1995)|      Comedy|Romance|\n",
      "|      8| Tom and Huck (1995)|  Adventure|Children|\n",
      "|      9| Sudden Death (1995)|              Action|\n",
      "|     10|    GoldenEye (1995)|Action|Adventure|...|\n",
      "|     11|American Presiden...|Comedy|Drama|Romance|\n",
      "|     12|Dracula: Dead and...|       Comedy|Horror|\n",
      "|     13|        Balto (1995)|Adventure|Animati...|\n",
      "|     14|        Nixon (1995)|               Drama|\n",
      "|     15|Cutthroat Island ...|Action|Adventure|...|\n",
      "|     16|       Casino (1995)|         Crime|Drama|\n",
      "|     17|Sense and Sensibi...|       Drama|Romance|\n",
      "|     18|   Four Rooms (1995)|              Comedy|\n",
      "|     19|Ace Ventura: When...|              Comedy|\n",
      "|     20|  Money Train (1995)|Action|Comedy|Cri...|\n",
      "+-------+--------------------+--------------------+\n",
      "only showing top 20 rows\n",
      "\n",
      "root\n",
      " |-- movieId: integer (nullable = true)\n",
      " |-- title: string (nullable = true)\n",
      " |-- genres: string (nullable = true)\n",
      "\n",
      "root\n",
      " |-- movieId: integer (nullable = true)\n",
      " |-- title: string (nullable = true)\n",
      " |-- genres: string (nullable = true)\n",
      "\n"
     ]
    }
   ],
   "source": [
    "## movies\n",
    "movies_df = spark.read.csv(\"movies.csv\", sep=\",\", header = True, inferSchema=True, nullValue=\"NA\")\n",
    "movies_df.show() \n",
    "movies_df.printSchema()\n",
    "\n",
    "# we need to split genres\n",
    "movies_df.withColumn(\"genres\", explode(split(\"genres\", \"[|]\")))\n",
    "movies_df.show()\n",
    "movies_df.printSchema()"
   ]
  },
  {
   "cell_type": "code",
   "execution_count": null,
   "id": "227055c8",
   "metadata": {},
   "outputs": [],
   "source": [
    "## tags\n",
    "tags_df = spark.read.csv(\"tags.csv\", sep=\",\", header = True, inferSchema=True, nullValue=\"NA\")\n",
    "tags_df.show() \n",
    "tags_df.printSchema()"
   ]
  },
  {
   "cell_type": "code",
   "execution_count": 8,
   "id": "09c9ccbf",
   "metadata": {},
   "outputs": [
    {
     "name": "stdout",
     "output_type": "stream",
     "text": [
      "+-----+---------------+\n",
      "|tagId|            tag|\n",
      "+-----+---------------+\n",
      "|    1|            007|\n",
      "|    2|   007 (series)|\n",
      "|    3|   18th century|\n",
      "|    4|          1920s|\n",
      "|    5|          1930s|\n",
      "|    6|          1950s|\n",
      "|    7|          1960s|\n",
      "|    8|          1970s|\n",
      "|    9|          1980s|\n",
      "|   10|   19th century|\n",
      "|   11|             3d|\n",
      "|   12|           70mm|\n",
      "|   13|            80s|\n",
      "|   14|           9/11|\n",
      "|   15|        aardman|\n",
      "|   16|aardman studios|\n",
      "|   17|       abortion|\n",
      "|   18|         absurd|\n",
      "|   19|         action|\n",
      "|   20|  action packed|\n",
      "+-----+---------------+\n",
      "only showing top 20 rows\n",
      "\n",
      "root\n",
      " |-- tagId: integer (nullable = true)\n",
      " |-- tag: string (nullable = true)\n",
      "\n"
     ]
    }
   ],
   "source": [
    "## genome-tags\n",
    "genome_tags_df = spark.read.csv(\"genome-tags.csv\", sep=\",\", header = True, inferSchema=True, nullValue=\"NA\")\n",
    "genome_tags_df.show() \n",
    "genome_tags_df.printSchema()"
   ]
  },
  {
   "cell_type": "code",
   "execution_count": 9,
   "id": "132b5990",
   "metadata": {},
   "outputs": [
    {
     "name": "stdout",
     "output_type": "stream",
     "text": [
      "+-------+-----+--------------------+\n",
      "|movieId|tagId|           relevance|\n",
      "+-------+-----+--------------------+\n",
      "|      1|    1|0.025000000000000022|\n",
      "|      1|    2|0.025000000000000022|\n",
      "|      1|    3|0.057750000000000024|\n",
      "|      1|    4|             0.09675|\n",
      "|      1|    5|             0.14675|\n",
      "|      1|    6| 0.21700000000000003|\n",
      "|      1|    7|               0.067|\n",
      "|      1|    8| 0.26275000000000004|\n",
      "|      1|    9|               0.262|\n",
      "|      1|   10| 0.03199999999999997|\n",
      "|      1|   11|               0.577|\n",
      "|      1|   12| 0.11625000000000002|\n",
      "|      1|   13|               0.188|\n",
      "|      1|   14|0.008000000000000007|\n",
      "|      1|   15|0.036750000000000005|\n",
      "|      1|   16| 0.28174999999999994|\n",
      "|      1|   17|0.007000000000000006|\n",
      "|      1|   18| 0.11049999999999999|\n",
      "|      1|   19|              0.6705|\n",
      "|      1|   20|              0.1845|\n",
      "+-------+-----+--------------------+\n",
      "only showing top 20 rows\n",
      "\n",
      "root\n",
      " |-- movieId: integer (nullable = true)\n",
      " |-- tagId: integer (nullable = true)\n",
      " |-- relevance: double (nullable = true)\n",
      "\n"
     ]
    }
   ],
   "source": [
    "## genome-scores\n",
    "genome_scores_df = spark.read.csv(\"genome-scores.csv\", sep=\",\", header = True, inferSchema=True, nullValue=\"NA\")\n",
    "genome_scores_df.show() \n",
    "genome_scores_df.printSchema()"
   ]
  },
  {
   "cell_type": "code",
   "execution_count": 10,
   "id": "fcdbeb1c",
   "metadata": {},
   "outputs": [
    {
     "name": "stdout",
     "output_type": "stream",
     "text": [
      "+-------+------+------+\n",
      "|movieId|imdbId|tmdbId|\n",
      "+-------+------+------+\n",
      "|      1|114709|   862|\n",
      "|      2|113497|  8844|\n",
      "|      3|113228| 15602|\n",
      "|      4|114885| 31357|\n",
      "|      5|113041| 11862|\n",
      "|      6|113277|   949|\n",
      "|      7|114319| 11860|\n",
      "|      8|112302| 45325|\n",
      "|      9|114576|  9091|\n",
      "|     10|113189|   710|\n",
      "|     11|112346|  9087|\n",
      "|     12|112896| 12110|\n",
      "|     13|112453| 21032|\n",
      "|     14|113987| 10858|\n",
      "|     15|112760|  1408|\n",
      "|     16|112641|   524|\n",
      "|     17|114388|  4584|\n",
      "|     18|113101|     5|\n",
      "|     19|112281|  9273|\n",
      "|     20|113845| 11517|\n",
      "+-------+------+------+\n",
      "only showing top 20 rows\n",
      "\n",
      "root\n",
      " |-- movieId: integer (nullable = true)\n",
      " |-- imdbId: integer (nullable = true)\n",
      " |-- tmdbId: integer (nullable = true)\n",
      "\n"
     ]
    }
   ],
   "source": [
    "## links\n",
    "links_df = spark.read.csv(\"links.csv\", sep=\",\", header = True, inferSchema=True, nullValue=\"NA\")\n",
    "links_df.show() \n",
    "links_df.printSchema()"
   ]
  },
  {
   "cell_type": "code",
   "execution_count": 11,
   "id": "fa1887a9",
   "metadata": {},
   "outputs": [
    {
     "name": "stdout",
     "output_type": "stream",
     "text": [
      "+------+-------+------+----------+\n",
      "|userId|movieId|rating| timestamp|\n",
      "+------+-------+------+----------+\n",
      "|     1|      2|   3.5|1112486027|\n",
      "|     1|     29|   3.5|1112484676|\n",
      "|     1|     32|   3.5|1112484819|\n",
      "|     1|     47|   3.5|1112484727|\n",
      "|     1|     50|   3.5|1112484580|\n",
      "|     1|    112|   3.5|1094785740|\n",
      "|     1|    151|   4.0|1094785734|\n",
      "|     1|    223|   4.0|1112485573|\n",
      "|     1|    253|   4.0|1112484940|\n",
      "|     1|    260|   4.0|1112484826|\n",
      "|     1|    293|   4.0|1112484703|\n",
      "|     1|    296|   4.0|1112484767|\n",
      "|     1|    318|   4.0|1112484798|\n",
      "|     1|    337|   3.5|1094785709|\n",
      "|     1|    367|   3.5|1112485980|\n",
      "|     1|    541|   4.0|1112484603|\n",
      "|     1|    589|   3.5|1112485557|\n",
      "|     1|    593|   3.5|1112484661|\n",
      "|     1|    653|   3.0|1094785691|\n",
      "|     1|    919|   3.5|1094785621|\n",
      "+------+-------+------+----------+\n",
      "only showing top 20 rows\n",
      "\n",
      "root\n",
      " |-- userId: integer (nullable = true)\n",
      " |-- movieId: integer (nullable = true)\n",
      " |-- rating: double (nullable = true)\n",
      " |-- timestamp: integer (nullable = true)\n",
      "\n"
     ]
    }
   ],
   "source": [
    "## ratings\n",
    "ratings_df = spark.read.csv(\"ratings.csv\", sep=\",\", header = True, inferSchema=True, nullValue=\"NA\")\n",
    "ratings_df.show() \n",
    "ratings_df.printSchema()"
   ]
  },
  {
   "cell_type": "code",
   "execution_count": 12,
   "id": "d18c9e9e",
   "metadata": {},
   "outputs": [
    {
     "data": {
      "text/plain": [
       "DataFrame[movieId: int, title: string, genres: string]"
      ]
     },
     "metadata": {},
     "output_type": "display_data"
    },
    {
     "data": {
      "text/plain": [
       "DataFrame[userId: int, movieId: int, tag: string, timestamp: int]"
      ]
     },
     "metadata": {},
     "output_type": "display_data"
    },
    {
     "data": {
      "text/plain": [
       "DataFrame[tagId: int, tag: string]"
      ]
     },
     "metadata": {},
     "output_type": "display_data"
    },
    {
     "data": {
      "text/plain": [
       "DataFrame[movieId: int, tagId: int, relevance: double]"
      ]
     },
     "metadata": {},
     "output_type": "display_data"
    },
    {
     "data": {
      "text/plain": [
       "DataFrame[movieId: int, imdbId: int, tmdbId: int]"
      ]
     },
     "metadata": {},
     "output_type": "display_data"
    },
    {
     "data": {
      "text/plain": [
       "DataFrame[userId: int, movieId: int, rating: double, timestamp: int]"
      ]
     },
     "metadata": {},
     "output_type": "display_data"
    }
   ],
   "source": [
    "display(movies_df)\n",
    "display(tags_df)\n",
    "display(genome_tags_df)\n",
    "display(genome_scores_df)\n",
    "display(links_df)\n",
    "display(ratings_df)"
   ]
  },
  {
   "cell_type": "code",
   "execution_count": null,
   "id": "993d7b8e",
   "metadata": {},
   "outputs": [],
   "source": [
    "# JOIN TABLE"
   ]
  },
  {
   "cell_type": "code",
   "execution_count": 32,
   "id": "f20c39b0",
   "metadata": {},
   "outputs": [],
   "source": [
    "# https://stackoverflow.com/questions/35258506/how-to-avoid-duplicate-columns-after-join\n",
    "def deDupeDfCols(df, separator=''):\n",
    "    newcols = []\n",
    "\n",
    "    for col in df.columns:\n",
    "        if col not in newcols:\n",
    "            newcols.append(col)\n",
    "        else:\n",
    "            for i in range(2, 1000):\n",
    "                if (col + separator + str(i)) not in newcols:\n",
    "                    newcols.append(col + separator + str(i))\n",
    "                    break\n",
    "\n",
    "    return df.toDF(*newcols)"
   ]
  },
  {
   "cell_type": "code",
   "execution_count": 34,
   "id": "88cd5013",
   "metadata": {},
   "outputs": [
    {
     "name": "stdout",
     "output_type": "stream",
     "text": [
      "+-------+--------------------+--------------------+------+---------+-----------------+----------+\n",
      "|movieId|               title|              genres|userId|movieId_2|              tag| timestamp|\n",
      "+-------+--------------------+--------------------+------+---------+-----------------+----------+\n",
      "|   4141|Head Over Heels (...|      Comedy|Romance|    18|     4141|      Mark Waters|1240597180|\n",
      "|    208|   Waterworld (1995)|Action|Adventure|...|    65|      208|        dark hero|1368150078|\n",
      "|    353|    Crow, The (1994)|Action|Crime|Fant...|    65|      353|        dark hero|1368150079|\n",
      "|    521|Romeo Is Bleeding...|      Crime|Thriller|    65|      521|    noir thriller|1368149983|\n",
      "|    592|       Batman (1989)|Action|Crime|Thri...|    65|      592|        dark hero|1368150078|\n",
      "|    668|Song of the Littl...|               Drama|    65|      668|        bollywood|1368149876|\n",
      "|    898|Philadelphia Stor...|Comedy|Drama|Romance|    65|      898| screwball comedy|1368150160|\n",
      "|   1248|Touch of Evil (1958)|Crime|Film-Noir|T...|    65|     1248|    noir thriller|1368149983|\n",
      "|   1391|Mars Attacks! (1996)|Action|Comedy|Sci-Fi|    65|     1391|             mars|1368150055|\n",
      "|   1617|L.A. Confidential...|Crime|Film-Noir|M...|    65|     1617|         neo-noir|1368150217|\n",
      "|   1694| Apostle, The (1997)|               Drama|    65|     1694|            jesus|1368149925|\n",
      "|   1783|     Palmetto (1998)|Crime|Drama|Myste...|    65|     1783|    noir thriller|1368149983|\n",
      "|   2022|Last Temptation o...|               Drama|    65|     2022|            jesus|1368149925|\n",
      "|   2193|       Willow (1988)|Action|Adventure|...|    65|     2193|           dragon|1368151314|\n",
      "|   2353|Enemy of the Stat...|     Action|Thriller|    65|     2353|conspiracy theory|1368151266|\n",
      "|   2662|War of the Worlds...| Action|Drama|Sci-Fi|    65|     2662|             mars|1368150055|\n",
      "|   2726| Killing, The (1956)|     Crime|Film-Noir|    65|     2726|    noir thriller|1368149983|\n",
      "|   2840|     Stigmata (1999)|      Drama|Thriller|    65|     2840|            jesus|1368149925|\n",
      "|   3052|        Dogma (1999)|Adventure|Comedy|...|    65|     3052|            jesus|1368149926|\n",
      "|   5135|Monsoon Wedding (...|      Comedy|Romance|    65|     5135|        bollywood|1368149876|\n",
      "+-------+--------------------+--------------------+------+---------+-----------------+----------+\n",
      "only showing top 20 rows\n",
      "\n"
     ]
    }
   ],
   "source": [
    "# step 1\n",
    "movies_tags_df = movies_df.join(tags_df, movies_df.movieId == tags_df.movieId, \"inner\")\n",
    "movies_tags_df = deDupeDfCols(movies_tags_df, '_')\n",
    "movies_tags_df.show()"
   ]
  },
  {
   "cell_type": "code",
   "execution_count": 35,
   "id": "a93a95cf",
   "metadata": {},
   "outputs": [
    {
     "name": "stdout",
     "output_type": "stream",
     "text": [
      "+-------+--------------------+--------------------+------+---------+-----------------+----------+-----+-----------------+\n",
      "|movieId|               title|              genres|userId|movieId_2|              tag| timestamp|tagId|            tag_2|\n",
      "+-------+--------------------+--------------------+------+---------+-----------------+----------+-----+-----------------+\n",
      "|    208|   Waterworld (1995)|Action|Adventure|...|    65|      208|        dark hero|1368150078|  288|        dark hero|\n",
      "|    353|    Crow, The (1994)|Action|Crime|Fant...|    65|      353|        dark hero|1368150079|  288|        dark hero|\n",
      "|    521|Romeo Is Bleeding...|      Crime|Thriller|    65|      521|    noir thriller|1368149983|  712|    noir thriller|\n",
      "|    592|       Batman (1989)|Action|Crime|Thri...|    65|      592|        dark hero|1368150078|  288|        dark hero|\n",
      "|    668|Song of the Littl...|               Drama|    65|      668|        bollywood|1368149876|  149|        bollywood|\n",
      "|    898|Philadelphia Stor...|Comedy|Drama|Romance|    65|      898| screwball comedy|1368150160|  894| screwball comedy|\n",
      "|   1248|Touch of Evil (1958)|Crime|Film-Noir|T...|    65|     1248|    noir thriller|1368149983|  712|    noir thriller|\n",
      "|   1391|Mars Attacks! (1996)|Action|Comedy|Sci-Fi|    65|     1391|             mars|1368150055|  630|             mars|\n",
      "|   1617|L.A. Confidential...|Crime|Film-Noir|M...|    65|     1617|         neo-noir|1368150217|  700|         neo-noir|\n",
      "|   1694| Apostle, The (1997)|               Drama|    65|     1694|            jesus|1368149925|  579|            jesus|\n",
      "|   1783|     Palmetto (1998)|Crime|Drama|Myste...|    65|     1783|    noir thriller|1368149983|  712|    noir thriller|\n",
      "|   2022|Last Temptation o...|               Drama|    65|     2022|            jesus|1368149925|  579|            jesus|\n",
      "|   2193|       Willow (1988)|Action|Adventure|...|    65|     2193|           dragon|1368151314|  321|           dragon|\n",
      "|   2353|Enemy of the Stat...|     Action|Thriller|    65|     2353|conspiracy theory|1368151266|  252|conspiracy theory|\n",
      "|   2662|War of the Worlds...| Action|Drama|Sci-Fi|    65|     2662|             mars|1368150055|  630|             mars|\n",
      "|   2726| Killing, The (1956)|     Crime|Film-Noir|    65|     2726|    noir thriller|1368149983|  712|    noir thriller|\n",
      "|   2840|     Stigmata (1999)|      Drama|Thriller|    65|     2840|            jesus|1368149925|  579|            jesus|\n",
      "|   3052|        Dogma (1999)|Adventure|Comedy|...|    65|     3052|            jesus|1368149926|  579|            jesus|\n",
      "|   5135|Monsoon Wedding (...|      Comedy|Romance|    65|     5135|        bollywood|1368149876|  149|        bollywood|\n",
      "|   6539|Pirates of the Ca...|Action|Adventure|...|    65|     6539|         treasure|1368149949| 1043|         treasure|\n",
      "+-------+--------------------+--------------------+------+---------+-----------------+----------+-----+-----------------+\n",
      "only showing top 20 rows\n",
      "\n"
     ]
    }
   ],
   "source": [
    "# step 2\n",
    "movies_tags_genome_tags_df = movies_tags_df.join(genome_tags_df, movies_tags_df.tag == genome_tags_df.tag, \"inner\")\n",
    "movies_tags_genome_tags_df = deDupeDfCols(movies_tags_genome_tags_df, '_')\n",
    "movies_tags_genome_tags_df.show()"
   ]
  },
  {
   "cell_type": "code",
   "execution_count": 36,
   "id": "788e12fb",
   "metadata": {},
   "outputs": [
    {
     "name": "stdout",
     "output_type": "stream",
     "text": [
      "+-------+--------------------+--------------------+------+---------+---+----------+-----+-----+---------+-------+--------------------+\n",
      "|movieId|               title|              genres|userId|movieId_2|tag| timestamp|tagId|tag_2|movieId_3|tagId_2|           relevance|\n",
      "+-------+--------------------+--------------------+------+---------+---+----------+-----+-----+---------+-------+--------------------+\n",
      "|  49272|Casino Royale (2006)|Action|Adventure|...|  2483|    49272|007|1194725068|    1|  007|        1|      1|0.025000000000000022|\n",
      "|  49272|Casino Royale (2006)|Action|Adventure|...|  2483|    49272|007|1194725068|    1|  007|        2|      1| 0.03975000000000001|\n",
      "|  49272|Casino Royale (2006)|Action|Adventure|...|  2483|    49272|007|1194725068|    1|  007|        3|      1| 0.04349999999999998|\n",
      "|  49272|Casino Royale (2006)|Action|Adventure|...|  2483|    49272|007|1194725068|    1|  007|        4|      1|0.037250000000000005|\n",
      "|  49272|Casino Royale (2006)|Action|Adventure|...|  2483|    49272|007|1194725068|    1|  007|        5|      1| 0.04199999999999998|\n",
      "|  49272|Casino Royale (2006)|Action|Adventure|...|  2483|    49272|007|1194725068|    1|  007|        6|      1|0.028249999999999997|\n",
      "|  49272|Casino Royale (2006)|Action|Adventure|...|  2483|    49272|007|1194725068|    1|  007|        7|      1| 0.04575000000000001|\n",
      "|  49272|Casino Royale (2006)|Action|Adventure|...|  2483|    49272|007|1194725068|    1|  007|        8|      1|             0.03075|\n",
      "|  49272|Casino Royale (2006)|Action|Adventure|...|  2483|    49272|007|1194725068|    1|  007|        9|      1|0.034999999999999976|\n",
      "|  49272|Casino Royale (2006)|Action|Adventure|...|  2483|    49272|007|1194725068|    1|  007|       10|      1|  0.9997499999999999|\n",
      "|  49272|Casino Royale (2006)|Action|Adventure|...|  2483|    49272|007|1194725068|    1|  007|       11|      1| 0.04275000000000001|\n",
      "|  49272|Casino Royale (2006)|Action|Adventure|...|  2483|    49272|007|1194725068|    1|  007|       12|      1| 0.04025000000000001|\n",
      "|  49272|Casino Royale (2006)|Action|Adventure|...|  2483|    49272|007|1194725068|    1|  007|       13|      1| 0.03199999999999997|\n",
      "|  49272|Casino Royale (2006)|Action|Adventure|...|  2483|    49272|007|1194725068|    1|  007|       14|      1|0.025749999999999995|\n",
      "|  49272|Casino Royale (2006)|Action|Adventure|...|  2483|    49272|007|1194725068|    1|  007|       15|      1| 0.04625000000000001|\n",
      "|  49272|Casino Royale (2006)|Action|Adventure|...|  2483|    49272|007|1194725068|    1|  007|       16|      1|0.028249999999999997|\n",
      "|  49272|Casino Royale (2006)|Action|Adventure|...|  2483|    49272|007|1194725068|    1|  007|       17|      1|0.022249999999999992|\n",
      "|  49272|Casino Royale (2006)|Action|Adventure|...|  2483|    49272|007|1194725068|    1|  007|       18|      1|0.035499999999999976|\n",
      "|  49272|Casino Royale (2006)|Action|Adventure|...|  2483|    49272|007|1194725068|    1|  007|       19|      1| 0.04525000000000001|\n",
      "|  49272|Casino Royale (2006)|Action|Adventure|...|  2483|    49272|007|1194725068|    1|  007|       20|      1| 0.04899999999999999|\n",
      "+-------+--------------------+--------------------+------+---------+---+----------+-----+-----+---------+-------+--------------------+\n",
      "only showing top 20 rows\n",
      "\n"
     ]
    }
   ],
   "source": [
    "# step 3\n",
    "movies_tags_genome_tags_genome_scores_df = movies_tags_genome_tags_df.join(genome_scores_df, movies_tags_genome_tags_df.tagId == genome_scores_df.tagId, \"inner\")\n",
    "movies_tags_genome_tags_genome_scores_df = deDupeDfCols(movies_tags_genome_tags_genome_scores_df, '_')\n",
    "movies_tags_genome_tags_genome_scores_df.show()"
   ]
  },
  {
   "cell_type": "code",
   "execution_count": 37,
   "id": "b7462184",
   "metadata": {},
   "outputs": [
    {
     "name": "stdout",
     "output_type": "stream",
     "text": [
      "+-------+--------------------+--------------------+------+---------+---+----------+-----+-----+---------+-------+--------------------+---------+------+------+\n",
      "|movieId|               title|              genres|userId|movieId_2|tag| timestamp|tagId|tag_2|movieId_3|tagId_2|           relevance|movieId_4|imdbId|tmdbId|\n",
      "+-------+--------------------+--------------------+------+---------+---+----------+-----+-----+---------+-------+--------------------+---------+------+------+\n",
      "|  49272|Casino Royale (2006)|Action|Adventure|...|  2483|    49272|007|1194725068|    1|  007|        1|      1|0.025000000000000022|    49272|381061| 36557|\n",
      "|  49272|Casino Royale (2006)|Action|Adventure|...|  2483|    49272|007|1194725068|    1|  007|        2|      1| 0.03975000000000001|    49272|381061| 36557|\n",
      "|  49272|Casino Royale (2006)|Action|Adventure|...|  2483|    49272|007|1194725068|    1|  007|        3|      1| 0.04349999999999998|    49272|381061| 36557|\n",
      "|  49272|Casino Royale (2006)|Action|Adventure|...|  2483|    49272|007|1194725068|    1|  007|        4|      1|0.037250000000000005|    49272|381061| 36557|\n",
      "|  49272|Casino Royale (2006)|Action|Adventure|...|  2483|    49272|007|1194725068|    1|  007|        5|      1| 0.04199999999999998|    49272|381061| 36557|\n",
      "|  49272|Casino Royale (2006)|Action|Adventure|...|  2483|    49272|007|1194725068|    1|  007|        6|      1|0.028249999999999997|    49272|381061| 36557|\n",
      "|  49272|Casino Royale (2006)|Action|Adventure|...|  2483|    49272|007|1194725068|    1|  007|        7|      1| 0.04575000000000001|    49272|381061| 36557|\n",
      "|  49272|Casino Royale (2006)|Action|Adventure|...|  2483|    49272|007|1194725068|    1|  007|        8|      1|             0.03075|    49272|381061| 36557|\n",
      "|  49272|Casino Royale (2006)|Action|Adventure|...|  2483|    49272|007|1194725068|    1|  007|        9|      1|0.034999999999999976|    49272|381061| 36557|\n",
      "|  49272|Casino Royale (2006)|Action|Adventure|...|  2483|    49272|007|1194725068|    1|  007|       10|      1|  0.9997499999999999|    49272|381061| 36557|\n",
      "|  49272|Casino Royale (2006)|Action|Adventure|...|  2483|    49272|007|1194725068|    1|  007|       11|      1| 0.04275000000000001|    49272|381061| 36557|\n",
      "|  49272|Casino Royale (2006)|Action|Adventure|...|  2483|    49272|007|1194725068|    1|  007|       12|      1| 0.04025000000000001|    49272|381061| 36557|\n",
      "|  49272|Casino Royale (2006)|Action|Adventure|...|  2483|    49272|007|1194725068|    1|  007|       13|      1| 0.03199999999999997|    49272|381061| 36557|\n",
      "|  49272|Casino Royale (2006)|Action|Adventure|...|  2483|    49272|007|1194725068|    1|  007|       14|      1|0.025749999999999995|    49272|381061| 36557|\n",
      "|  49272|Casino Royale (2006)|Action|Adventure|...|  2483|    49272|007|1194725068|    1|  007|       15|      1| 0.04625000000000001|    49272|381061| 36557|\n",
      "|  49272|Casino Royale (2006)|Action|Adventure|...|  2483|    49272|007|1194725068|    1|  007|       16|      1|0.028249999999999997|    49272|381061| 36557|\n",
      "|  49272|Casino Royale (2006)|Action|Adventure|...|  2483|    49272|007|1194725068|    1|  007|       17|      1|0.022249999999999992|    49272|381061| 36557|\n",
      "|  49272|Casino Royale (2006)|Action|Adventure|...|  2483|    49272|007|1194725068|    1|  007|       18|      1|0.035499999999999976|    49272|381061| 36557|\n",
      "|  49272|Casino Royale (2006)|Action|Adventure|...|  2483|    49272|007|1194725068|    1|  007|       19|      1| 0.04525000000000001|    49272|381061| 36557|\n",
      "|  49272|Casino Royale (2006)|Action|Adventure|...|  2483|    49272|007|1194725068|    1|  007|       20|      1| 0.04899999999999999|    49272|381061| 36557|\n",
      "+-------+--------------------+--------------------+------+---------+---+----------+-----+-----+---------+-------+--------------------+---------+------+------+\n",
      "only showing top 20 rows\n",
      "\n"
     ]
    }
   ],
   "source": [
    "# step 4\n",
    "movies_tags_genome_tags_genome_scores_links_df = movies_tags_genome_tags_genome_scores_df.join(links_df, movies_tags_genome_tags_genome_scores_df.movieId == links_df.movieId, \"inner\")\n",
    "movies_tags_genome_tags_genome_scores_links_df = deDupeDfCols(movies_tags_genome_tags_genome_scores_links_df, '_')\n",
    "movies_tags_genome_tags_genome_scores_links_df.show()"
   ]
  },
  {
   "cell_type": "code",
   "execution_count": null,
   "id": "6b1644f8",
   "metadata": {},
   "outputs": [],
   "source": [
    "# step 5\n",
    "final_df = movies_tags_genome_tags_genome_scores_links_df.join(ratings_df, movies_tags_genome_tags_genome_scores_links_df.userId == ratings_df.userId, \"inner\")\n",
    "final_df = deDupeDfCols(final_df, '_')\n",
    "final_df.show()"
   ]
  },
  {
   "cell_type": "code",
   "execution_count": null,
   "id": "22b0e5a7",
   "metadata": {},
   "outputs": [],
   "source": [
    "# REMOVE ALL DUPLICATE COULMN"
   ]
  },
  {
   "cell_type": "code",
   "execution_count": null,
   "id": "0f031e06",
   "metadata": {},
   "outputs": [],
   "source": [
    "display(final_df)"
   ]
  },
  {
   "cell_type": "code",
   "execution_count": null,
   "id": "eed2133e",
   "metadata": {},
   "outputs": [],
   "source": [
    "val cols = Seq(\"movieId_2\",\"tag_2\",\"movieId_3\", \"movieId_4\", )\n",
    "df = df.drop(cols:_*)"
   ]
  }
 ],
 "metadata": {
  "kernelspec": {
   "display_name": "Python 3 (ipykernel)",
   "language": "python",
   "name": "python3"
  },
  "language_info": {
   "codemirror_mode": {
    "name": "ipython",
    "version": 3
   },
   "file_extension": ".py",
   "mimetype": "text/x-python",
   "name": "python",
   "nbconvert_exporter": "python",
   "pygments_lexer": "ipython3",
   "version": "3.9.12"
  }
 },
 "nbformat": 4,
 "nbformat_minor": 5
}
