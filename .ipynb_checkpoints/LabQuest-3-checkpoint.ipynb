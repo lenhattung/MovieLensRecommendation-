{
 "cells": [
  {
   "cell_type": "code",
   "execution_count": 1,
   "id": "1667b061",
   "metadata": {},
   "outputs": [],
   "source": [
    "# NHAT TUNG LE, ID 426246\n",
    "# LAB QUEST - 3"
   ]
  },
  {
   "cell_type": "code",
   "execution_count": 2,
   "id": "983eb49b",
   "metadata": {},
   "outputs": [],
   "source": [
    "# install pyspark\n",
    "# !pip install pyspark"
   ]
  },
  {
   "cell_type": "code",
   "execution_count": 3,
   "id": "c4bcf1be",
   "metadata": {},
   "outputs": [],
   "source": [
    "import os\n",
    "from pyspark import SparkContext\n",
    "from pyspark.sql import SQLContext, SparkSession \n",
    "from pyspark.sql.functions import col, split, explode\n",
    "from pyspark.sql.types import DateType, StringType, FloatType, IntegerType \n",
    "from pyspark.sql import functions as F "
   ]
  },
  {
   "cell_type": "code",
   "execution_count": 4,
   "id": "e3911cd0",
   "metadata": {},
   "outputs": [
    {
     "data": {
      "text/plain": [
       "['genome-scores.csv',\n",
       " 'genome-tags.csv',\n",
       " 'links.csv',\n",
       " 'movies.csv',\n",
       " 'ratings.csv',\n",
       " 'README.txt',\n",
       " 'tags.csv']"
      ]
     },
     "execution_count": 4,
     "metadata": {},
     "output_type": "execute_result"
    }
   ],
   "source": [
    "# Change oath\n",
    "path = \"C:/Users/Windows/Documents/GitHub/movielens/ml-20m/ml-20m\"\n",
    "os.chdir(path)\n",
    "os.listdir()"
   ]
  },
  {
   "cell_type": "code",
   "execution_count": 5,
   "id": "ecdfbf10",
   "metadata": {},
   "outputs": [],
   "source": [
    "# create spark\n",
    "spark = SparkSession.builder.master('local[*]').appName(\"Movie Lens Recommendation\").getOrCreate()"
   ]
  },
  {
   "cell_type": "code",
   "execution_count": 6,
   "id": "75265c5a",
   "metadata": {},
   "outputs": [
    {
     "name": "stdout",
     "output_type": "stream",
     "text": [
      "+-------+--------------------+--------------------+\n",
      "|movieId|               title|              genres|\n",
      "+-------+--------------------+--------------------+\n",
      "|      1|    Toy Story (1995)|Adventure|Animati...|\n",
      "|      2|      Jumanji (1995)|Adventure|Childre...|\n",
      "|      3|Grumpier Old Men ...|      Comedy|Romance|\n",
      "|      4|Waiting to Exhale...|Comedy|Drama|Romance|\n",
      "|      5|Father of the Bri...|              Comedy|\n",
      "|      6|         Heat (1995)|Action|Crime|Thri...|\n",
      "|      7|      Sabrina (1995)|      Comedy|Romance|\n",
      "|      8| Tom and Huck (1995)|  Adventure|Children|\n",
      "|      9| Sudden Death (1995)|              Action|\n",
      "|     10|    GoldenEye (1995)|Action|Adventure|...|\n",
      "|     11|American Presiden...|Comedy|Drama|Romance|\n",
      "|     12|Dracula: Dead and...|       Comedy|Horror|\n",
      "|     13|        Balto (1995)|Adventure|Animati...|\n",
      "|     14|        Nixon (1995)|               Drama|\n",
      "|     15|Cutthroat Island ...|Action|Adventure|...|\n",
      "|     16|       Casino (1995)|         Crime|Drama|\n",
      "|     17|Sense and Sensibi...|       Drama|Romance|\n",
      "|     18|   Four Rooms (1995)|              Comedy|\n",
      "|     19|Ace Ventura: When...|              Comedy|\n",
      "|     20|  Money Train (1995)|Action|Comedy|Cri...|\n",
      "+-------+--------------------+--------------------+\n",
      "only showing top 20 rows\n",
      "\n",
      "root\n",
      " |-- movieId: integer (nullable = true)\n",
      " |-- title: string (nullable = true)\n",
      " |-- genres: string (nullable = true)\n",
      "\n",
      "+-------+--------------------+---------+\n",
      "|movieId|               title|   genres|\n",
      "+-------+--------------------+---------+\n",
      "|      1|    Toy Story (1995)|Adventure|\n",
      "|      1|    Toy Story (1995)|Animation|\n",
      "|      1|    Toy Story (1995)| Children|\n",
      "|      1|    Toy Story (1995)|   Comedy|\n",
      "|      1|    Toy Story (1995)|  Fantasy|\n",
      "|      2|      Jumanji (1995)|Adventure|\n",
      "|      2|      Jumanji (1995)| Children|\n",
      "|      2|      Jumanji (1995)|  Fantasy|\n",
      "|      3|Grumpier Old Men ...|   Comedy|\n",
      "|      3|Grumpier Old Men ...|  Romance|\n",
      "|      4|Waiting to Exhale...|   Comedy|\n",
      "|      4|Waiting to Exhale...|    Drama|\n",
      "|      4|Waiting to Exhale...|  Romance|\n",
      "|      5|Father of the Bri...|   Comedy|\n",
      "|      6|         Heat (1995)|   Action|\n",
      "|      6|         Heat (1995)|    Crime|\n",
      "|      6|         Heat (1995)| Thriller|\n",
      "|      7|      Sabrina (1995)|   Comedy|\n",
      "|      7|      Sabrina (1995)|  Romance|\n",
      "|      8| Tom and Huck (1995)|Adventure|\n",
      "+-------+--------------------+---------+\n",
      "only showing top 20 rows\n",
      "\n",
      "root\n",
      " |-- movieId: integer (nullable = true)\n",
      " |-- title: string (nullable = true)\n",
      " |-- genres: string (nullable = false)\n",
      "\n"
     ]
    }
   ],
   "source": [
    "## movies\n",
    "movies_df = spark.read.csv(\"movies.csv\", sep=\",\", header = True, inferSchema=True, nullValue=\"NA\")\n",
    "movies_df.show() \n",
    "movies_df.printSchema()\n",
    "\n",
    "# we need to split genres\n",
    "movies_df = movies_df.withColumn(\"genres\", explode(split(\"genres\", \"[|]\")))\n",
    "movies_df.show()\n",
    "movies_df.printSchema()"
   ]
  },
  {
   "cell_type": "code",
   "execution_count": 7,
   "id": "227055c8",
   "metadata": {},
   "outputs": [
    {
     "name": "stdout",
     "output_type": "stream",
     "text": [
      "+------+-------+-----------------+----------+\n",
      "|userId|movieId|              tag| timestamp|\n",
      "+------+-------+-----------------+----------+\n",
      "|    18|   4141|      Mark Waters|1240597180|\n",
      "|    65|    208|        dark hero|1368150078|\n",
      "|    65|    353|        dark hero|1368150079|\n",
      "|    65|    521|    noir thriller|1368149983|\n",
      "|    65|    592|        dark hero|1368150078|\n",
      "|    65|    668|        bollywood|1368149876|\n",
      "|    65|    898| screwball comedy|1368150160|\n",
      "|    65|   1248|    noir thriller|1368149983|\n",
      "|    65|   1391|             mars|1368150055|\n",
      "|    65|   1617|         neo-noir|1368150217|\n",
      "|    65|   1694|            jesus|1368149925|\n",
      "|    65|   1783|    noir thriller|1368149983|\n",
      "|    65|   2022|            jesus|1368149925|\n",
      "|    65|   2193|           dragon|1368151314|\n",
      "|    65|   2353|conspiracy theory|1368151266|\n",
      "|    65|   2662|             mars|1368150055|\n",
      "|    65|   2726|    noir thriller|1368149983|\n",
      "|    65|   2840|            jesus|1368149925|\n",
      "|    65|   3052|            jesus|1368149926|\n",
      "|    65|   5135|        bollywood|1368149876|\n",
      "+------+-------+-----------------+----------+\n",
      "only showing top 20 rows\n",
      "\n",
      "root\n",
      " |-- userId: integer (nullable = true)\n",
      " |-- movieId: integer (nullable = true)\n",
      " |-- tag: string (nullable = true)\n",
      " |-- timestamp: integer (nullable = true)\n",
      "\n"
     ]
    }
   ],
   "source": [
    "## tags\n",
    "tags_df = spark.read.csv(\"tags.csv\", sep=\",\", header = True, inferSchema=True, nullValue=\"NA\")\n",
    "tags_df.show() \n",
    "tags_df.printSchema()"
   ]
  },
  {
   "cell_type": "code",
   "execution_count": 8,
   "id": "09c9ccbf",
   "metadata": {},
   "outputs": [
    {
     "name": "stdout",
     "output_type": "stream",
     "text": [
      "+-----+---------------+\n",
      "|tagId|            tag|\n",
      "+-----+---------------+\n",
      "|    1|            007|\n",
      "|    2|   007 (series)|\n",
      "|    3|   18th century|\n",
      "|    4|          1920s|\n",
      "|    5|          1930s|\n",
      "|    6|          1950s|\n",
      "|    7|          1960s|\n",
      "|    8|          1970s|\n",
      "|    9|          1980s|\n",
      "|   10|   19th century|\n",
      "|   11|             3d|\n",
      "|   12|           70mm|\n",
      "|   13|            80s|\n",
      "|   14|           9/11|\n",
      "|   15|        aardman|\n",
      "|   16|aardman studios|\n",
      "|   17|       abortion|\n",
      "|   18|         absurd|\n",
      "|   19|         action|\n",
      "|   20|  action packed|\n",
      "+-----+---------------+\n",
      "only showing top 20 rows\n",
      "\n",
      "root\n",
      " |-- tagId: integer (nullable = true)\n",
      " |-- tag: string (nullable = true)\n",
      "\n"
     ]
    }
   ],
   "source": [
    "## genome-tags\n",
    "genome_tags_df = spark.read.csv(\"genome-tags.csv\", sep=\",\", header = True, inferSchema=True, nullValue=\"NA\")\n",
    "genome_tags_df.show() \n",
    "genome_tags_df.printSchema()"
   ]
  },
  {
   "cell_type": "code",
   "execution_count": 9,
   "id": "132b5990",
   "metadata": {},
   "outputs": [
    {
     "name": "stdout",
     "output_type": "stream",
     "text": [
      "+-------+-----+--------------------+\n",
      "|movieId|tagId|           relevance|\n",
      "+-------+-----+--------------------+\n",
      "|      1|    1|0.025000000000000022|\n",
      "|      1|    2|0.025000000000000022|\n",
      "|      1|    3|0.057750000000000024|\n",
      "|      1|    4|             0.09675|\n",
      "|      1|    5|             0.14675|\n",
      "|      1|    6| 0.21700000000000003|\n",
      "|      1|    7|               0.067|\n",
      "|      1|    8| 0.26275000000000004|\n",
      "|      1|    9|               0.262|\n",
      "|      1|   10| 0.03199999999999997|\n",
      "|      1|   11|               0.577|\n",
      "|      1|   12| 0.11625000000000002|\n",
      "|      1|   13|               0.188|\n",
      "|      1|   14|0.008000000000000007|\n",
      "|      1|   15|0.036750000000000005|\n",
      "|      1|   16| 0.28174999999999994|\n",
      "|      1|   17|0.007000000000000006|\n",
      "|      1|   18| 0.11049999999999999|\n",
      "|      1|   19|              0.6705|\n",
      "|      1|   20|              0.1845|\n",
      "+-------+-----+--------------------+\n",
      "only showing top 20 rows\n",
      "\n",
      "root\n",
      " |-- movieId: integer (nullable = true)\n",
      " |-- tagId: integer (nullable = true)\n",
      " |-- relevance: double (nullable = true)\n",
      "\n"
     ]
    }
   ],
   "source": [
    "## genome-scores\n",
    "genome_scores_df = spark.read.csv(\"genome-scores.csv\", sep=\",\", header = True, inferSchema=True, nullValue=\"NA\")\n",
    "genome_scores_df.show() \n",
    "genome_scores_df.printSchema()"
   ]
  },
  {
   "cell_type": "code",
   "execution_count": 10,
   "id": "fcdbeb1c",
   "metadata": {},
   "outputs": [
    {
     "name": "stdout",
     "output_type": "stream",
     "text": [
      "+-------+------+------+\n",
      "|movieId|imdbId|tmdbId|\n",
      "+-------+------+------+\n",
      "|      1|114709|   862|\n",
      "|      2|113497|  8844|\n",
      "|      3|113228| 15602|\n",
      "|      4|114885| 31357|\n",
      "|      5|113041| 11862|\n",
      "|      6|113277|   949|\n",
      "|      7|114319| 11860|\n",
      "|      8|112302| 45325|\n",
      "|      9|114576|  9091|\n",
      "|     10|113189|   710|\n",
      "|     11|112346|  9087|\n",
      "|     12|112896| 12110|\n",
      "|     13|112453| 21032|\n",
      "|     14|113987| 10858|\n",
      "|     15|112760|  1408|\n",
      "|     16|112641|   524|\n",
      "|     17|114388|  4584|\n",
      "|     18|113101|     5|\n",
      "|     19|112281|  9273|\n",
      "|     20|113845| 11517|\n",
      "+-------+------+------+\n",
      "only showing top 20 rows\n",
      "\n",
      "root\n",
      " |-- movieId: integer (nullable = true)\n",
      " |-- imdbId: integer (nullable = true)\n",
      " |-- tmdbId: integer (nullable = true)\n",
      "\n"
     ]
    }
   ],
   "source": [
    "## links\n",
    "links_df = spark.read.csv(\"links.csv\", sep=\",\", header = True, inferSchema=True, nullValue=\"NA\")\n",
    "links_df.show() \n",
    "links_df.printSchema()"
   ]
  },
  {
   "cell_type": "code",
   "execution_count": 11,
   "id": "fa1887a9",
   "metadata": {},
   "outputs": [
    {
     "name": "stdout",
     "output_type": "stream",
     "text": [
      "+------+-------+------+----------+\n",
      "|userId|movieId|rating| timestamp|\n",
      "+------+-------+------+----------+\n",
      "|     1|      2|   3.5|1112486027|\n",
      "|     1|     29|   3.5|1112484676|\n",
      "|     1|     32|   3.5|1112484819|\n",
      "|     1|     47|   3.5|1112484727|\n",
      "|     1|     50|   3.5|1112484580|\n",
      "|     1|    112|   3.5|1094785740|\n",
      "|     1|    151|   4.0|1094785734|\n",
      "|     1|    223|   4.0|1112485573|\n",
      "|     1|    253|   4.0|1112484940|\n",
      "|     1|    260|   4.0|1112484826|\n",
      "|     1|    293|   4.0|1112484703|\n",
      "|     1|    296|   4.0|1112484767|\n",
      "|     1|    318|   4.0|1112484798|\n",
      "|     1|    337|   3.5|1094785709|\n",
      "|     1|    367|   3.5|1112485980|\n",
      "|     1|    541|   4.0|1112484603|\n",
      "|     1|    589|   3.5|1112485557|\n",
      "|     1|    593|   3.5|1112484661|\n",
      "|     1|    653|   3.0|1094785691|\n",
      "|     1|    919|   3.5|1094785621|\n",
      "+------+-------+------+----------+\n",
      "only showing top 20 rows\n",
      "\n",
      "root\n",
      " |-- userId: integer (nullable = true)\n",
      " |-- movieId: integer (nullable = true)\n",
      " |-- rating: double (nullable = true)\n",
      " |-- timestamp: integer (nullable = true)\n",
      "\n"
     ]
    }
   ],
   "source": [
    "## ratings\n",
    "ratings_df = spark.read.csv(\"ratings.csv\", sep=\",\", header = True, inferSchema=True, nullValue=\"NA\")\n",
    "ratings_df.show() \n",
    "ratings_df.printSchema()"
   ]
  },
  {
   "cell_type": "code",
   "execution_count": 12,
   "id": "d18c9e9e",
   "metadata": {},
   "outputs": [
    {
     "data": {
      "text/plain": [
       "DataFrame[movieId: int, title: string, genres: string]"
      ]
     },
     "metadata": {},
     "output_type": "display_data"
    },
    {
     "data": {
      "text/plain": [
       "DataFrame[userId: int, movieId: int, tag: string, timestamp: int]"
      ]
     },
     "metadata": {},
     "output_type": "display_data"
    },
    {
     "data": {
      "text/plain": [
       "DataFrame[tagId: int, tag: string]"
      ]
     },
     "metadata": {},
     "output_type": "display_data"
    },
    {
     "data": {
      "text/plain": [
       "DataFrame[movieId: int, tagId: int, relevance: double]"
      ]
     },
     "metadata": {},
     "output_type": "display_data"
    },
    {
     "data": {
      "text/plain": [
       "DataFrame[movieId: int, imdbId: int, tmdbId: int]"
      ]
     },
     "metadata": {},
     "output_type": "display_data"
    },
    {
     "data": {
      "text/plain": [
       "DataFrame[userId: int, movieId: int, rating: double, timestamp: int]"
      ]
     },
     "metadata": {},
     "output_type": "display_data"
    }
   ],
   "source": [
    "display(movies_df)\n",
    "display(tags_df)\n",
    "display(genome_tags_df)\n",
    "display(genome_scores_df)\n",
    "display(links_df)\n",
    "display(ratings_df)"
   ]
  },
  {
   "cell_type": "code",
   "execution_count": 13,
   "id": "993d7b8e",
   "metadata": {},
   "outputs": [],
   "source": [
    "# JOIN TABLE"
   ]
  },
  {
   "cell_type": "code",
   "execution_count": 14,
   "id": "88cd5013",
   "metadata": {},
   "outputs": [
    {
     "name": "stdout",
     "output_type": "stream",
     "text": [
      "+-------+--------------------+---------+------+------+----------+\n",
      "|movieId|               title|   genres|userId|rating| timestamp|\n",
      "+-------+--------------------+---------+------+------+----------+\n",
      "|      2|      Jumanji (1995)|  Fantasy|     1|   3.5|1112486027|\n",
      "|      2|      Jumanji (1995)| Children|     1|   3.5|1112486027|\n",
      "|      2|      Jumanji (1995)|Adventure|     1|   3.5|1112486027|\n",
      "|     29|City of Lost Chil...|   Sci-Fi|     1|   3.5|1112484676|\n",
      "|     29|City of Lost Chil...|  Mystery|     1|   3.5|1112484676|\n",
      "|     29|City of Lost Chil...|  Fantasy|     1|   3.5|1112484676|\n",
      "|     29|City of Lost Chil...|    Drama|     1|   3.5|1112484676|\n",
      "|     29|City of Lost Chil...|Adventure|     1|   3.5|1112484676|\n",
      "|     32|Twelve Monkeys (a...| Thriller|     1|   3.5|1112484819|\n",
      "|     32|Twelve Monkeys (a...|   Sci-Fi|     1|   3.5|1112484819|\n",
      "|     32|Twelve Monkeys (a...|  Mystery|     1|   3.5|1112484819|\n",
      "|     47|Seven (a.k.a. Se7...| Thriller|     1|   3.5|1112484727|\n",
      "|     47|Seven (a.k.a. Se7...|  Mystery|     1|   3.5|1112484727|\n",
      "|     50|Usual Suspects, T...| Thriller|     1|   3.5|1112484580|\n",
      "|     50|Usual Suspects, T...|  Mystery|     1|   3.5|1112484580|\n",
      "|     50|Usual Suspects, T...|    Crime|     1|   3.5|1112484580|\n",
      "|    112|Rumble in the Bro...|    Crime|     1|   3.5|1094785740|\n",
      "|    112|Rumble in the Bro...|   Comedy|     1|   3.5|1094785740|\n",
      "|    112|Rumble in the Bro...|Adventure|     1|   3.5|1094785740|\n",
      "|    112|Rumble in the Bro...|   Action|     1|   3.5|1094785740|\n",
      "+-------+--------------------+---------+------+------+----------+\n",
      "only showing top 20 rows\n",
      "\n"
     ]
    }
   ],
   "source": [
    "# Step 1\n",
    "# Join movies_df & ratings_df\n",
    "joined_df = movies_df.join(ratings_df, movies_df.movieId == ratings_df.movieId, \"inner\").drop(ratings_df.movieId)\n",
    "joined_df.show()"
   ]
  },
  {
   "cell_type": "code",
   "execution_count": 15,
   "id": "ccc846cf",
   "metadata": {
    "scrolled": true
   },
   "outputs": [
    {
     "name": "stdout",
     "output_type": "stream",
     "text": [
      "+-------+--------------------+---------+------+------+----------+------+------+\n",
      "|movieId|               title|   genres|userId|rating| timestamp|imdbId|tmdbId|\n",
      "+-------+--------------------+---------+------+------+----------+------+------+\n",
      "|      2|      Jumanji (1995)|  Fantasy|     1|   3.5|1112486027|113497|  8844|\n",
      "|      2|      Jumanji (1995)| Children|     1|   3.5|1112486027|113497|  8844|\n",
      "|      2|      Jumanji (1995)|Adventure|     1|   3.5|1112486027|113497|  8844|\n",
      "|     29|City of Lost Chil...|   Sci-Fi|     1|   3.5|1112484676|112682|   902|\n",
      "|     29|City of Lost Chil...|  Mystery|     1|   3.5|1112484676|112682|   902|\n",
      "|     29|City of Lost Chil...|  Fantasy|     1|   3.5|1112484676|112682|   902|\n",
      "|     29|City of Lost Chil...|    Drama|     1|   3.5|1112484676|112682|   902|\n",
      "|     29|City of Lost Chil...|Adventure|     1|   3.5|1112484676|112682|   902|\n",
      "|     32|Twelve Monkeys (a...| Thriller|     1|   3.5|1112484819|114746|    63|\n",
      "|     32|Twelve Monkeys (a...|   Sci-Fi|     1|   3.5|1112484819|114746|    63|\n",
      "|     32|Twelve Monkeys (a...|  Mystery|     1|   3.5|1112484819|114746|    63|\n",
      "|     47|Seven (a.k.a. Se7...| Thriller|     1|   3.5|1112484727|114369|   807|\n",
      "|     47|Seven (a.k.a. Se7...|  Mystery|     1|   3.5|1112484727|114369|   807|\n",
      "|     50|Usual Suspects, T...| Thriller|     1|   3.5|1112484580|114814|   629|\n",
      "|     50|Usual Suspects, T...|  Mystery|     1|   3.5|1112484580|114814|   629|\n",
      "|     50|Usual Suspects, T...|    Crime|     1|   3.5|1112484580|114814|   629|\n",
      "|    112|Rumble in the Bro...|    Crime|     1|   3.5|1094785740|113326| 33542|\n",
      "|    112|Rumble in the Bro...|   Comedy|     1|   3.5|1094785740|113326| 33542|\n",
      "|    112|Rumble in the Bro...|Adventure|     1|   3.5|1094785740|113326| 33542|\n",
      "|    112|Rumble in the Bro...|   Action|     1|   3.5|1094785740|113326| 33542|\n",
      "+-------+--------------------+---------+------+------+----------+------+------+\n",
      "only showing top 20 rows\n",
      "\n"
     ]
    }
   ],
   "source": [
    "# Step 2\n",
    "# Join joined_df & links\n",
    "joined_df_2 = joined_df.join(links_df, joined_df.movieId == links_df.movieId, \"inner\").drop(links_df.movieId)\n",
    "joined_df_2.show()"
   ]
  },
  {
   "cell_type": "code",
   "execution_count": 23,
   "id": "1b1d4b13",
   "metadata": {
    "scrolled": true
   },
   "outputs": [
    {
     "name": "stdout",
     "output_type": "stream",
     "text": [
      "+-------+----------------+---------+------+------+----------+------+------+------+-------+------------------+----------+\n",
      "|movieId|           title|   genres|userId|rating| timestamp|imdbId|tmdbId|userId|movieId|               tag| timestamp|\n",
      "+-------+----------------+---------+------+------+----------+------+------+------+-------+------------------+----------+\n",
      "|      1|Toy Story (1995)|  Fantasy| 23171|   3.5|1130926397|114709|   862| 23171|      1|             pixar|1140521984|\n",
      "|      1|Toy Story (1995)|   Comedy| 23171|   3.5|1130926397|114709|   862| 23171|      1|             pixar|1140521984|\n",
      "|      1|Toy Story (1995)| Children| 23171|   3.5|1130926397|114709|   862| 23171|      1|             pixar|1140521984|\n",
      "|      1|Toy Story (1995)|Animation| 23171|   3.5|1130926397|114709|   862| 23171|      1|             pixar|1140521984|\n",
      "|      1|Toy Story (1995)|Adventure| 23171|   3.5|1130926397|114709|   862| 23171|      1|             pixar|1140521984|\n",
      "|      1|Toy Story (1995)|  Fantasy| 88055|   3.0|1339531962|114709|   862| 88055|      1|          children|1339531972|\n",
      "|      1|Toy Story (1995)|  Fantasy| 88055|   3.0|1339531962|114709|   862| 88055|      1|computer animation|1339531991|\n",
      "|      1|Toy Story (1995)|  Fantasy| 88055|   3.0|1339531962|114709|   862| 88055|      1|            family|1339531975|\n",
      "|      1|Toy Story (1995)|  Fantasy| 88055|   3.0|1339531962|114709|   862| 88055|      1|          humorous|1339531989|\n",
      "|      1|Toy Story (1995)|  Fantasy| 88055|   3.0|1339531962|114709|   862| 88055|      1|       time travel|1339531981|\n",
      "|      1|Toy Story (1995)|  Fantasy| 88055|   3.0|1339531962|114709|   862| 88055|      1|         Tom Hanks|1339531986|\n",
      "|      1|Toy Story (1995)|  Fantasy| 88055|   3.0|1339531962|114709|   862| 88055|      1|             witty|1339531978|\n",
      "|      1|Toy Story (1995)|   Comedy| 88055|   3.0|1339531962|114709|   862| 88055|      1|          children|1339531972|\n",
      "|      1|Toy Story (1995)|   Comedy| 88055|   3.0|1339531962|114709|   862| 88055|      1|computer animation|1339531991|\n",
      "|      1|Toy Story (1995)|   Comedy| 88055|   3.0|1339531962|114709|   862| 88055|      1|            family|1339531975|\n",
      "|      1|Toy Story (1995)|   Comedy| 88055|   3.0|1339531962|114709|   862| 88055|      1|          humorous|1339531989|\n",
      "|      1|Toy Story (1995)|   Comedy| 88055|   3.0|1339531962|114709|   862| 88055|      1|       time travel|1339531981|\n",
      "|      1|Toy Story (1995)|   Comedy| 88055|   3.0|1339531962|114709|   862| 88055|      1|         Tom Hanks|1339531986|\n",
      "|      1|Toy Story (1995)|   Comedy| 88055|   3.0|1339531962|114709|   862| 88055|      1|             witty|1339531978|\n",
      "|      1|Toy Story (1995)| Children| 88055|   3.0|1339531962|114709|   862| 88055|      1|          children|1339531972|\n",
      "+-------+----------------+---------+------+------+----------+------+------+------+-------+------------------+----------+\n",
      "only showing top 20 rows\n",
      "\n"
     ]
    }
   ],
   "source": [
    "# Step 3\n",
    "# Join joined_df & tags_df\n",
    "joined_df_3 = joined_df_2.join(tags_df, (joined_df_2.movieId == tags_df.movieId) & (joined_df_2.userId == tags_df.userId))\n",
    "joined_df_3.show()"
   ]
  },
  {
   "cell_type": "code",
   "execution_count": 24,
   "id": "27fee526",
   "metadata": {},
   "outputs": [],
   "source": [
    "# Remove dupplicate\n",
    "def dropDupeDfCols(df):\n",
    "    newcols = []\n",
    "    dupcols = []\n",
    "\n",
    "    for i in range(len(df.columns)):\n",
    "        if df.columns[i] not in newcols:\n",
    "            newcols.append(df.columns[i])\n",
    "        else:\n",
    "            dupcols.append(i)\n",
    "\n",
    "    df = df.toDF(*[str(i) for i in range(len(df.columns))])\n",
    "    for dupcol in dupcols:\n",
    "        df = df.drop(str(dupcol))\n",
    "\n",
    "    return df.toDF(*newcols)"
   ]
  },
  {
   "cell_type": "code",
   "execution_count": 25,
   "id": "cc11fa2f",
   "metadata": {},
   "outputs": [
    {
     "name": "stdout",
     "output_type": "stream",
     "text": [
      "+-------+----------------+---------+------+------+----------+------+------+------------------+\n",
      "|movieId|           title|   genres|userId|rating| timestamp|imdbId|tmdbId|               tag|\n",
      "+-------+----------------+---------+------+------+----------+------+------+------------------+\n",
      "|      1|Toy Story (1995)|  Fantasy| 23171|   3.5|1130926397|114709|   862|             pixar|\n",
      "|      1|Toy Story (1995)|   Comedy| 23171|   3.5|1130926397|114709|   862|             pixar|\n",
      "|      1|Toy Story (1995)| Children| 23171|   3.5|1130926397|114709|   862|             pixar|\n",
      "|      1|Toy Story (1995)|Animation| 23171|   3.5|1130926397|114709|   862|             pixar|\n",
      "|      1|Toy Story (1995)|Adventure| 23171|   3.5|1130926397|114709|   862|             pixar|\n",
      "|      1|Toy Story (1995)|  Fantasy| 88055|   3.0|1339531962|114709|   862|          children|\n",
      "|      1|Toy Story (1995)|  Fantasy| 88055|   3.0|1339531962|114709|   862|computer animation|\n",
      "|      1|Toy Story (1995)|  Fantasy| 88055|   3.0|1339531962|114709|   862|            family|\n",
      "|      1|Toy Story (1995)|  Fantasy| 88055|   3.0|1339531962|114709|   862|          humorous|\n",
      "|      1|Toy Story (1995)|  Fantasy| 88055|   3.0|1339531962|114709|   862|       time travel|\n",
      "|      1|Toy Story (1995)|  Fantasy| 88055|   3.0|1339531962|114709|   862|         Tom Hanks|\n",
      "|      1|Toy Story (1995)|  Fantasy| 88055|   3.0|1339531962|114709|   862|             witty|\n",
      "|      1|Toy Story (1995)|   Comedy| 88055|   3.0|1339531962|114709|   862|          children|\n",
      "|      1|Toy Story (1995)|   Comedy| 88055|   3.0|1339531962|114709|   862|computer animation|\n",
      "|      1|Toy Story (1995)|   Comedy| 88055|   3.0|1339531962|114709|   862|            family|\n",
      "|      1|Toy Story (1995)|   Comedy| 88055|   3.0|1339531962|114709|   862|          humorous|\n",
      "|      1|Toy Story (1995)|   Comedy| 88055|   3.0|1339531962|114709|   862|       time travel|\n",
      "|      1|Toy Story (1995)|   Comedy| 88055|   3.0|1339531962|114709|   862|         Tom Hanks|\n",
      "|      1|Toy Story (1995)|   Comedy| 88055|   3.0|1339531962|114709|   862|             witty|\n",
      "|      1|Toy Story (1995)| Children| 88055|   3.0|1339531962|114709|   862|          children|\n",
      "+-------+----------------+---------+------+------+----------+------+------+------------------+\n",
      "only showing top 20 rows\n",
      "\n"
     ]
    }
   ],
   "source": [
    "joined_df_3 = dropDupeDfCols(joined_df_3)\n",
    "joined_df_3.show()"
   ]
  },
  {
   "cell_type": "code",
   "execution_count": 26,
   "id": "939bbb02",
   "metadata": {},
   "outputs": [
    {
     "name": "stdout",
     "output_type": "stream",
     "text": [
      "+-----+---------------+-------+--------------------+\n",
      "|tagId|            tag|movieId|           relevance|\n",
      "+-----+---------------+-------+--------------------+\n",
      "|    1|            007|      1|0.025000000000000022|\n",
      "|    2|   007 (series)|      1|0.025000000000000022|\n",
      "|    3|   18th century|      1|0.057750000000000024|\n",
      "|    4|          1920s|      1|             0.09675|\n",
      "|    5|          1930s|      1|             0.14675|\n",
      "|    6|          1950s|      1| 0.21700000000000003|\n",
      "|    7|          1960s|      1|               0.067|\n",
      "|    8|          1970s|      1| 0.26275000000000004|\n",
      "|    9|          1980s|      1|               0.262|\n",
      "|   10|   19th century|      1| 0.03199999999999997|\n",
      "|   11|             3d|      1|               0.577|\n",
      "|   12|           70mm|      1| 0.11625000000000002|\n",
      "|   13|            80s|      1|               0.188|\n",
      "|   14|           9/11|      1|0.008000000000000007|\n",
      "|   15|        aardman|      1|0.036750000000000005|\n",
      "|   16|aardman studios|      1| 0.28174999999999994|\n",
      "|   17|       abortion|      1|0.007000000000000006|\n",
      "|   18|         absurd|      1| 0.11049999999999999|\n",
      "|   19|         action|      1|              0.6705|\n",
      "|   20|  action packed|      1|              0.1845|\n",
      "+-----+---------------+-------+--------------------+\n",
      "only showing top 20 rows\n",
      "\n"
     ]
    }
   ],
   "source": [
    "# Step 4\n",
    "# Join 2 genomes\n",
    "joined_genome = genome_tags_df.join(genome_scores_df, genome_tags_df.tagId == genome_scores_df.tagId, \"inner\").drop(genome_scores_df.tagId)\n",
    "joined_genome.show()"
   ]
  },
  {
   "cell_type": "code",
   "execution_count": 27,
   "id": "f3cec9db",
   "metadata": {},
   "outputs": [
    {
     "name": "stdout",
     "output_type": "stream",
     "text": [
      "+-------+----------------+---------+------+------+----------+------+------+--------+-----+--------+-------+---------+\n",
      "|movieId|           title|   genres|userId|rating| timestamp|imdbId|tmdbId|     tag|tagId|     tag|movieId|relevance|\n",
      "+-------+----------------+---------+------+------+----------+------+------+--------+-----+--------+-------+---------+\n",
      "|      1|Toy Story (1995)|  Fantasy| 88055|   3.0|1339531962|114709|   862|children|  204|children|      1|  0.96425|\n",
      "|      1|Toy Story (1995)|   Comedy| 88055|   3.0|1339531962|114709|   862|children|  204|children|      1|  0.96425|\n",
      "|      1|Toy Story (1995)| Children| 88055|   3.0|1339531962|114709|   862|children|  204|children|      1|  0.96425|\n",
      "|      1|Toy Story (1995)|Animation| 88055|   3.0|1339531962|114709|   862|children|  204|children|      1|  0.96425|\n",
      "|      1|Toy Story (1995)|Adventure| 88055|   3.0|1339531962|114709|   862|children|  204|children|      1|  0.96425|\n",
      "|      1|Toy Story (1995)|  Fantasy| 51492|   2.0|1378323565|114709|   862|children|  204|children|      1|  0.96425|\n",
      "|      1|Toy Story (1995)|   Comedy| 51492|   2.0|1378323565|114709|   862|children|  204|children|      1|  0.96425|\n",
      "|      1|Toy Story (1995)| Children| 51492|   2.0|1378323565|114709|   862|children|  204|children|      1|  0.96425|\n",
      "|      1|Toy Story (1995)|Animation| 51492|   2.0|1378323565|114709|   862|children|  204|children|      1|  0.96425|\n",
      "|      1|Toy Story (1995)|Adventure| 51492|   2.0|1378323565|114709|   862|children|  204|children|      1|  0.96425|\n",
      "|      1|Toy Story (1995)|  Fantasy| 84441|   3.5|1176134235|114709|   862|children|  204|children|      1|  0.96425|\n",
      "|      1|Toy Story (1995)|   Comedy| 84441|   3.5|1176134235|114709|   862|children|  204|children|      1|  0.96425|\n",
      "|      1|Toy Story (1995)| Children| 84441|   3.5|1176134235|114709|   862|children|  204|children|      1|  0.96425|\n",
      "|      1|Toy Story (1995)|Animation| 84441|   3.5|1176134235|114709|   862|children|  204|children|      1|  0.96425|\n",
      "|      1|Toy Story (1995)|Adventure| 84441|   3.5|1176134235|114709|   862|children|  204|children|      1|  0.96425|\n",
      "|      1|Toy Story (1995)|  Fantasy| 72257|   5.0|1330111303|114709|   862|children|  204|children|      1|  0.96425|\n",
      "|      1|Toy Story (1995)|   Comedy| 72257|   5.0|1330111303|114709|   862|children|  204|children|      1|  0.96425|\n",
      "|      1|Toy Story (1995)| Children| 72257|   5.0|1330111303|114709|   862|children|  204|children|      1|  0.96425|\n",
      "|      1|Toy Story (1995)|Animation| 72257|   5.0|1330111303|114709|   862|children|  204|children|      1|  0.96425|\n",
      "|      1|Toy Story (1995)|Adventure| 72257|   5.0|1330111303|114709|   862|children|  204|children|      1|  0.96425|\n",
      "+-------+----------------+---------+------+------+----------+------+------+--------+-----+--------+-------+---------+\n",
      "only showing top 20 rows\n",
      "\n"
     ]
    }
   ],
   "source": [
    "# Step 5\n",
    "# Join joined_df & joined_genome by tag and movieID\n",
    "joined_df_4 = joined_df_3.join(joined_genome, (joined_df_3.movieId == joined_genome.movieId) & (joined_df_3.tag == joined_genome.tag))\n",
    "joined_df_4.show()"
   ]
  },
  {
   "cell_type": "code",
   "execution_count": 28,
   "id": "9427880a",
   "metadata": {},
   "outputs": [
    {
     "name": "stdout",
     "output_type": "stream",
     "text": [
      "+-------+----------------+---------+------+------+----------+------+------+--------+-----+---------+\n",
      "|movieId|           title|   genres|userId|rating| timestamp|imdbId|tmdbId|     tag|tagId|relevance|\n",
      "+-------+----------------+---------+------+------+----------+------+------+--------+-----+---------+\n",
      "|      1|Toy Story (1995)|  Fantasy| 88055|   3.0|1339531962|114709|   862|children|  204|  0.96425|\n",
      "|      1|Toy Story (1995)|   Comedy| 88055|   3.0|1339531962|114709|   862|children|  204|  0.96425|\n",
      "|      1|Toy Story (1995)| Children| 88055|   3.0|1339531962|114709|   862|children|  204|  0.96425|\n",
      "|      1|Toy Story (1995)|Animation| 88055|   3.0|1339531962|114709|   862|children|  204|  0.96425|\n",
      "|      1|Toy Story (1995)|Adventure| 88055|   3.0|1339531962|114709|   862|children|  204|  0.96425|\n",
      "|      1|Toy Story (1995)|  Fantasy| 51492|   2.0|1378323565|114709|   862|children|  204|  0.96425|\n",
      "|      1|Toy Story (1995)|   Comedy| 51492|   2.0|1378323565|114709|   862|children|  204|  0.96425|\n",
      "|      1|Toy Story (1995)| Children| 51492|   2.0|1378323565|114709|   862|children|  204|  0.96425|\n",
      "|      1|Toy Story (1995)|Animation| 51492|   2.0|1378323565|114709|   862|children|  204|  0.96425|\n",
      "|      1|Toy Story (1995)|Adventure| 51492|   2.0|1378323565|114709|   862|children|  204|  0.96425|\n",
      "|      1|Toy Story (1995)|  Fantasy| 84441|   3.5|1176134235|114709|   862|children|  204|  0.96425|\n",
      "|      1|Toy Story (1995)|   Comedy| 84441|   3.5|1176134235|114709|   862|children|  204|  0.96425|\n",
      "|      1|Toy Story (1995)| Children| 84441|   3.5|1176134235|114709|   862|children|  204|  0.96425|\n",
      "|      1|Toy Story (1995)|Animation| 84441|   3.5|1176134235|114709|   862|children|  204|  0.96425|\n",
      "|      1|Toy Story (1995)|Adventure| 84441|   3.5|1176134235|114709|   862|children|  204|  0.96425|\n",
      "|      1|Toy Story (1995)|  Fantasy| 72257|   5.0|1330111303|114709|   862|children|  204|  0.96425|\n",
      "|      1|Toy Story (1995)|   Comedy| 72257|   5.0|1330111303|114709|   862|children|  204|  0.96425|\n",
      "|      1|Toy Story (1995)| Children| 72257|   5.0|1330111303|114709|   862|children|  204|  0.96425|\n",
      "|      1|Toy Story (1995)|Animation| 72257|   5.0|1330111303|114709|   862|children|  204|  0.96425|\n",
      "|      1|Toy Story (1995)|Adventure| 72257|   5.0|1330111303|114709|   862|children|  204|  0.96425|\n",
      "+-------+----------------+---------+------+------+----------+------+------+--------+-----+---------+\n",
      "only showing top 20 rows\n",
      "\n"
     ]
    }
   ],
   "source": [
    "# Remove Dupllicate\n",
    "joined_df_4 = dropDupeDfCols(joined_df_4)\n",
    "joined_df_4.show()"
   ]
  },
  {
   "cell_type": "code",
   "execution_count": 29,
   "id": "239afb70",
   "metadata": {},
   "outputs": [
    {
     "name": "stdout",
     "output_type": "stream",
     "text": [
      "+-------+------+-----+------+------+----------------+---------+------+---------+\n",
      "|movieId|userId|tagId|imdbId|tmdbId|           title|   genres|rating|relevance|\n",
      "+-------+------+-----+------+------+----------------+---------+------+---------+\n",
      "|      1| 88055|  204|114709|   862|Toy Story (1995)|  Fantasy|   3.0|  0.96425|\n",
      "|      1| 88055|  204|114709|   862|Toy Story (1995)|   Comedy|   3.0|  0.96425|\n",
      "|      1| 88055|  204|114709|   862|Toy Story (1995)| Children|   3.0|  0.96425|\n",
      "|      1| 88055|  204|114709|   862|Toy Story (1995)|Animation|   3.0|  0.96425|\n",
      "|      1| 88055|  204|114709|   862|Toy Story (1995)|Adventure|   3.0|  0.96425|\n",
      "|      1| 51492|  204|114709|   862|Toy Story (1995)|  Fantasy|   2.0|  0.96425|\n",
      "|      1| 51492|  204|114709|   862|Toy Story (1995)|   Comedy|   2.0|  0.96425|\n",
      "|      1| 51492|  204|114709|   862|Toy Story (1995)| Children|   2.0|  0.96425|\n",
      "|      1| 51492|  204|114709|   862|Toy Story (1995)|Animation|   2.0|  0.96425|\n",
      "|      1| 51492|  204|114709|   862|Toy Story (1995)|Adventure|   2.0|  0.96425|\n",
      "|      1| 84441|  204|114709|   862|Toy Story (1995)|  Fantasy|   3.5|  0.96425|\n",
      "|      1| 84441|  204|114709|   862|Toy Story (1995)|   Comedy|   3.5|  0.96425|\n",
      "|      1| 84441|  204|114709|   862|Toy Story (1995)| Children|   3.5|  0.96425|\n",
      "|      1| 84441|  204|114709|   862|Toy Story (1995)|Animation|   3.5|  0.96425|\n",
      "|      1| 84441|  204|114709|   862|Toy Story (1995)|Adventure|   3.5|  0.96425|\n",
      "|      1| 72257|  204|114709|   862|Toy Story (1995)|  Fantasy|   5.0|  0.96425|\n",
      "|      1| 72257|  204|114709|   862|Toy Story (1995)|   Comedy|   5.0|  0.96425|\n",
      "|      1| 72257|  204|114709|   862|Toy Story (1995)| Children|   5.0|  0.96425|\n",
      "|      1| 72257|  204|114709|   862|Toy Story (1995)|Animation|   5.0|  0.96425|\n",
      "|      1| 72257|  204|114709|   862|Toy Story (1995)|Adventure|   5.0|  0.96425|\n",
      "+-------+------+-----+------+------+----------------+---------+------+---------+\n",
      "only showing top 20 rows\n",
      "\n"
     ]
    }
   ],
   "source": [
    "df = joined_df_4.select(\"movieId\", \"userId\", \"tagId\", \"imdbId\", \"tmdbId\", \"title\", \"genres\", \"rating\", \"relevance\")\n",
    "df.show()"
   ]
  },
  {
   "cell_type": "code",
   "execution_count": null,
   "id": "36a00746",
   "metadata": {},
   "outputs": [],
   "source": [
    "from pyspark.sql.functions import sum as _sum\n",
    "from pyspark.sql.functions import countDistinct as _countDistinct\n",
    "from pyspark.sql.functions import avg as _avg\n",
    "\n",
    "\n",
    "dataset = joined_df_4.groupBy('userId','title').agg(_avg(rating))\n",
    "dataset.show()"
   ]
  },
  {
   "cell_type": "code",
   "execution_count": null,
   "id": "82385200",
   "metadata": {},
   "outputs": [],
   "source": [
    "# USING MLIB"
   ]
  },
  {
   "cell_type": "code",
   "execution_count": 30,
   "id": "ed8c276d",
   "metadata": {},
   "outputs": [],
   "source": [
    "from pyspark.ml.regression import DecisionTreeRegressor\n",
    "from pyspark.ml.evaluation import RegressionEvaluator\n",
    "from pyspark.ml.regression import LinearRegression\n",
    "from pyspark.ml.feature import StringIndexer\n",
    "from pyspark.ml.classification import DecisionTreeClassifier\n"
   ]
  },
  {
   "cell_type": "code",
   "execution_count": 31,
   "id": "8b7854f6",
   "metadata": {},
   "outputs": [],
   "source": [
    "# Import the required functions\n",
    "from pyspark.ml.evaluation import RegressionEvaluator\n",
    "from pyspark.ml.recommendation import ALS\n",
    "from pyspark.ml.tuning import ParamGridBuilder, CrossValidator\n",
    "\n",
    "# Create ALS model\n",
    "als = ALS(\n",
    "         userCol=\"userId\", \n",
    "         itemCol=\"movieId\",\n",
    "         ratingCol=\"rating\", \n",
    "         nonnegative = True, \n",
    "         implicitPrefs = False,\n",
    "         coldStartStrategy=\"drop\"\n",
    ")"
   ]
  },
  {
   "cell_type": "code",
   "execution_count": 33,
   "id": "f016e591",
   "metadata": {},
   "outputs": [],
   "source": [
    "# Import the requisite packages\n",
    "from pyspark.ml.tuning import ParamGridBuilder, CrossValidator\n",
    "from pyspark.ml.evaluation import RegressionEvaluator"
   ]
  },
  {
   "cell_type": "code",
   "execution_count": 34,
   "id": "9a6d9381",
   "metadata": {},
   "outputs": [],
   "source": [
    "# Add hyperparameters and their respective values to param_grid\n",
    "param_grid = ParamGridBuilder() \\\n",
    "            .addGrid(als.rank, [10, 50, 100, 150]) \\\n",
    "            .addGrid(als.regParam, [.01, .05, .1, .15]) \\\n",
    "            .build()"
   ]
  },
  {
   "cell_type": "code",
   "execution_count": 35,
   "id": "6eb19617",
   "metadata": {},
   "outputs": [
    {
     "name": "stdout",
     "output_type": "stream",
     "text": [
      "Num models to be tested:  16\n"
     ]
    }
   ],
   "source": [
    "# Define evaluator as RMSE and print length of evaluator\n",
    "evaluator = RegressionEvaluator(\n",
    "           metricName=\"rmse\", \n",
    "           labelCol=\"rating\", \n",
    "           predictionCol=\"prediction\") \n",
    "print (\"Num models to be tested: \", len(param_grid))"
   ]
  },
  {
   "cell_type": "code",
   "execution_count": 38,
   "id": "1dce0207",
   "metadata": {},
   "outputs": [],
   "source": [
    "# Build cross validation using CrossValidator\n",
    "cv = CrossValidator(estimator=als, estimatorParamMaps=param_grid, evaluator=evaluator, numFolds=5)"
   ]
  },
  {
   "cell_type": "code",
   "execution_count": 37,
   "id": "01c3a316",
   "metadata": {},
   "outputs": [
    {
     "name": "stdout",
     "output_type": "stream",
     "text": [
      "**Best Model**\n"
     ]
    },
    {
     "ename": "NameError",
     "evalue": "name 'best_model' is not defined",
     "output_type": "error",
     "traceback": [
      "\u001b[1;31m---------------------------------------------------------------------------\u001b[0m",
      "\u001b[1;31mNameError\u001b[0m                                 Traceback (most recent call last)",
      "Input \u001b[1;32mIn [37]\u001b[0m, in \u001b[0;36m<cell line: 3>\u001b[1;34m()\u001b[0m\n\u001b[0;32m      1\u001b[0m \u001b[38;5;28mprint\u001b[39m(\u001b[38;5;124m\"\u001b[39m\u001b[38;5;124m**Best Model**\u001b[39m\u001b[38;5;124m\"\u001b[39m)\n\u001b[0;32m      2\u001b[0m \u001b[38;5;66;03m# Print \"Rank\"\u001b[39;00m\n\u001b[1;32m----> 3\u001b[0m \u001b[38;5;28mprint\u001b[39m(\u001b[38;5;124m\"\u001b[39m\u001b[38;5;124m  Rank:\u001b[39m\u001b[38;5;124m\"\u001b[39m, \u001b[43mbest_model\u001b[49m\u001b[38;5;241m.\u001b[39m_java_obj\u001b[38;5;241m.\u001b[39mparent()\u001b[38;5;241m.\u001b[39mgetRank())\n\u001b[0;32m      4\u001b[0m \u001b[38;5;66;03m# Print \"MaxIter\"\u001b[39;00m\n\u001b[0;32m      5\u001b[0m \u001b[38;5;28mprint\u001b[39m(\u001b[38;5;124m\"\u001b[39m\u001b[38;5;124m  MaxIter:\u001b[39m\u001b[38;5;124m\"\u001b[39m, best_model\u001b[38;5;241m.\u001b[39m_java_obj\u001b[38;5;241m.\u001b[39mparent()\u001b[38;5;241m.\u001b[39mgetMaxIter())\n",
      "\u001b[1;31mNameError\u001b[0m: name 'best_model' is not defined"
     ]
    }
   ],
   "source": [
    "print(\"**Best Model**\")\n",
    "# Print \"Rank\"\n",
    "print(\"  Rank:\", best_model._java_obj.parent().getRank())\n",
    "# Print \"MaxIter\"\n",
    "print(\"  MaxIter:\", best_model._java_obj.parent().getMaxIter())\n",
    "# Print \"RegParam\"\n",
    "print(\"  RegParam:\", best_model._java_obj.parent().getRegParam())"
   ]
  },
  {
   "cell_type": "code",
   "execution_count": 39,
   "id": "cf94bf88",
   "metadata": {},
   "outputs": [
    {
     "ename": "NameError",
     "evalue": "name 'train' is not defined",
     "output_type": "error",
     "traceback": [
      "\u001b[1;31m---------------------------------------------------------------------------\u001b[0m",
      "\u001b[1;31mNameError\u001b[0m                                 Traceback (most recent call last)",
      "Input \u001b[1;32mIn [39]\u001b[0m, in \u001b[0;36m<cell line: 2>\u001b[1;34m()\u001b[0m\n\u001b[0;32m      1\u001b[0m \u001b[38;5;66;03m# Fit cross validator to the 'train' dataset\u001b[39;00m\n\u001b[1;32m----> 2\u001b[0m model \u001b[38;5;241m=\u001b[39m cv\u001b[38;5;241m.\u001b[39mfit(\u001b[43mtrain\u001b[49m)\n\u001b[0;32m      3\u001b[0m \u001b[38;5;66;03m#Extract best model from the cv model above\u001b[39;00m\n\u001b[0;32m      4\u001b[0m best_model \u001b[38;5;241m=\u001b[39m model\u001b[38;5;241m.\u001b[39mbestModel\n",
      "\u001b[1;31mNameError\u001b[0m: name 'train' is not defined"
     ]
    }
   ],
   "source": [
    "# Fit cross validator to the 'train' dataset\n",
    "model = cv.fit(train)\n",
    "#Extract best model from the cv model above\n",
    "best_model = model.bestModel\n",
    "# View the predictions\n",
    "test_predictions = best_model.transform(test)\n",
    "RMSE = evaluator.evaluate(test_predictions)\n",
    "print(RMSE)"
   ]
  },
  {
   "cell_type": "code",
   "execution_count": null,
   "id": "97b57f40",
   "metadata": {},
   "outputs": [],
   "source": []
  }
 ],
 "metadata": {
  "kernelspec": {
   "display_name": "Python 3 (ipykernel)",
   "language": "python",
   "name": "python3"
  },
  "language_info": {
   "codemirror_mode": {
    "name": "ipython",
    "version": 3
   },
   "file_extension": ".py",
   "mimetype": "text/x-python",
   "name": "python",
   "nbconvert_exporter": "python",
   "pygments_lexer": "ipython3",
   "version": "3.9.12"
  }
 },
 "nbformat": 4,
 "nbformat_minor": 5
}
